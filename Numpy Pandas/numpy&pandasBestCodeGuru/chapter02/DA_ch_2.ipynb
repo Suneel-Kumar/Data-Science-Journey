{
  "nbformat": 4,
  "nbformat_minor": 0,
  "metadata": {
    "colab": {
      "name": "DA_ch_2.ipynb",
      "provenance": []
    },
    "kernelspec": {
      "name": "python3",
      "display_name": "Python 3"
    }
  },
  "cells": [
    {
      "cell_type": "code",
      "metadata": {
        "id": "rrMACcDUszB-"
      },
      "source": [
        "#  chapter-2 \n",
        "#   topic 2.1\n",
        "#USE Data2 and Data3 files to work"
      ],
      "execution_count": null,
      "outputs": []
    },
    {
      "cell_type": "code",
      "metadata": {
        "id": "zLzeJbMq3rRb",
        "colab": {
          "base_uri": "https://localhost:8080/"
        },
        "outputId": "b77cd463-8456-4b2e-bcb7-756c05c8903b"
      },
      "source": [
        "# Import pandas\n",
        "import pandas as pd\n",
        "\n",
        "# Read 'Data2.csv' into a DataFrame: silver\n",
        "silver = pd.read_csv('Data2.csv')\n",
        "\n",
        "# Read 'Data3.csv' into a DataFrame: gold\n",
        "gold = pd.read_csv('Data3.csv')\n",
        "\n",
        "# Print the first five rows of gold\n",
        "print(gold.head())"
      ],
      "execution_count": 1,
      "outputs": [
        {
          "output_type": "stream",
          "text": [
            "  Country  gold  silver        date\n",
            "0   Qatar   200       0  2014-01-01\n",
            "1  Turkey   400       1  2015-02-02\n",
            "2   Dubai   600       2  2016-03-03\n",
            "3  Europe   800       3  2017-04-04\n",
            "4      UK     0       4  3017-05-05\n"
          ],
          "name": "stdout"
        }
      ]
    },
    {
      "cell_type": "code",
      "metadata": {
        "id": "PnJGKKW4-bmE",
        "colab": {
          "base_uri": "https://localhost:8080/"
        },
        "outputId": "242caa16-2964-466f-af2e-4d44ca47faa1"
      },
      "source": [
        "# Import pandas\n",
        "import pandas as pd\n",
        "\n",
        "# Create the list of file names: filenames\n",
        "filenames = ['Data2.csv', 'Data3.csv']\n",
        "\n",
        "# Create the list of three DataFrames: dataframes\n",
        "dataframes = []\n",
        "for i in filenames:\n",
        "    dataframes.append(pd.read_csv(i))\n",
        "\n",
        "# Print top 5 rows of 1st DataFrame in dataframes\n",
        "print(dataframes[1].head())"
      ],
      "execution_count": 2,
      "outputs": [
        {
          "output_type": "stream",
          "text": [
            "  Country  gold  silver        date\n",
            "0   Qatar   200       0  2014-01-01\n",
            "1  Turkey   400       1  2015-02-02\n",
            "2   Dubai   600       2  2016-03-03\n",
            "3  Europe   800       3  2017-04-04\n",
            "4      UK     0       4  3017-05-05\n"
          ],
          "name": "stdout"
        }
      ]
    },
    {
      "cell_type": "code",
      "metadata": {
        "id": "tt3OeAwU-q98",
        "colab": {
          "base_uri": "https://localhost:8080/"
        },
        "outputId": "d7cf11ba-29a1-4904-8a26-07d1fd86e7f1"
      },
      "source": [
        "# Import pandas\n",
        "import pandas as pd\n",
        "\n",
        "# Make a copy of gold: medals\n",
        "medals = gold.copy()\n",
        "\n",
        "# Create list of new column labels: new_labels\n",
        "new_labels = ['NOC', 'Country', 'Gold','Date']\n",
        "\n",
        "# Rename the columns of medals using new_labels\n",
        "medals.columns = new_labels\n",
        "print(medals)\n",
        "# Add columns 'silver' & 'gold' to medals\n",
        "medals['silver2'] = gold['silver']\n",
        "medals['gold2'] = gold['gold']\n",
        "\n",
        "# Print the head of medals\n",
        "print(medals.head())"
      ],
      "execution_count": 3,
      "outputs": [
        {
          "output_type": "stream",
          "text": [
            "      NOC  Country  Gold        Date\n",
            "0   Qatar      200     0  2014-01-01\n",
            "1  Turkey      400     1  2015-02-02\n",
            "2   Dubai      600     2  2016-03-03\n",
            "3  Europe      800     3  2017-04-04\n",
            "4      UK        0     4  3017-05-05\n",
            "      NOC  Country  Gold        Date  silver2  gold2\n",
            "0   Qatar      200     0  2014-01-01        0    200\n",
            "1  Turkey      400     1  2015-02-02        1    400\n",
            "2   Dubai      600     2  2016-03-03        2    600\n",
            "3  Europe      800     3  2017-04-04        3    800\n",
            "4      UK        0     4  3017-05-05        4      0\n"
          ],
          "name": "stdout"
        }
      ]
    },
    {
      "cell_type": "code",
      "metadata": {
        "id": "M-s6z0U5_Y2y",
        "colab": {
          "base_uri": "https://localhost:8080/"
        },
        "outputId": "7b4c0e58-fae5-4805-e36d-cb2827cea462"
      },
      "source": [
        "# Import pandas\n",
        "import pandas as pd\n",
        "\n",
        "# Read 'Data3.csv' into a DataFrame: weather1\n",
        "file1 = pd.read_csv('Data3.csv', index_col='Country')\n",
        "\n",
        "# Print the head of file1\n",
        "print(file1.head())\n",
        "\n",
        "# Sort the index of file1 in alphabetical order: file2\n",
        "file2 = file1.sort_index()\n",
        "\n",
        "# Print the head of file2\n",
        "print(file2.head())\n",
        "\n",
        "# Sort the index of file1 in reverse alphabetical order: file3\n",
        "file3 = file1.sort_index(ascending=False)\n",
        "\n",
        "# Print the head of file3\n",
        "print(file3.head())\n",
        "\n",
        "# Sort file1 numerically using the values of 'gold': file4\n",
        "file4 = file1.sort_values('gold')\n",
        "\n",
        "# Print the head of file4\n",
        "print(file4.head())"
      ],
      "execution_count": 4,
      "outputs": [
        {
          "output_type": "stream",
          "text": [
            "         gold  silver        date\n",
            "Country                          \n",
            "Qatar     200       0  2014-01-01\n",
            "Turkey    400       1  2015-02-02\n",
            "Dubai     600       2  2016-03-03\n",
            "Europe    800       3  2017-04-04\n",
            "UK          0       4  3017-05-05\n",
            "         gold  silver        date\n",
            "Country                          \n",
            "Dubai     600       2  2016-03-03\n",
            "Europe    800       3  2017-04-04\n",
            "Qatar     200       0  2014-01-01\n",
            "Turkey    400       1  2015-02-02\n",
            "UK          0       4  3017-05-05\n",
            "         gold  silver        date\n",
            "Country                          \n",
            "UK          0       4  3017-05-05\n",
            "Turkey    400       1  2015-02-02\n",
            "Qatar     200       0  2014-01-01\n",
            "Europe    800       3  2017-04-04\n",
            "Dubai     600       2  2016-03-03\n",
            "         gold  silver        date\n",
            "Country                          \n",
            "UK          0       4  3017-05-05\n",
            "Qatar     200       0  2014-01-01\n",
            "Turkey    400       1  2015-02-02\n",
            "Dubai     600       2  2016-03-03\n",
            "Europe    800       3  2017-04-04\n"
          ],
          "name": "stdout"
        }
      ]
    },
    {
      "cell_type": "code",
      "metadata": {
        "id": "1RbIr7SkDHw7",
        "colab": {
          "base_uri": "https://localhost:8080/",
          "height": 233
        },
        "outputId": "23b7ee8a-d7e8-4c91-db81-ab24ecd2b309"
      },
      "source": [
        "file1"
      ],
      "execution_count": null,
      "outputs": [
        {
          "output_type": "execute_result",
          "data": {
            "text/html": [
              "<div>\n",
              "<style scoped>\n",
              "    .dataframe tbody tr th:only-of-type {\n",
              "        vertical-align: middle;\n",
              "    }\n",
              "\n",
              "    .dataframe tbody tr th {\n",
              "        vertical-align: top;\n",
              "    }\n",
              "\n",
              "    .dataframe thead th {\n",
              "        text-align: right;\n",
              "    }\n",
              "</style>\n",
              "<table border=\"1\" class=\"dataframe\">\n",
              "  <thead>\n",
              "    <tr style=\"text-align: right;\">\n",
              "      <th></th>\n",
              "      <th>gold</th>\n",
              "      <th>silver</th>\n",
              "    </tr>\n",
              "    <tr>\n",
              "      <th>Country</th>\n",
              "      <th></th>\n",
              "      <th></th>\n",
              "    </tr>\n",
              "  </thead>\n",
              "  <tbody>\n",
              "    <tr>\n",
              "      <th>Qatar</th>\n",
              "      <td>200</td>\n",
              "      <td>0</td>\n",
              "    </tr>\n",
              "    <tr>\n",
              "      <th>Turkey</th>\n",
              "      <td>400</td>\n",
              "      <td>1</td>\n",
              "    </tr>\n",
              "    <tr>\n",
              "      <th>Dubai</th>\n",
              "      <td>600</td>\n",
              "      <td>2</td>\n",
              "    </tr>\n",
              "    <tr>\n",
              "      <th>Europe</th>\n",
              "      <td>800</td>\n",
              "      <td>3</td>\n",
              "    </tr>\n",
              "    <tr>\n",
              "      <th>UK</th>\n",
              "      <td>0</td>\n",
              "      <td>4</td>\n",
              "    </tr>\n",
              "  </tbody>\n",
              "</table>\n",
              "</div>"
            ],
            "text/plain": [
              "         gold  silver\n",
              "Country              \n",
              "Qatar     200       0\n",
              "Turkey    400       1\n",
              "Dubai     600       2\n",
              "Europe    800       3\n",
              "UK          0       4"
            ]
          },
          "metadata": {
            "tags": []
          },
          "execution_count": 37
        }
      ]
    },
    {
      "cell_type": "code",
      "metadata": {
        "id": "VQN3yuhLEPFm",
        "colab": {
          "base_uri": "https://localhost:8080/",
          "height": 377
        },
        "outputId": "1d5397c1-5906-4259-e49e-df3a0803428c"
      },
      "source": [
        "# Import pandas\n",
        "import pandas as pd\n",
        "file1 = pd.read_csv('Data2.csv', index_col='Country')\n",
        "# Print shape of common_names\n",
        "print(file1.shape)\n",
        "\n",
        "# Drop rows with null counts: common_names\n",
        "file5 = file1.dropna()\n",
        "\n",
        "# Print shape of new common_names\n",
        "print(file5.shape)\n",
        "file5"
      ],
      "execution_count": 5,
      "outputs": [
        {
          "output_type": "stream",
          "text": [
            "(11, 4)\n",
            "(9, 4)\n"
          ],
          "name": "stdout"
        },
        {
          "output_type": "execute_result",
          "data": {
            "text/html": [
              "<div>\n",
              "<style scoped>\n",
              "    .dataframe tbody tr th:only-of-type {\n",
              "        vertical-align: middle;\n",
              "    }\n",
              "\n",
              "    .dataframe tbody tr th {\n",
              "        vertical-align: top;\n",
              "    }\n",
              "\n",
              "    .dataframe thead th {\n",
              "        text-align: right;\n",
              "    }\n",
              "</style>\n",
              "<table border=\"1\" class=\"dataframe\">\n",
              "  <thead>\n",
              "    <tr style=\"text-align: right;\">\n",
              "      <th></th>\n",
              "      <th>cpc</th>\n",
              "      <th>drive_right</th>\n",
              "      <th>Purchased</th>\n",
              "      <th>pop</th>\n",
              "    </tr>\n",
              "    <tr>\n",
              "      <th>Country</th>\n",
              "      <th></th>\n",
              "      <th></th>\n",
              "      <th></th>\n",
              "      <th></th>\n",
              "    </tr>\n",
              "  </thead>\n",
              "  <tbody>\n",
              "    <tr>\n",
              "      <th>France</th>\n",
              "      <td>44</td>\n",
              "      <td>True</td>\n",
              "      <td>No</td>\n",
              "      <td>10.0</td>\n",
              "    </tr>\n",
              "    <tr>\n",
              "      <th>Spain</th>\n",
              "      <td>27</td>\n",
              "      <td>False</td>\n",
              "      <td>Yes</td>\n",
              "      <td>20.0</td>\n",
              "    </tr>\n",
              "    <tr>\n",
              "      <th>Germany</th>\n",
              "      <td>30</td>\n",
              "      <td>True</td>\n",
              "      <td>No</td>\n",
              "      <td>30.0</td>\n",
              "    </tr>\n",
              "    <tr>\n",
              "      <th>Spain</th>\n",
              "      <td>38</td>\n",
              "      <td>False</td>\n",
              "      <td>No</td>\n",
              "      <td>20.0</td>\n",
              "    </tr>\n",
              "    <tr>\n",
              "      <th>Germany</th>\n",
              "      <td>40</td>\n",
              "      <td>True</td>\n",
              "      <td>Yes</td>\n",
              "      <td>30.0</td>\n",
              "    </tr>\n",
              "    <tr>\n",
              "      <th>France</th>\n",
              "      <td>35</td>\n",
              "      <td>False</td>\n",
              "      <td>Yes</td>\n",
              "      <td>10.0</td>\n",
              "    </tr>\n",
              "    <tr>\n",
              "      <th>China</th>\n",
              "      <td>52</td>\n",
              "      <td>True</td>\n",
              "      <td>No</td>\n",
              "      <td>80.0</td>\n",
              "    </tr>\n",
              "    <tr>\n",
              "      <th>India</th>\n",
              "      <td>48</td>\n",
              "      <td>True</td>\n",
              "      <td>Yes</td>\n",
              "      <td>60.0</td>\n",
              "    </tr>\n",
              "    <tr>\n",
              "      <th>America</th>\n",
              "      <td>45</td>\n",
              "      <td>True</td>\n",
              "      <td>No</td>\n",
              "      <td>40.0</td>\n",
              "    </tr>\n",
              "  </tbody>\n",
              "</table>\n",
              "</div>"
            ],
            "text/plain": [
              "         cpc  drive_right Purchased   pop\n",
              "Country                                  \n",
              "France    44         True        No  10.0\n",
              "Spain     27        False       Yes  20.0\n",
              "Germany   30         True        No  30.0\n",
              "Spain     38        False        No  20.0\n",
              "Germany   40         True       Yes  30.0\n",
              "France    35        False       Yes  10.0\n",
              "China     52         True        No  80.0\n",
              "India     48         True       Yes  60.0\n",
              "America   45         True        No  40.0"
            ]
          },
          "metadata": {
            "tags": []
          },
          "execution_count": 5
        }
      ]
    },
    {
      "cell_type": "code",
      "metadata": {
        "id": "eI-PWAPUKeSz",
        "colab": {
          "base_uri": "https://localhost:8080/",
          "height": 225
        },
        "outputId": "ab2f8b94-4024-4260-c094-16a4fc96e0a1"
      },
      "source": [
        "# Import pandas\n",
        "import pandas as pd\n",
        "file6 = pd.read_csv('Data3.csv', index_col='Country')\n",
        "file6"
      ],
      "execution_count": 6,
      "outputs": [
        {
          "output_type": "execute_result",
          "data": {
            "text/html": [
              "<div>\n",
              "<style scoped>\n",
              "    .dataframe tbody tr th:only-of-type {\n",
              "        vertical-align: middle;\n",
              "    }\n",
              "\n",
              "    .dataframe tbody tr th {\n",
              "        vertical-align: top;\n",
              "    }\n",
              "\n",
              "    .dataframe thead th {\n",
              "        text-align: right;\n",
              "    }\n",
              "</style>\n",
              "<table border=\"1\" class=\"dataframe\">\n",
              "  <thead>\n",
              "    <tr style=\"text-align: right;\">\n",
              "      <th></th>\n",
              "      <th>gold</th>\n",
              "      <th>silver</th>\n",
              "      <th>date</th>\n",
              "    </tr>\n",
              "    <tr>\n",
              "      <th>Country</th>\n",
              "      <th></th>\n",
              "      <th></th>\n",
              "      <th></th>\n",
              "    </tr>\n",
              "  </thead>\n",
              "  <tbody>\n",
              "    <tr>\n",
              "      <th>Qatar</th>\n",
              "      <td>200</td>\n",
              "      <td>0</td>\n",
              "      <td>2014-01-01</td>\n",
              "    </tr>\n",
              "    <tr>\n",
              "      <th>Turkey</th>\n",
              "      <td>400</td>\n",
              "      <td>1</td>\n",
              "      <td>2015-02-02</td>\n",
              "    </tr>\n",
              "    <tr>\n",
              "      <th>Dubai</th>\n",
              "      <td>600</td>\n",
              "      <td>2</td>\n",
              "      <td>2016-03-03</td>\n",
              "    </tr>\n",
              "    <tr>\n",
              "      <th>Europe</th>\n",
              "      <td>800</td>\n",
              "      <td>3</td>\n",
              "      <td>2017-04-04</td>\n",
              "    </tr>\n",
              "    <tr>\n",
              "      <th>UK</th>\n",
              "      <td>0</td>\n",
              "      <td>4</td>\n",
              "      <td>3017-05-05</td>\n",
              "    </tr>\n",
              "  </tbody>\n",
              "</table>\n",
              "</div>"
            ],
            "text/plain": [
              "         gold  silver        date\n",
              "Country                          \n",
              "Qatar     200       0  2014-01-01\n",
              "Turkey    400       1  2015-02-02\n",
              "Dubai     600       2  2016-03-03\n",
              "Europe    800       3  2017-04-04\n",
              "UK          0       4  3017-05-05"
            ]
          },
          "metadata": {
            "tags": []
          },
          "execution_count": 6
        }
      ]
    },
    {
      "cell_type": "code",
      "metadata": {
        "id": "_km3ionHKX4B",
        "colab": {
          "base_uri": "https://localhost:8080/"
        },
        "outputId": "f2ce51e2-2c93-4ce8-bdef-8404e6edfcfe"
      },
      "source": [
        "# Extract selected columns from file as new DataFrame: file7\n",
        "file7 = file6[['gold', 'silver']]\n",
        "\n",
        "# Convert file7 to file8\n",
        "file8 = (file7 - 32) * 5/9\n",
        "\n",
        "# Rename 'gold' in column names with 'silver': file8\n",
        "file8.columns = file8.columns.str.replace('gold', 'silver')\n",
        "\n",
        "# Print first 5 rows of file8\n",
        "print(file8.head())"
      ],
      "execution_count": 7,
      "outputs": [
        {
          "output_type": "stream",
          "text": [
            "             silver     silver\n",
            "Country                       \n",
            "Qatar     93.333333 -17.777778\n",
            "Turkey   204.444444 -17.222222\n",
            "Dubai    315.555556 -16.666667\n",
            "Europe   426.666667 -16.111111\n",
            "UK       -17.777778 -15.555556\n"
          ],
          "name": "stdout"
        }
      ]
    },
    {
      "cell_type": "code",
      "metadata": {
        "id": "-M91hVh2QLWU"
      },
      "source": [
        "#  chapter-2 \n",
        "#   topic 2.2\n",
        "#USE Data2 and Data3 files to work"
      ],
      "execution_count": null,
      "outputs": []
    },
    {
      "cell_type": "code",
      "metadata": {
        "id": "9uoV4afYK_-b",
        "colab": {
          "base_uri": "https://localhost:8080/"
        },
        "outputId": "5ad384c6-690d-4d99-f220-4969cb640b1f"
      },
      "source": [
        "import pandas as pd\n",
        "\n",
        "# Read 'GDP.csv' into a DataFrame: gdp\n",
        "gdp = pd.read_csv('Data3.csv', parse_dates=True, index_col='date')\n",
        "random = pd.read_csv('data4.csv', parse_dates=True ,index_col='Date')\n",
        "\n",
        "print(gdp.set_index('gold', inplace=True))\n",
        "print(\"for gdp: \",isinstance(gdp.index, pd.DatetimeIndex))\n",
        "print(\"for random: \",isinstance(random.index, pd.DatetimeIndex))\n",
        "\n",
        "print(type(gdp.index))\n",
        "print(type(random.index))"
      ],
      "execution_count": 9,
      "outputs": [
        {
          "output_type": "stream",
          "text": [
            "None\n",
            "for gdp:  False\n",
            "for random:  True\n",
            "<class 'pandas.core.indexes.numeric.Int64Index'>\n",
            "<class 'pandas.core.indexes.datetimes.DatetimeIndex'>\n"
          ],
          "name": "stdout"
        }
      ]
    },
    {
      "cell_type": "code",
      "metadata": {
        "colab": {
          "base_uri": "https://localhost:8080/"
        },
        "id": "rH8tCJMKJsRi",
        "outputId": "c6ca6a9c-cf6c-42c4-8249-8aee0248643b"
      },
      "source": [
        "gdp = pd.read_csv('Data3.csv')\n",
        "\n",
        "gdp['date']=pd.to_datetime(gdp['date'], format='%Y-%m-%d', errors='coerce')\n",
        "print(gdp.info())\n",
        "print(gdp)\n",
        "\n",
        "# Slice all the gdp data from 2015 onward: post2015\n",
        "gdp=gdp.set_index('date')\n",
        "print(type(gdp.index))\n",
        "post2015 = gdp.loc['2015':]\n",
        "\n",
        "# Print the last 2 rows of post2015\n",
        "print(post2015)\n",
        "\n",
        "# Resample post2015 by year, keeping last(): yearly\n",
        "yearly = post2015.resample('M').mean()*2\n",
        "#yearly=post2015['gold']\n",
        "print(yearly)"
      ],
      "execution_count": 10,
      "outputs": [
        {
          "output_type": "stream",
          "text": [
            "<class 'pandas.core.frame.DataFrame'>\n",
            "RangeIndex: 5 entries, 0 to 4\n",
            "Data columns (total 4 columns):\n",
            " #   Column   Non-Null Count  Dtype         \n",
            "---  ------   --------------  -----         \n",
            " 0   Country  5 non-null      object        \n",
            " 1   gold     5 non-null      int64         \n",
            " 2   silver   5 non-null      int64         \n",
            " 3   date     4 non-null      datetime64[ns]\n",
            "dtypes: datetime64[ns](1), int64(2), object(1)\n",
            "memory usage: 288.0+ bytes\n",
            "None\n",
            "  Country  gold  silver       date\n",
            "0   Qatar   200       0 2014-01-01\n",
            "1  Turkey   400       1 2015-02-02\n",
            "2   Dubai   600       2 2016-03-03\n",
            "3  Europe   800       3 2017-04-04\n",
            "4      UK     0       4        NaT\n",
            "<class 'pandas.core.indexes.datetimes.DatetimeIndex'>\n",
            "           Country  gold  silver\n",
            "date                            \n",
            "2015-02-02  Turkey   400       1\n",
            "2016-03-03   Dubai   600       2\n",
            "2017-04-04  Europe   800       3\n",
            "              gold  silver\n",
            "date                      \n",
            "2015-02-28   800.0     2.0\n",
            "2015-03-31     NaN     NaN\n",
            "2015-04-30     NaN     NaN\n",
            "2015-05-31     NaN     NaN\n",
            "2015-06-30     NaN     NaN\n",
            "2015-07-31     NaN     NaN\n",
            "2015-08-31     NaN     NaN\n",
            "2015-09-30     NaN     NaN\n",
            "2015-10-31     NaN     NaN\n",
            "2015-11-30     NaN     NaN\n",
            "2015-12-31     NaN     NaN\n",
            "2016-01-31     NaN     NaN\n",
            "2016-02-29     NaN     NaN\n",
            "2016-03-31  1200.0     4.0\n",
            "2016-04-30     NaN     NaN\n",
            "2016-05-31     NaN     NaN\n",
            "2016-06-30     NaN     NaN\n",
            "2016-07-31     NaN     NaN\n",
            "2016-08-31     NaN     NaN\n",
            "2016-09-30     NaN     NaN\n",
            "2016-10-31     NaN     NaN\n",
            "2016-11-30     NaN     NaN\n",
            "2016-12-31     NaN     NaN\n",
            "2017-01-31     NaN     NaN\n",
            "2017-02-28     NaN     NaN\n",
            "2017-03-31     NaN     NaN\n",
            "2017-04-30  1600.0     6.0\n"
          ],
          "name": "stdout"
        }
      ]
    },
    {
      "cell_type": "code",
      "metadata": {
        "id": "OwDxIAE1MRxd",
        "colab": {
          "base_uri": "https://localhost:8080/"
        },
        "outputId": "ef1432f6-eb50-47e0-c47f-a9fe63fa69f6"
      },
      "source": [
        "import pandas as pd\n",
        "\n",
        "# Read 'sp500.csv' into a DataFrame: sp500\n",
        "sp500 = pd.read_csv('Data3.csv', parse_dates=True, index_col='date')\n",
        "\n",
        "# Subset 'Open' & 'Close' columns from sp500: dollars\n",
        "dollars = sp500[['gold', 'silver']]\n",
        "\n",
        "# Print the head of dollars\n",
        "print(dollars.head())\n"
      ],
      "execution_count": 11,
      "outputs": [
        {
          "output_type": "stream",
          "text": [
            "            gold  silver\n",
            "date                    \n",
            "2014-01-01   200       0\n",
            "2015-02-02   400       1\n",
            "2016-03-03   600       2\n",
            "2017-04-04   800       3\n",
            "3017-05-05     0       4\n"
          ],
          "name": "stdout"
        }
      ]
    },
    {
      "cell_type": "code",
      "metadata": {
        "id": "vJ06p7XPBSAN",
        "colab": {
          "base_uri": "https://localhost:8080/"
        },
        "outputId": "de3a6607-a32f-4026-a67f-339021d68644"
      },
      "source": [
        "# Import pandas\n",
        "import pandas as pd\n",
        "\n",
        "# Create the list of file names: filenames\n",
        "data_2 = pd.read_csv('Data2.csv')\n",
        "data_3 = pd.read_csv('Data3.csv')\n",
        "print(data_2)\n",
        "print(data_3)"
      ],
      "execution_count": 12,
      "outputs": [
        {
          "output_type": "stream",
          "text": [
            "     Country  cpc  drive_right Purchased   pop\n",
            "0     France   44         True        No  10.0\n",
            "1      Spain   27        False       Yes  20.0\n",
            "2    Germany   30         True        No  30.0\n",
            "3      Spain   38        False        No  20.0\n",
            "4    Germany   40         True       Yes  30.0\n",
            "5     France   35        False       Yes  10.0\n",
            "6      China   52         True        No  80.0\n",
            "7      India   48         True       Yes  60.0\n",
            "8    America   45         True        No  40.0\n",
            "9     Canada   12        False       Yes   NaN\n",
            "10  Pakistan   10         True       Yes   NaN\n",
            "  Country  gold  silver        date\n",
            "0   Qatar   200       0  2014-01-01\n",
            "1  Turkey   400       1  2015-02-02\n",
            "2   Dubai   600       2  2016-03-03\n",
            "3  Europe   800       3  2017-04-04\n",
            "4      UK     0       4  3017-05-05\n"
          ],
          "name": "stdout"
        }
      ]
    },
    {
      "cell_type": "code",
      "metadata": {
        "id": "AQnyxiNkBK-Z",
        "colab": {
          "base_uri": "https://localhost:8080/"
        },
        "outputId": "c6a31e78-8749-44d5-da67-57b524e30ecc"
      },
      "source": [
        "# Extract the 'cpc' column from data-2\n",
        "cpc_data = data_2['cpc']\n",
        "\n",
        "# Extract the 'gold' column from data3\n",
        "gold_data = data_3['gold']\n",
        "\n",
        "# Append cpc and then to gold: quarter1\n",
        "quarter1 = cpc_data.append(gold_data)\n",
        "# Compute & print total sales in quarter1\n",
        "print(quarter1.sum())\n",
        "quarter1"
      ],
      "execution_count": 13,
      "outputs": [
        {
          "output_type": "stream",
          "text": [
            "2381\n"
          ],
          "name": "stdout"
        },
        {
          "output_type": "execute_result",
          "data": {
            "text/plain": [
              "0      44\n",
              "1      27\n",
              "2      30\n",
              "3      38\n",
              "4      40\n",
              "5      35\n",
              "6      52\n",
              "7      48\n",
              "8      45\n",
              "9      12\n",
              "10     10\n",
              "0     200\n",
              "1     400\n",
              "2     600\n",
              "3     800\n",
              "4       0\n",
              "dtype: int64"
            ]
          },
          "metadata": {
            "tags": []
          },
          "execution_count": 13
        }
      ]
    },
    {
      "cell_type": "code",
      "metadata": {
        "id": "GfGkHpMBXJ4a",
        "colab": {
          "base_uri": "https://localhost:8080/"
        },
        "outputId": "63db3103-174f-4822-d226-157d9905b970"
      },
      "source": [
        "# Initialize empty list: units\n",
        "units = []\n",
        "\n",
        "# Build the list of Series\n",
        "for i in [cpc_data, gold_data]:\n",
        "    units.append(i)\n",
        "#print(units)\n",
        "# Concatenate the list: quarter1\n",
        "quarter1 = pd.concat([cpc_data,gold_data], axis='rows')\n",
        "print(quarter1)\n",
        "quarter2 = pd.concat(units, axis='columns')\n",
        "print(quarter2)"
      ],
      "execution_count": 14,
      "outputs": [
        {
          "output_type": "stream",
          "text": [
            "0      44\n",
            "1      27\n",
            "2      30\n",
            "3      38\n",
            "4      40\n",
            "5      35\n",
            "6      52\n",
            "7      48\n",
            "8      45\n",
            "9      12\n",
            "10     10\n",
            "0     200\n",
            "1     400\n",
            "2     600\n",
            "3     800\n",
            "4       0\n",
            "dtype: int64\n",
            "    cpc   gold\n",
            "0    44  200.0\n",
            "1    27  400.0\n",
            "2    30  600.0\n",
            "3    38  800.0\n",
            "4    40    0.0\n",
            "5    35    NaN\n",
            "6    52    NaN\n",
            "7    48    NaN\n",
            "8    45    NaN\n",
            "9    12    NaN\n",
            "10   10    NaN\n"
          ],
          "name": "stdout"
        }
      ]
    },
    {
      "cell_type": "code",
      "metadata": {
        "id": "BHQpmwrVRyCI",
        "colab": {
          "base_uri": "https://localhost:8080/",
          "height": 373
        },
        "outputId": "92ef85f9-bdb6-4761-cb52-c876195d40ce"
      },
      "source": [
        "data_2"
      ],
      "execution_count": 15,
      "outputs": [
        {
          "output_type": "execute_result",
          "data": {
            "text/html": [
              "<div>\n",
              "<style scoped>\n",
              "    .dataframe tbody tr th:only-of-type {\n",
              "        vertical-align: middle;\n",
              "    }\n",
              "\n",
              "    .dataframe tbody tr th {\n",
              "        vertical-align: top;\n",
              "    }\n",
              "\n",
              "    .dataframe thead th {\n",
              "        text-align: right;\n",
              "    }\n",
              "</style>\n",
              "<table border=\"1\" class=\"dataframe\">\n",
              "  <thead>\n",
              "    <tr style=\"text-align: right;\">\n",
              "      <th></th>\n",
              "      <th>Country</th>\n",
              "      <th>cpc</th>\n",
              "      <th>drive_right</th>\n",
              "      <th>Purchased</th>\n",
              "      <th>pop</th>\n",
              "    </tr>\n",
              "  </thead>\n",
              "  <tbody>\n",
              "    <tr>\n",
              "      <th>0</th>\n",
              "      <td>France</td>\n",
              "      <td>44</td>\n",
              "      <td>True</td>\n",
              "      <td>No</td>\n",
              "      <td>10.0</td>\n",
              "    </tr>\n",
              "    <tr>\n",
              "      <th>1</th>\n",
              "      <td>Spain</td>\n",
              "      <td>27</td>\n",
              "      <td>False</td>\n",
              "      <td>Yes</td>\n",
              "      <td>20.0</td>\n",
              "    </tr>\n",
              "    <tr>\n",
              "      <th>2</th>\n",
              "      <td>Germany</td>\n",
              "      <td>30</td>\n",
              "      <td>True</td>\n",
              "      <td>No</td>\n",
              "      <td>30.0</td>\n",
              "    </tr>\n",
              "    <tr>\n",
              "      <th>3</th>\n",
              "      <td>Spain</td>\n",
              "      <td>38</td>\n",
              "      <td>False</td>\n",
              "      <td>No</td>\n",
              "      <td>20.0</td>\n",
              "    </tr>\n",
              "    <tr>\n",
              "      <th>4</th>\n",
              "      <td>Germany</td>\n",
              "      <td>40</td>\n",
              "      <td>True</td>\n",
              "      <td>Yes</td>\n",
              "      <td>30.0</td>\n",
              "    </tr>\n",
              "    <tr>\n",
              "      <th>5</th>\n",
              "      <td>France</td>\n",
              "      <td>35</td>\n",
              "      <td>False</td>\n",
              "      <td>Yes</td>\n",
              "      <td>10.0</td>\n",
              "    </tr>\n",
              "    <tr>\n",
              "      <th>6</th>\n",
              "      <td>China</td>\n",
              "      <td>52</td>\n",
              "      <td>True</td>\n",
              "      <td>No</td>\n",
              "      <td>80.0</td>\n",
              "    </tr>\n",
              "    <tr>\n",
              "      <th>7</th>\n",
              "      <td>India</td>\n",
              "      <td>48</td>\n",
              "      <td>True</td>\n",
              "      <td>Yes</td>\n",
              "      <td>60.0</td>\n",
              "    </tr>\n",
              "    <tr>\n",
              "      <th>8</th>\n",
              "      <td>America</td>\n",
              "      <td>45</td>\n",
              "      <td>True</td>\n",
              "      <td>No</td>\n",
              "      <td>40.0</td>\n",
              "    </tr>\n",
              "    <tr>\n",
              "      <th>9</th>\n",
              "      <td>Canada</td>\n",
              "      <td>12</td>\n",
              "      <td>False</td>\n",
              "      <td>Yes</td>\n",
              "      <td>NaN</td>\n",
              "    </tr>\n",
              "    <tr>\n",
              "      <th>10</th>\n",
              "      <td>Pakistan</td>\n",
              "      <td>10</td>\n",
              "      <td>True</td>\n",
              "      <td>Yes</td>\n",
              "      <td>NaN</td>\n",
              "    </tr>\n",
              "  </tbody>\n",
              "</table>\n",
              "</div>"
            ],
            "text/plain": [
              "     Country  cpc  drive_right Purchased   pop\n",
              "0     France   44         True        No  10.0\n",
              "1      Spain   27        False       Yes  20.0\n",
              "2    Germany   30         True        No  30.0\n",
              "3      Spain   38        False        No  20.0\n",
              "4    Germany   40         True       Yes  30.0\n",
              "5     France   35        False       Yes  10.0\n",
              "6      China   52         True        No  80.0\n",
              "7      India   48         True       Yes  60.0\n",
              "8    America   45         True        No  40.0\n",
              "9     Canada   12        False       Yes   NaN\n",
              "10  Pakistan   10         True       Yes   NaN"
            ]
          },
          "metadata": {
            "tags": []
          },
          "execution_count": 15
        }
      ]
    },
    {
      "cell_type": "code",
      "metadata": {
        "id": "fRyuWi3jXUqF",
        "colab": {
          "base_uri": "https://localhost:8080/",
          "height": 521
        },
        "outputId": "bbbf940d-7791-4c1d-97bc-421be1f4f513"
      },
      "source": [
        "# Add 'year' column to data_2 and data_3\n",
        "data_2['year1'] = data_3['gold']\n",
        "data_2['year2'] = data_3['silver']\n",
        "data_2\n",
        "# Append names_1981 after names_1881 with ignore_index=True: combined_names\n",
        "combined_names = data_2.append(data_3, ignore_index=False)\n",
        "combined_names"
      ],
      "execution_count": 16,
      "outputs": [
        {
          "output_type": "execute_result",
          "data": {
            "text/html": [
              "<div>\n",
              "<style scoped>\n",
              "    .dataframe tbody tr th:only-of-type {\n",
              "        vertical-align: middle;\n",
              "    }\n",
              "\n",
              "    .dataframe tbody tr th {\n",
              "        vertical-align: top;\n",
              "    }\n",
              "\n",
              "    .dataframe thead th {\n",
              "        text-align: right;\n",
              "    }\n",
              "</style>\n",
              "<table border=\"1\" class=\"dataframe\">\n",
              "  <thead>\n",
              "    <tr style=\"text-align: right;\">\n",
              "      <th></th>\n",
              "      <th>Country</th>\n",
              "      <th>cpc</th>\n",
              "      <th>drive_right</th>\n",
              "      <th>Purchased</th>\n",
              "      <th>pop</th>\n",
              "      <th>year1</th>\n",
              "      <th>year2</th>\n",
              "      <th>gold</th>\n",
              "      <th>silver</th>\n",
              "      <th>date</th>\n",
              "    </tr>\n",
              "  </thead>\n",
              "  <tbody>\n",
              "    <tr>\n",
              "      <th>0</th>\n",
              "      <td>France</td>\n",
              "      <td>44.0</td>\n",
              "      <td>True</td>\n",
              "      <td>No</td>\n",
              "      <td>10.0</td>\n",
              "      <td>200.0</td>\n",
              "      <td>0.0</td>\n",
              "      <td>NaN</td>\n",
              "      <td>NaN</td>\n",
              "      <td>NaN</td>\n",
              "    </tr>\n",
              "    <tr>\n",
              "      <th>1</th>\n",
              "      <td>Spain</td>\n",
              "      <td>27.0</td>\n",
              "      <td>False</td>\n",
              "      <td>Yes</td>\n",
              "      <td>20.0</td>\n",
              "      <td>400.0</td>\n",
              "      <td>1.0</td>\n",
              "      <td>NaN</td>\n",
              "      <td>NaN</td>\n",
              "      <td>NaN</td>\n",
              "    </tr>\n",
              "    <tr>\n",
              "      <th>2</th>\n",
              "      <td>Germany</td>\n",
              "      <td>30.0</td>\n",
              "      <td>True</td>\n",
              "      <td>No</td>\n",
              "      <td>30.0</td>\n",
              "      <td>600.0</td>\n",
              "      <td>2.0</td>\n",
              "      <td>NaN</td>\n",
              "      <td>NaN</td>\n",
              "      <td>NaN</td>\n",
              "    </tr>\n",
              "    <tr>\n",
              "      <th>3</th>\n",
              "      <td>Spain</td>\n",
              "      <td>38.0</td>\n",
              "      <td>False</td>\n",
              "      <td>No</td>\n",
              "      <td>20.0</td>\n",
              "      <td>800.0</td>\n",
              "      <td>3.0</td>\n",
              "      <td>NaN</td>\n",
              "      <td>NaN</td>\n",
              "      <td>NaN</td>\n",
              "    </tr>\n",
              "    <tr>\n",
              "      <th>4</th>\n",
              "      <td>Germany</td>\n",
              "      <td>40.0</td>\n",
              "      <td>True</td>\n",
              "      <td>Yes</td>\n",
              "      <td>30.0</td>\n",
              "      <td>0.0</td>\n",
              "      <td>4.0</td>\n",
              "      <td>NaN</td>\n",
              "      <td>NaN</td>\n",
              "      <td>NaN</td>\n",
              "    </tr>\n",
              "    <tr>\n",
              "      <th>5</th>\n",
              "      <td>France</td>\n",
              "      <td>35.0</td>\n",
              "      <td>False</td>\n",
              "      <td>Yes</td>\n",
              "      <td>10.0</td>\n",
              "      <td>NaN</td>\n",
              "      <td>NaN</td>\n",
              "      <td>NaN</td>\n",
              "      <td>NaN</td>\n",
              "      <td>NaN</td>\n",
              "    </tr>\n",
              "    <tr>\n",
              "      <th>6</th>\n",
              "      <td>China</td>\n",
              "      <td>52.0</td>\n",
              "      <td>True</td>\n",
              "      <td>No</td>\n",
              "      <td>80.0</td>\n",
              "      <td>NaN</td>\n",
              "      <td>NaN</td>\n",
              "      <td>NaN</td>\n",
              "      <td>NaN</td>\n",
              "      <td>NaN</td>\n",
              "    </tr>\n",
              "    <tr>\n",
              "      <th>7</th>\n",
              "      <td>India</td>\n",
              "      <td>48.0</td>\n",
              "      <td>True</td>\n",
              "      <td>Yes</td>\n",
              "      <td>60.0</td>\n",
              "      <td>NaN</td>\n",
              "      <td>NaN</td>\n",
              "      <td>NaN</td>\n",
              "      <td>NaN</td>\n",
              "      <td>NaN</td>\n",
              "    </tr>\n",
              "    <tr>\n",
              "      <th>8</th>\n",
              "      <td>America</td>\n",
              "      <td>45.0</td>\n",
              "      <td>True</td>\n",
              "      <td>No</td>\n",
              "      <td>40.0</td>\n",
              "      <td>NaN</td>\n",
              "      <td>NaN</td>\n",
              "      <td>NaN</td>\n",
              "      <td>NaN</td>\n",
              "      <td>NaN</td>\n",
              "    </tr>\n",
              "    <tr>\n",
              "      <th>9</th>\n",
              "      <td>Canada</td>\n",
              "      <td>12.0</td>\n",
              "      <td>False</td>\n",
              "      <td>Yes</td>\n",
              "      <td>NaN</td>\n",
              "      <td>NaN</td>\n",
              "      <td>NaN</td>\n",
              "      <td>NaN</td>\n",
              "      <td>NaN</td>\n",
              "      <td>NaN</td>\n",
              "    </tr>\n",
              "    <tr>\n",
              "      <th>10</th>\n",
              "      <td>Pakistan</td>\n",
              "      <td>10.0</td>\n",
              "      <td>True</td>\n",
              "      <td>Yes</td>\n",
              "      <td>NaN</td>\n",
              "      <td>NaN</td>\n",
              "      <td>NaN</td>\n",
              "      <td>NaN</td>\n",
              "      <td>NaN</td>\n",
              "      <td>NaN</td>\n",
              "    </tr>\n",
              "    <tr>\n",
              "      <th>0</th>\n",
              "      <td>Qatar</td>\n",
              "      <td>NaN</td>\n",
              "      <td>NaN</td>\n",
              "      <td>NaN</td>\n",
              "      <td>NaN</td>\n",
              "      <td>NaN</td>\n",
              "      <td>NaN</td>\n",
              "      <td>200.0</td>\n",
              "      <td>0.0</td>\n",
              "      <td>2014-01-01</td>\n",
              "    </tr>\n",
              "    <tr>\n",
              "      <th>1</th>\n",
              "      <td>Turkey</td>\n",
              "      <td>NaN</td>\n",
              "      <td>NaN</td>\n",
              "      <td>NaN</td>\n",
              "      <td>NaN</td>\n",
              "      <td>NaN</td>\n",
              "      <td>NaN</td>\n",
              "      <td>400.0</td>\n",
              "      <td>1.0</td>\n",
              "      <td>2015-02-02</td>\n",
              "    </tr>\n",
              "    <tr>\n",
              "      <th>2</th>\n",
              "      <td>Dubai</td>\n",
              "      <td>NaN</td>\n",
              "      <td>NaN</td>\n",
              "      <td>NaN</td>\n",
              "      <td>NaN</td>\n",
              "      <td>NaN</td>\n",
              "      <td>NaN</td>\n",
              "      <td>600.0</td>\n",
              "      <td>2.0</td>\n",
              "      <td>2016-03-03</td>\n",
              "    </tr>\n",
              "    <tr>\n",
              "      <th>3</th>\n",
              "      <td>Europe</td>\n",
              "      <td>NaN</td>\n",
              "      <td>NaN</td>\n",
              "      <td>NaN</td>\n",
              "      <td>NaN</td>\n",
              "      <td>NaN</td>\n",
              "      <td>NaN</td>\n",
              "      <td>800.0</td>\n",
              "      <td>3.0</td>\n",
              "      <td>2017-04-04</td>\n",
              "    </tr>\n",
              "    <tr>\n",
              "      <th>4</th>\n",
              "      <td>UK</td>\n",
              "      <td>NaN</td>\n",
              "      <td>NaN</td>\n",
              "      <td>NaN</td>\n",
              "      <td>NaN</td>\n",
              "      <td>NaN</td>\n",
              "      <td>NaN</td>\n",
              "      <td>0.0</td>\n",
              "      <td>4.0</td>\n",
              "      <td>3017-05-05</td>\n",
              "    </tr>\n",
              "  </tbody>\n",
              "</table>\n",
              "</div>"
            ],
            "text/plain": [
              "     Country   cpc drive_right Purchased  ...  year2   gold  silver        date\n",
              "0     France  44.0        True        No  ...    0.0    NaN     NaN         NaN\n",
              "1      Spain  27.0       False       Yes  ...    1.0    NaN     NaN         NaN\n",
              "2    Germany  30.0        True        No  ...    2.0    NaN     NaN         NaN\n",
              "3      Spain  38.0       False        No  ...    3.0    NaN     NaN         NaN\n",
              "4    Germany  40.0        True       Yes  ...    4.0    NaN     NaN         NaN\n",
              "5     France  35.0       False       Yes  ...    NaN    NaN     NaN         NaN\n",
              "6      China  52.0        True        No  ...    NaN    NaN     NaN         NaN\n",
              "7      India  48.0        True       Yes  ...    NaN    NaN     NaN         NaN\n",
              "8    America  45.0        True        No  ...    NaN    NaN     NaN         NaN\n",
              "9     Canada  12.0       False       Yes  ...    NaN    NaN     NaN         NaN\n",
              "10  Pakistan  10.0        True       Yes  ...    NaN    NaN     NaN         NaN\n",
              "0      Qatar   NaN         NaN       NaN  ...    NaN  200.0     0.0  2014-01-01\n",
              "1     Turkey   NaN         NaN       NaN  ...    NaN  400.0     1.0  2015-02-02\n",
              "2      Dubai   NaN         NaN       NaN  ...    NaN  600.0     2.0  2016-03-03\n",
              "3     Europe   NaN         NaN       NaN  ...    NaN  800.0     3.0  2017-04-04\n",
              "4         UK   NaN         NaN       NaN  ...    NaN    0.0     4.0  3017-05-05\n",
              "\n",
              "[16 rows x 10 columns]"
            ]
          },
          "metadata": {
            "tags": []
          },
          "execution_count": 16
        }
      ]
    },
    {
      "cell_type": "code",
      "metadata": {
        "id": "bdLzVSqobN7F",
        "colab": {
          "base_uri": "https://localhost:8080/"
        },
        "outputId": "117aa6bc-9cf9-4e66-aec1-2c0fb9f976f5"
      },
      "source": [
        "# Sort the entries of cpc:\n",
        "cpc_sorted = data_2.sort_index(level=0)\n",
        "print(cpc_sorted)\n",
        "# Print the number for china and india\n",
        "print(cpc_sorted.iloc[2:4,:])\n",
        "\n",
        "# Print data about silver medals\n",
        "print(cpc_sorted.iloc[4])"
      ],
      "execution_count": 17,
      "outputs": [
        {
          "output_type": "stream",
          "text": [
            "     Country  cpc  drive_right Purchased   pop  year1  year2\n",
            "0     France   44         True        No  10.0  200.0    0.0\n",
            "1      Spain   27        False       Yes  20.0  400.0    1.0\n",
            "2    Germany   30         True        No  30.0  600.0    2.0\n",
            "3      Spain   38        False        No  20.0  800.0    3.0\n",
            "4    Germany   40         True       Yes  30.0    0.0    4.0\n",
            "5     France   35        False       Yes  10.0    NaN    NaN\n",
            "6      China   52         True        No  80.0    NaN    NaN\n",
            "7      India   48         True       Yes  60.0    NaN    NaN\n",
            "8    America   45         True        No  40.0    NaN    NaN\n",
            "9     Canada   12        False       Yes   NaN    NaN    NaN\n",
            "10  Pakistan   10         True       Yes   NaN    NaN    NaN\n",
            "   Country  cpc  drive_right Purchased   pop  year1  year2\n",
            "2  Germany   30         True        No  30.0  600.0    2.0\n",
            "3    Spain   38        False        No  20.0  800.0    3.0\n",
            "Country        Germany\n",
            "cpc                 40\n",
            "drive_right       True\n",
            "Purchased          Yes\n",
            "pop                 30\n",
            "year1                0\n",
            "year2                4\n",
            "Name: 4, dtype: object\n"
          ],
          "name": "stdout"
        }
      ]
    },
    {
      "cell_type": "code",
      "metadata": {
        "id": "4p72t1DkOrrp"
      },
      "source": [
        "#  chapter-2 \n",
        "#   topic 2.3: You'll explore different techniques for merging, \n",
        "# and learn about left joins, right joins, inner joins, and outer joins, \n",
        "# as well as when to use which.\n",
        "# merge, merge_asof, merge_ordered\n",
        "#USE Book1 and Book2 files to work"
      ],
      "execution_count": null,
      "outputs": []
    },
    {
      "cell_type": "code",
      "metadata": {
        "id": "AP0sAsHdWrEG",
        "colab": {
          "base_uri": "https://localhost:8080/"
        },
        "outputId": "519d31ac-d61e-4cbe-a675-cc4f5286587e"
      },
      "source": [
        "# Create the list of file names: filenames\n",
        "import pandas as pd\n",
        "\n",
        "revenue = pd.read_csv('Book1.csv')\n",
        "managers = pd.read_csv('Book2.csv')\n",
        "print(revenue)\n",
        "print(managers)"
      ],
      "execution_count": 19,
      "outputs": [
        {
          "output_type": "stream",
          "text": [
            "     city  revenue  branch_id\n",
            "0  austin      100         10\n",
            "1  denver       83         20\n",
            "2  spring        4         30\n",
            "3  mexico      200         47\n",
            "     city managers  branch_id\n",
            "0  austin      tom         10\n",
            "1  denver      jon         20\n",
            "2  mexico  charles         47\n",
            "3  spring    jassy         31\n"
          ],
          "name": "stdout"
        }
      ]
    },
    {
      "cell_type": "code",
      "metadata": {
        "id": "j3f5QFpKlVJr",
        "colab": {
          "base_uri": "https://localhost:8080/",
          "height": 166
        },
        "outputId": "3be87002-35bc-40f7-e226-7cdbbc1b08de"
      },
      "source": [
        "managers['branch']=managers['city']\n",
        "managers"
      ],
      "execution_count": 20,
      "outputs": [
        {
          "output_type": "execute_result",
          "data": {
            "text/html": [
              "<div>\n",
              "<style scoped>\n",
              "    .dataframe tbody tr th:only-of-type {\n",
              "        vertical-align: middle;\n",
              "    }\n",
              "\n",
              "    .dataframe tbody tr th {\n",
              "        vertical-align: top;\n",
              "    }\n",
              "\n",
              "    .dataframe thead th {\n",
              "        text-align: right;\n",
              "    }\n",
              "</style>\n",
              "<table border=\"1\" class=\"dataframe\">\n",
              "  <thead>\n",
              "    <tr style=\"text-align: right;\">\n",
              "      <th></th>\n",
              "      <th>city</th>\n",
              "      <th>managers</th>\n",
              "      <th>branch_id</th>\n",
              "      <th>branch</th>\n",
              "    </tr>\n",
              "  </thead>\n",
              "  <tbody>\n",
              "    <tr>\n",
              "      <th>0</th>\n",
              "      <td>austin</td>\n",
              "      <td>tom</td>\n",
              "      <td>10</td>\n",
              "      <td>austin</td>\n",
              "    </tr>\n",
              "    <tr>\n",
              "      <th>1</th>\n",
              "      <td>denver</td>\n",
              "      <td>jon</td>\n",
              "      <td>20</td>\n",
              "      <td>denver</td>\n",
              "    </tr>\n",
              "    <tr>\n",
              "      <th>2</th>\n",
              "      <td>mexico</td>\n",
              "      <td>charles</td>\n",
              "      <td>47</td>\n",
              "      <td>mexico</td>\n",
              "    </tr>\n",
              "    <tr>\n",
              "      <th>3</th>\n",
              "      <td>spring</td>\n",
              "      <td>jassy</td>\n",
              "      <td>31</td>\n",
              "      <td>spring</td>\n",
              "    </tr>\n",
              "  </tbody>\n",
              "</table>\n",
              "</div>"
            ],
            "text/plain": [
              "     city managers  branch_id  branch\n",
              "0  austin      tom         10  austin\n",
              "1  denver      jon         20  denver\n",
              "2  mexico  charles         47  mexico\n",
              "3  spring    jassy         31  spring"
            ]
          },
          "metadata": {
            "tags": []
          },
          "execution_count": 20
        }
      ]
    },
    {
      "cell_type": "code",
      "metadata": {
        "id": "-adQ9MiNOtpp",
        "colab": {
          "base_uri": "https://localhost:8080/"
        },
        "outputId": "e6e8969e-d206-4c78-dc49-03a3f022f691"
      },
      "source": [
        "# Merge revenue with managers on 'city': merge_by_city\n",
        "merge_by_city = pd.merge(revenue, managers, on='city')\n",
        "\n",
        "# Print merge_by_city\n",
        "print(merge_by_city)\n",
        "\n",
        "# Merge revenue with managers on 'branch_id': merge_by_id\n",
        "merge_by_id = pd.merge(revenue, managers, on='branch_id')\n",
        "\n",
        "# Print merge_by_id\n",
        "print(merge_by_id)"
      ],
      "execution_count": 21,
      "outputs": [
        {
          "output_type": "stream",
          "text": [
            "     city  revenue  branch_id_x managers  branch_id_y  branch\n",
            "0  austin      100           10      tom           10  austin\n",
            "1  denver       83           20      jon           20  denver\n",
            "2  spring        4           30    jassy           31  spring\n",
            "3  mexico      200           47  charles           47  mexico\n",
            "   city_x  revenue  branch_id  city_y managers  branch\n",
            "0  austin      100         10  austin      tom  austin\n",
            "1  denver       83         20  denver      jon  denver\n",
            "2  mexico      200         47  mexico  charles  mexico\n"
          ],
          "name": "stdout"
        }
      ]
    },
    {
      "cell_type": "markdown",
      "metadata": {
        "id": "YRT0a3HDlVuf"
      },
      "source": [
        "![1_9eH1_7VbTZPZd9jBiGIyNA.png](data:image/png;base64,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)"
      ]
    },
    {
      "cell_type": "code",
      "metadata": {
        "id": "vlF_u-c5XEEE",
        "colab": {
          "base_uri": "https://localhost:8080/"
        },
        "outputId": "fb5314e8-6b21-4397-8c16-01e98a9ea1e9"
      },
      "source": [
        "# Merge revenue & managers on 'city' & 'branch': combined\n",
        "combined = pd.merge(revenue, managers, left_on='city', right_on='branch')\n",
        "\n",
        "# Print combined\n",
        "print(combined)"
      ],
      "execution_count": 22,
      "outputs": [
        {
          "output_type": "stream",
          "text": [
            "   city_x  revenue  branch_id_x  city_y managers  branch_id_y  branch\n",
            "0  austin      100           10  austin      tom           10  austin\n",
            "1  denver       83           20  denver      jon           20  denver\n",
            "2  spring        4           30  spring    jassy           31  spring\n",
            "3  mexico      200           47  mexico  charles           47  mexico\n"
          ],
          "name": "stdout"
        }
      ]
    },
    {
      "cell_type": "code",
      "metadata": {
        "id": "tSOdopg_cL0M",
        "colab": {
          "base_uri": "https://localhost:8080/"
        },
        "outputId": "ed26b8df-a274-40fe-d07a-3ef794a7af70"
      },
      "source": [
        "# Add 'state' column to revenue: revenue['state']\n",
        "revenue['state'] = ['TX','CO','IL','CA']\n",
        "\n",
        "# Add 'state' column to managers: managers['state']\n",
        "managers['state'] = ['TX','CO','CA','MO']\n",
        "\n",
        "print(revenue)\n",
        "print(managers)\n",
        "\n",
        "# Merge revenue & managers on 'branch_id', 'city', & 'state': combined\n",
        "combined = pd.merge(revenue, managers, on=['branch_id', 'city', 'state'])\n",
        "\n",
        "# Print combined\n",
        "print(combined)"
      ],
      "execution_count": 23,
      "outputs": [
        {
          "output_type": "stream",
          "text": [
            "     city  revenue  branch_id state\n",
            "0  austin      100         10    TX\n",
            "1  denver       83         20    CO\n",
            "2  spring        4         30    IL\n",
            "3  mexico      200         47    CA\n",
            "     city managers  branch_id  branch state\n",
            "0  austin      tom         10  austin    TX\n",
            "1  denver      jon         20  denver    CO\n",
            "2  mexico  charles         47  mexico    CA\n",
            "3  spring    jassy         31  spring    MO\n",
            "     city  revenue  branch_id state managers  branch\n",
            "0  austin      100         10    TX      tom  austin\n",
            "1  denver       83         20    CO      jon  denver\n",
            "2  mexico      200         47    CA  charles  mexico\n"
          ],
          "name": "stdout"
        }
      ]
    },
    {
      "cell_type": "code",
      "metadata": {
        "id": "RQe3O5iwlz_O",
        "colab": {
          "base_uri": "https://localhost:8080/"
        },
        "outputId": "a0cef12e-c809-4127-efa3-0704a80772fc"
      },
      "source": [
        "# Merge revenue and sales: revenue_and_sales\n",
        "revenue_and_sales = pd.merge(revenue, managers, how='right', on=['city', 'state'])\n",
        "revenue_and_sales2 = pd.merge(revenue, managers, how='left', on=['city', 'state'])\n",
        "# Print revenue_and_sales\n",
        "print(revenue_and_sales)\n",
        "print(revenue_and_sales2)\n",
        "# Merge sales and managers: sales_and_managers\n",
        "sales_and_managers = pd.merge(revenue, managers, how='left', left_on=['city'], right_on=['state'])\n",
        "\n",
        "# Print sales_and_managers\n",
        "print(sales_and_managers)"
      ],
      "execution_count": 24,
      "outputs": [
        {
          "output_type": "stream",
          "text": [
            "     city  revenue  branch_id_x state managers  branch_id_y  branch\n",
            "0  austin    100.0         10.0    TX      tom           10  austin\n",
            "1  denver     83.0         20.0    CO      jon           20  denver\n",
            "2  mexico    200.0         47.0    CA  charles           47  mexico\n",
            "3  spring      NaN          NaN    MO    jassy           31  spring\n",
            "     city  revenue  branch_id_x state managers  branch_id_y  branch\n",
            "0  austin      100           10    TX      tom         10.0  austin\n",
            "1  denver       83           20    CO      jon         20.0  denver\n",
            "2  spring        4           30    IL      NaN          NaN     NaN\n",
            "3  mexico      200           47    CA  charles         47.0  mexico\n",
            "   city_x  revenue  branch_id_x state_x  ... managers branch_id_y  branch state_y\n",
            "0  austin      100           10      TX  ...      NaN         NaN     NaN     NaN\n",
            "1  denver       83           20      CO  ...      NaN         NaN     NaN     NaN\n",
            "2  spring        4           30      IL  ...      NaN         NaN     NaN     NaN\n",
            "3  mexico      200           47      CA  ...      NaN         NaN     NaN     NaN\n",
            "\n",
            "[4 rows x 9 columns]\n"
          ],
          "name": "stdout"
        }
      ]
    },
    {
      "cell_type": "code",
      "metadata": {
        "id": "SYu29ij8maTz",
        "colab": {
          "base_uri": "https://localhost:8080/"
        },
        "outputId": "da5e086c-82b0-4275-8e45-54e3ce9724be"
      },
      "source": [
        "# Merge revenue & managers on 'branch_id', 'city', & 'state': combined\n",
        "combined_outer = pd.merge(revenue, managers, on=['city', 'state'], how='outer')\n",
        "#merge_outer_on = pd.merge(sales_and_managers, revenue_and_sales, on=['city', 'state'], how='outer')\n",
        "sales_and_managers.to_csv('sales_and_managers.csv')\n",
        "# Print combined\n",
        "print(combined_outer)"
      ],
      "execution_count": 25,
      "outputs": [
        {
          "output_type": "stream",
          "text": [
            "     city  revenue  branch_id_x state managers  branch_id_y  branch\n",
            "0  austin    100.0         10.0    TX      tom         10.0  austin\n",
            "1  denver     83.0         20.0    CO      jon         20.0  denver\n",
            "2  spring      4.0         30.0    IL      NaN          NaN     NaN\n",
            "3  mexico    200.0         47.0    CA  charles         47.0  mexico\n",
            "4  spring      NaN          NaN    MO    jassy         31.0  spring\n"
          ],
          "name": "stdout"
        }
      ]
    },
    {
      "cell_type": "code",
      "metadata": {
        "id": "kMpsew9V3nt1",
        "colab": {
          "base_uri": "https://localhost:8080/"
        },
        "outputId": "4d679124-f186-4143-c610-c2fe9c62897b"
      },
      "source": [
        "print(revenue)\n",
        "print(managers)"
      ],
      "execution_count": 26,
      "outputs": [
        {
          "output_type": "stream",
          "text": [
            "     city  revenue  branch_id state\n",
            "0  austin      100         10    TX\n",
            "1  denver       83         20    CO\n",
            "2  spring        4         30    IL\n",
            "3  mexico      200         47    CA\n",
            "     city managers  branch_id  branch state\n",
            "0  austin      tom         10  austin    TX\n",
            "1  denver      jon         20  denver    CO\n",
            "2  mexico  charles         47  mexico    CA\n",
            "3  spring    jassy         31  spring    MO\n"
          ],
          "name": "stdout"
        }
      ]
    },
    {
      "cell_type": "code",
      "metadata": {
        "colab": {
          "base_uri": "https://localhost:8080/"
        },
        "id": "27X4beSNpNA-",
        "outputId": "6f0dafef-38e9-4504-8cfb-536b27553d72"
      },
      "source": [
        "import pandas as pd\r\n",
        "left = pd.DataFrame({\"a\": [1, 5, 10], \"left_val\": [\"a\", \"b\", \"c\"], \"Tag\": [\"big\", \"small\", \"medium\"] })\r\n",
        "right = pd.DataFrame({\"a\": [1, 2, 3, 6, 7], \"right_val\": [1, 2, 3, 6, 7], \"Tag\": [\"big\", \"small\", \"medium\",\"small\",\"large\"]})\r\n",
        "print(left)\r\n",
        "print(right)\r\n",
        "\r\n",
        "\r\n",
        "print(pd.merge_asof(left, right, on=\"a\",by=\"Tag\"))\r\n",
        "print(pd.merge_asof(left, right, on=\"a\", direction=\"forward\"))\r\n",
        "\r\n",
        "# Merge revenue and managers\r\n",
        "#merged = pd.merge_asof(revenue, managers, on='branch_id')\r\n",
        "\r\n",
        "# Print the tail of merged\r\n",
        "#print(merged.tail())"
      ],
      "execution_count": 27,
      "outputs": [
        {
          "output_type": "stream",
          "text": [
            "    a left_val     Tag\n",
            "0   1        a     big\n",
            "1   5        b   small\n",
            "2  10        c  medium\n",
            "   a  right_val     Tag\n",
            "0  1          1     big\n",
            "1  2          2   small\n",
            "2  3          3  medium\n",
            "3  6          6   small\n",
            "4  7          7   large\n",
            "    a left_val     Tag  right_val\n",
            "0   1        a     big          1\n",
            "1   5        b   small          2\n",
            "2  10        c  medium          3\n",
            "    a left_val   Tag_x  right_val  Tag_y\n",
            "0   1        a     big        1.0    big\n",
            "1   5        b   small        6.0  small\n",
            "2  10        c  medium        NaN    NaN\n"
          ],
          "name": "stdout"
        }
      ]
    },
    {
      "cell_type": "code",
      "metadata": {
        "id": "NVHbNeZp2www",
        "colab": {
          "base_uri": "https://localhost:8080/"
        },
        "outputId": "d3195ee5-c4e9-4c15-d494-adcda4173860"
      },
      "source": [
        "# Perform the first ordered merge: tx_weather\n",
        "tx_order = pd.merge_ordered(revenue, managers, fill_method=\"ffill\")\n",
        "\n",
        "\n",
        "# Print tx_weather\n",
        "print(tx_order)\n",
        "print(pd.merge(revenue, managers))"
      ],
      "execution_count": 28,
      "outputs": [
        {
          "output_type": "stream",
          "text": [
            "     city  revenue  branch_id state managers  branch\n",
            "0  austin      100         10    TX      tom  austin\n",
            "1  denver       83         20    CO      jon  denver\n",
            "2  mexico      200         47    CA  charles  mexico\n",
            "3  spring        4         30    IL  charles  mexico\n",
            "4  spring        4         31    MO    jassy  spring\n",
            "     city  revenue  branch_id state managers  branch\n",
            "0  austin      100         10    TX      tom  austin\n",
            "1  denver       83         20    CO      jon  denver\n",
            "2  mexico      200         47    CA  charles  mexico\n"
          ],
          "name": "stdout"
        }
      ]
    }
  ]
}