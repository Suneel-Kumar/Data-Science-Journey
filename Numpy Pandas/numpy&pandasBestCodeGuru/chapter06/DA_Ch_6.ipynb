{
  "nbformat": 4,
  "nbformat_minor": 0,
  "metadata": {
    "colab": {
      "name": "DA_Ch_6.ipynb",
      "provenance": [],
      "collapsed_sections": [],
      "toc_visible": true
    },
    "kernelspec": {
      "name": "python3",
      "display_name": "Python 3"
    }
  },
  "cells": [
    {
      "cell_type": "code",
      "metadata": {
        "colab": {
          "base_uri": "https://localhost:8080/"
        },
        "id": "c22gfsIA5qoo",
        "outputId": "178381e7-ded4-4165-a58f-1808a254bd6e"
      },
      "source": [
        "from google.colab import drive\n",
        "drive.mount('/content/gdrive')"
      ],
      "execution_count": null,
      "outputs": [
        {
          "output_type": "stream",
          "text": [
            "Drive already mounted at /content/gdrive; to attempt to forcibly remount, call drive.mount(\"/content/gdrive\", force_remount=True).\n"
          ],
          "name": "stdout"
        }
      ]
    },
    {
      "cell_type": "code",
      "metadata": {
        "colab": {
          "base_uri": "https://localhost:8080/"
        },
        "id": "9MqmmnpV55dR",
        "outputId": "8a1402c3-6816-464c-a8e8-6750f6ad1840"
      },
      "source": [
        "%cd /content/gdrive/MyDrive/Colab Notebooks/MOOCs/Data Analysis with Python/Chapter_6"
      ],
      "execution_count": null,
      "outputs": [
        {
          "output_type": "stream",
          "text": [
            "/content/gdrive/MyDrive/Colab Notebooks/MOOCs/Data Analysis with Python/Chapter_6\n"
          ],
          "name": "stdout"
        }
      ]
    },
    {
      "cell_type": "markdown",
      "metadata": {
        "id": "HjMaJmQ08Tyh"
      },
      "source": [
        "# **Chapter 6**\n"
      ]
    },
    {
      "cell_type": "markdown",
      "metadata": {
        "id": "PSK1GxIl8YH0"
      },
      "source": [
        "## Topic 6.1\n",
        "The first step of almost any data project is to read the data, check for errors and special cases, and prepare data for analysis."
      ]
    },
    {
      "cell_type": "markdown",
      "metadata": {
        "id": "yg4qsP-s_i4F"
      },
      "source": [
        "The fundamental goal of data science is to use data to answer questions and guide decision making.\r\n",
        "\r\n",
        "As an example, we'll start with a simple question: what is the average birth weight of babies in the United States?\r\n",
        "\r\n",
        "To answer a question like this, we have to find an appropriate dataset or run an experiment to collect it. Then we have to get the data into our development environment and prepare it for analysis, which involves cleaning and validation.\r\n",
        "\r\n",
        "For this question we'll use data from the National Survey of Family Growth, which is available from the National Center for Health Statistics.\r\n",
        "\r\n",
        "Their 2013-2015 dataset includes information about a sample of women in the U.S. and their children.\r\n",
        "\r\n",
        "The Python library we'll use to read and analyze data is Pandas, which we'll import as pd."
      ]
    },
    {
      "cell_type": "code",
      "metadata": {
        "id": "yRmkdH2E8mtG",
        "colab": {
          "base_uri": "https://localhost:8080/"
        },
        "outputId": "efe75e42-597d-4ca5-b562-5b3f5bcd23d8"
      },
      "source": [
        "# Import packages\n",
        "import matplotlib.pyplot as plt\n",
        "import numpy as np\n",
        "import pandas as pd\n",
        "\n",
        "# Read hdf5 file\n",
        "nsfg = pd.read_hdf('nsfg.hdf5')\n",
        "for key in nsfg.keys():\n",
        "    print(key)\n",
        "# Select column birthwgt_oz1: ounces\n",
        "ounces = nsfg['birthwgt_oz1']"
      ],
      "execution_count": null,
      "outputs": [
        {
          "output_type": "stream",
          "text": [
            "caseid\n",
            "outcome\n",
            "birthwgt_lb1\n",
            "birthwgt_oz1\n",
            "prglngth\n",
            "nbrnaliv\n",
            "agecon\n",
            "agepreg\n",
            "hpagelb\n",
            "wgt2013_2015\n"
          ],
          "name": "stdout"
        }
      ]
    },
    {
      "cell_type": "code",
      "metadata": {
        "colab": {
          "base_uri": "https://localhost:8080/"
        },
        "id": "1TmXIBDr-Aa0",
        "outputId": "b4c39931-b696-430f-c7a6-2c4b7d2a6790"
      },
      "source": [
        "# Print the first 5 elements of ounces\n",
        "print(ounces.head())"
      ],
      "execution_count": null,
      "outputs": [
        {
          "output_type": "stream",
          "text": [
            "0     4.0\n",
            "1    12.0\n",
            "2     4.0\n",
            "3     NaN\n",
            "4    13.0\n",
            "Name: birthwgt_oz1, dtype: float64\n"
          ],
          "name": "stdout"
        }
      ]
    },
    {
      "cell_type": "code",
      "metadata": {
        "colab": {
          "base_uri": "https://localhost:8080/"
        },
        "id": "YeZh1fu0-agY",
        "outputId": "2d5a29dd-7d19-435b-904b-dab4c49b2fc5"
      },
      "source": [
        "# Display the number of rows and columns\n",
        "nsfg.shape"
      ],
      "execution_count": null,
      "outputs": [
        {
          "output_type": "execute_result",
          "data": {
            "text/plain": [
              "(9358, 10)"
            ]
          },
          "metadata": {
            "tags": []
          },
          "execution_count": 3
        }
      ]
    },
    {
      "cell_type": "code",
      "metadata": {
        "colab": {
          "base_uri": "https://localhost:8080/"
        },
        "id": "8af_IWt--oh-",
        "outputId": "18ff07f7-2b86-4e30-9b53-f915b106de98"
      },
      "source": [
        "# Display the names of the columns\n",
        "nsfg.columns"
      ],
      "execution_count": null,
      "outputs": [
        {
          "output_type": "execute_result",
          "data": {
            "text/plain": [
              "Index(['caseid', 'outcome', 'birthwgt_lb1', 'birthwgt_oz1', 'prglngth',\n",
              "       'nbrnaliv', 'agecon', 'agepreg', 'hpagelb', 'wgt2013_2015'],\n",
              "      dtype='object')"
            ]
          },
          "metadata": {
            "tags": []
          },
          "execution_count": 4
        }
      ]
    },
    {
      "cell_type": "code",
      "metadata": {
        "colab": {
          "base_uri": "https://localhost:8080/",
          "height": 195
        },
        "id": "9qAi08VT8ucI",
        "outputId": "5f2a0200-cbae-48af-f4b2-bd1dc627e16b"
      },
      "source": [
        "nsfg.head()"
      ],
      "execution_count": null,
      "outputs": [
        {
          "output_type": "execute_result",
          "data": {
            "text/html": [
              "<div>\n",
              "<style scoped>\n",
              "    .dataframe tbody tr th:only-of-type {\n",
              "        vertical-align: middle;\n",
              "    }\n",
              "\n",
              "    .dataframe tbody tr th {\n",
              "        vertical-align: top;\n",
              "    }\n",
              "\n",
              "    .dataframe thead th {\n",
              "        text-align: right;\n",
              "    }\n",
              "</style>\n",
              "<table border=\"1\" class=\"dataframe\">\n",
              "  <thead>\n",
              "    <tr style=\"text-align: right;\">\n",
              "      <th></th>\n",
              "      <th>caseid</th>\n",
              "      <th>outcome</th>\n",
              "      <th>birthwgt_lb1</th>\n",
              "      <th>birthwgt_oz1</th>\n",
              "      <th>prglngth</th>\n",
              "      <th>nbrnaliv</th>\n",
              "      <th>agecon</th>\n",
              "      <th>agepreg</th>\n",
              "      <th>hpagelb</th>\n",
              "      <th>wgt2013_2015</th>\n",
              "    </tr>\n",
              "  </thead>\n",
              "  <tbody>\n",
              "    <tr>\n",
              "      <th>0</th>\n",
              "      <td>60418</td>\n",
              "      <td>1</td>\n",
              "      <td>5.0</td>\n",
              "      <td>4.0</td>\n",
              "      <td>40</td>\n",
              "      <td>1.0</td>\n",
              "      <td>2000</td>\n",
              "      <td>2075.0</td>\n",
              "      <td>22.0</td>\n",
              "      <td>3554.964843</td>\n",
              "    </tr>\n",
              "    <tr>\n",
              "      <th>1</th>\n",
              "      <td>60418</td>\n",
              "      <td>1</td>\n",
              "      <td>4.0</td>\n",
              "      <td>12.0</td>\n",
              "      <td>36</td>\n",
              "      <td>1.0</td>\n",
              "      <td>2291</td>\n",
              "      <td>2358.0</td>\n",
              "      <td>25.0</td>\n",
              "      <td>3554.964843</td>\n",
              "    </tr>\n",
              "    <tr>\n",
              "      <th>2</th>\n",
              "      <td>60418</td>\n",
              "      <td>1</td>\n",
              "      <td>5.0</td>\n",
              "      <td>4.0</td>\n",
              "      <td>36</td>\n",
              "      <td>1.0</td>\n",
              "      <td>3241</td>\n",
              "      <td>3308.0</td>\n",
              "      <td>52.0</td>\n",
              "      <td>3554.964843</td>\n",
              "    </tr>\n",
              "    <tr>\n",
              "      <th>3</th>\n",
              "      <td>60419</td>\n",
              "      <td>6</td>\n",
              "      <td>NaN</td>\n",
              "      <td>NaN</td>\n",
              "      <td>33</td>\n",
              "      <td>NaN</td>\n",
              "      <td>3650</td>\n",
              "      <td>NaN</td>\n",
              "      <td>NaN</td>\n",
              "      <td>2484.535358</td>\n",
              "    </tr>\n",
              "    <tr>\n",
              "      <th>4</th>\n",
              "      <td>60420</td>\n",
              "      <td>1</td>\n",
              "      <td>8.0</td>\n",
              "      <td>13.0</td>\n",
              "      <td>41</td>\n",
              "      <td>1.0</td>\n",
              "      <td>2191</td>\n",
              "      <td>2266.0</td>\n",
              "      <td>24.0</td>\n",
              "      <td>2903.782914</td>\n",
              "    </tr>\n",
              "  </tbody>\n",
              "</table>\n",
              "</div>"
            ],
            "text/plain": [
              "   caseid  outcome  birthwgt_lb1  ...  agepreg  hpagelb  wgt2013_2015\n",
              "0   60418        1           5.0  ...   2075.0     22.0   3554.964843\n",
              "1   60418        1           4.0  ...   2358.0     25.0   3554.964843\n",
              "2   60418        1           5.0  ...   3308.0     52.0   3554.964843\n",
              "3   60419        6           NaN  ...      NaN      NaN   2484.535358\n",
              "4   60420        1           8.0  ...   2266.0     24.0   2903.782914\n",
              "\n",
              "[5 rows x 10 columns]"
            ]
          },
          "metadata": {
            "tags": []
          },
          "execution_count": 5
        }
      ]
    },
    {
      "cell_type": "code",
      "metadata": {
        "colab": {
          "base_uri": "https://localhost:8080/"
        },
        "id": "y0bSByFK8x2P",
        "outputId": "b30b79f1-23d3-4fa2-c291-f282cbea687b"
      },
      "source": [
        "nsfg.info()"
      ],
      "execution_count": null,
      "outputs": [
        {
          "output_type": "stream",
          "text": [
            "<class 'pandas.core.frame.DataFrame'>\n",
            "Int64Index: 9358 entries, 0 to 9357\n",
            "Data columns (total 10 columns):\n",
            " #   Column        Non-Null Count  Dtype  \n",
            "---  ------        --------------  -----  \n",
            " 0   caseid        9358 non-null   int64  \n",
            " 1   outcome       9358 non-null   int64  \n",
            " 2   birthwgt_lb1  6485 non-null   float64\n",
            " 3   birthwgt_oz1  6391 non-null   float64\n",
            " 4   prglngth      9358 non-null   int64  \n",
            " 5   nbrnaliv      6485 non-null   float64\n",
            " 6   agecon        9358 non-null   int64  \n",
            " 7   agepreg       9109 non-null   float64\n",
            " 8   hpagelb       6485 non-null   float64\n",
            " 9   wgt2013_2015  9358 non-null   float64\n",
            "dtypes: float64(6), int64(4)\n",
            "memory usage: 804.2 KB\n"
          ],
          "name": "stdout"
        }
      ]
    },
    {
      "cell_type": "code",
      "metadata": {
        "colab": {
          "base_uri": "https://localhost:8080/"
        },
        "id": "q5OL_7lh-sqm",
        "outputId": "a9e654d2-d7ae-47b4-91bc-3db10f3cbd43"
      },
      "source": [
        "print('Value counts:\\n',nsfg['nbrnaliv'].value_counts())\n",
        "\n",
        "# Replace the value 8 with NaN\n",
        "nsfg['nbrnaliv'].replace(8, np.nan, inplace = True)\n",
        "\n",
        "# Print the values and their frequencies\n",
        "print('Value counts:\\n',nsfg['nbrnaliv'].value_counts())"
      ],
      "execution_count": null,
      "outputs": [
        {
          "output_type": "stream",
          "text": [
            "Value counts:\n",
            " 1.0    6379\n",
            "2.0     100\n",
            "3.0       5\n",
            "8.0       1\n",
            "Name: nbrnaliv, dtype: int64\n",
            "Value counts:\n",
            " 1.0    6379\n",
            "2.0     100\n",
            "3.0       5\n",
            "Name: nbrnaliv, dtype: int64\n"
          ],
          "name": "stdout"
        }
      ]
    },
    {
      "cell_type": "code",
      "metadata": {
        "colab": {
          "base_uri": "https://localhost:8080/",
          "height": 195
        },
        "id": "6oo4gdI1Talb",
        "outputId": "a2a9dba6-a448-4a63-fe34-5cc1929924aa"
      },
      "source": [
        "nsfg.head()"
      ],
      "execution_count": null,
      "outputs": [
        {
          "output_type": "execute_result",
          "data": {
            "text/html": [
              "<div>\n",
              "<style scoped>\n",
              "    .dataframe tbody tr th:only-of-type {\n",
              "        vertical-align: middle;\n",
              "    }\n",
              "\n",
              "    .dataframe tbody tr th {\n",
              "        vertical-align: top;\n",
              "    }\n",
              "\n",
              "    .dataframe thead th {\n",
              "        text-align: right;\n",
              "    }\n",
              "</style>\n",
              "<table border=\"1\" class=\"dataframe\">\n",
              "  <thead>\n",
              "    <tr style=\"text-align: right;\">\n",
              "      <th></th>\n",
              "      <th>caseid</th>\n",
              "      <th>outcome</th>\n",
              "      <th>birthwgt_lb1</th>\n",
              "      <th>birthwgt_oz1</th>\n",
              "      <th>prglngth</th>\n",
              "      <th>nbrnaliv</th>\n",
              "      <th>agecon</th>\n",
              "      <th>agepreg</th>\n",
              "      <th>hpagelb</th>\n",
              "      <th>wgt2013_2015</th>\n",
              "    </tr>\n",
              "  </thead>\n",
              "  <tbody>\n",
              "    <tr>\n",
              "      <th>0</th>\n",
              "      <td>60418</td>\n",
              "      <td>1</td>\n",
              "      <td>5.0</td>\n",
              "      <td>4.0</td>\n",
              "      <td>40</td>\n",
              "      <td>1.0</td>\n",
              "      <td>2000</td>\n",
              "      <td>2075.0</td>\n",
              "      <td>22.0</td>\n",
              "      <td>3554.964843</td>\n",
              "    </tr>\n",
              "    <tr>\n",
              "      <th>1</th>\n",
              "      <td>60418</td>\n",
              "      <td>1</td>\n",
              "      <td>4.0</td>\n",
              "      <td>12.0</td>\n",
              "      <td>36</td>\n",
              "      <td>1.0</td>\n",
              "      <td>2291</td>\n",
              "      <td>2358.0</td>\n",
              "      <td>25.0</td>\n",
              "      <td>3554.964843</td>\n",
              "    </tr>\n",
              "    <tr>\n",
              "      <th>2</th>\n",
              "      <td>60418</td>\n",
              "      <td>1</td>\n",
              "      <td>5.0</td>\n",
              "      <td>4.0</td>\n",
              "      <td>36</td>\n",
              "      <td>1.0</td>\n",
              "      <td>3241</td>\n",
              "      <td>3308.0</td>\n",
              "      <td>52.0</td>\n",
              "      <td>3554.964843</td>\n",
              "    </tr>\n",
              "    <tr>\n",
              "      <th>3</th>\n",
              "      <td>60419</td>\n",
              "      <td>6</td>\n",
              "      <td>NaN</td>\n",
              "      <td>NaN</td>\n",
              "      <td>33</td>\n",
              "      <td>NaN</td>\n",
              "      <td>3650</td>\n",
              "      <td>NaN</td>\n",
              "      <td>NaN</td>\n",
              "      <td>2484.535358</td>\n",
              "    </tr>\n",
              "    <tr>\n",
              "      <th>4</th>\n",
              "      <td>60420</td>\n",
              "      <td>1</td>\n",
              "      <td>8.0</td>\n",
              "      <td>13.0</td>\n",
              "      <td>41</td>\n",
              "      <td>1.0</td>\n",
              "      <td>2191</td>\n",
              "      <td>2266.0</td>\n",
              "      <td>24.0</td>\n",
              "      <td>2903.782914</td>\n",
              "    </tr>\n",
              "  </tbody>\n",
              "</table>\n",
              "</div>"
            ],
            "text/plain": [
              "   caseid  outcome  birthwgt_lb1  ...  agepreg  hpagelb  wgt2013_2015\n",
              "0   60418        1           5.0  ...   2075.0     22.0   3554.964843\n",
              "1   60418        1           4.0  ...   2358.0     25.0   3554.964843\n",
              "2   60418        1           5.0  ...   3308.0     52.0   3554.964843\n",
              "3   60419        6           NaN  ...      NaN      NaN   2484.535358\n",
              "4   60420        1           8.0  ...   2266.0     24.0   2903.782914\n",
              "\n",
              "[5 rows x 10 columns]"
            ]
          },
          "metadata": {
            "tags": []
          },
          "execution_count": 39
        }
      ]
    },
    {
      "cell_type": "code",
      "metadata": {
        "id": "zfAfkfV4S2Ge"
      },
      "source": [
        "# Select the columns ['agecon','agepreg'] and divide by 100\n",
        "agecon = nsfg['agecon']/100\n",
        "agepreg = nsfg['agepreg']/100"
      ],
      "execution_count": null,
      "outputs": []
    },
    {
      "cell_type": "code",
      "metadata": {
        "id": "2Ibi5viK-lp5"
      },
      "source": [
        "# Compute the difference of agecon from agepreg  \n",
        "preg_length = agepreg - agecon "
      ],
      "execution_count": null,
      "outputs": []
    },
    {
      "cell_type": "code",
      "metadata": {
        "colab": {
          "base_uri": "https://localhost:8080/"
        },
        "id": "i7EwjnDsURHD",
        "outputId": "cc34b966-403e-4f4e-d740-004a409e1a1a"
      },
      "source": [
        "# Compute summary statistics\n",
        "print('Summary statistics:\\n',preg_length.describe())"
      ],
      "execution_count": null,
      "outputs": [
        {
          "output_type": "stream",
          "text": [
            "Summary statistics:\n",
            " count    9109.000000\n",
            "mean        0.552069\n",
            "std         0.271479\n",
            "min         0.000000\n",
            "25%         0.250000\n",
            "50%         0.670000\n",
            "75%         0.750000\n",
            "max         0.920000\n",
            "dtype: float64\n"
          ],
          "name": "stdout"
        }
      ]
    },
    {
      "cell_type": "code",
      "metadata": {
        "colab": {
          "base_uri": "https://localhost:8080/",
          "height": 279
        },
        "id": "ildUxhbfVEAG",
        "outputId": "a4fe20b0-bc5b-4258-a15e-c2722e205fe0"
      },
      "source": [
        "# Plot the histogram\n",
        "plt.hist(agecon, bins=20)\n",
        "\n",
        "# Label the axes\n",
        "plt.xlabel('Age at conception')\n",
        "plt.ylabel('Number of pregnancies')\n",
        "\n",
        "# Show the figure\n",
        "plt.show()"
      ],
      "execution_count": null,
      "outputs": [
        {
          "output_type": "display_data",
          "data": {
            "image/png": "[encoded data removed]",
            "text/plain": [
              "<Figure size 432x288 with 1 Axes>"
            ]
          },
          "metadata": {
            "tags": [],
            "needs_background": "light"
          }
        }
      ]
    },
    {
      "cell_type": "code",
      "metadata": {
        "colab": {
          "base_uri": "https://localhost:8080/",
          "height": 279
        },
        "id": "90Hqqsf3V2rx",
        "outputId": "3ecc5bae-18dc-47d8-aeb3-fd2aab52d649"
      },
      "source": [
        "# Plot the histogram\n",
        "plt.hist(agecon, bins=20, histtype = 'step')\n",
        "\n",
        "# Label the axes\n",
        "plt.xlabel('Age at conception')\n",
        "plt.ylabel('Number of pregnancies')\n",
        "\n",
        "# Show the figure\n",
        "plt.show()"
      ],
      "execution_count": null,
      "outputs": [
        {
          "output_type": "display_data",
          "data": {
            "image/png": "[encoded data removed]",
            "text/plain": [
              "<Figure size 432x288 with 1 Axes>"
            ]
          },
          "metadata": {
            "tags": [],
            "needs_background": "light"
          }
        }
      ]
    },
    {
      "cell_type": "code",
      "metadata": {
        "colab": {
          "base_uri": "https://localhost:8080/"
        },
        "id": "ms4tI5q1bO78",
        "outputId": "e5d68c12-f3e7-4180-827c-849579a5787e"
      },
      "source": [
        "nsfg.columns"
      ],
      "execution_count": null,
      "outputs": [
        {
          "output_type": "execute_result",
          "data": {
            "text/plain": [
              "Index(['caseid', 'outcome', 'birthwgt_lb1', 'birthwgt_oz1', 'prglngth',\n",
              "       'nbrnaliv', 'agecon', 'agepreg', 'hpagelb', 'wgt2013_2015'],\n",
              "      dtype='object')"
            ]
          },
          "metadata": {
            "tags": []
          },
          "execution_count": 19
        }
      ]
    },
    {
      "cell_type": "code",
      "metadata": {
        "id": "DK7fYGpuMfTj",
        "colab": {
          "base_uri": "https://localhost:8080/"
        },
        "outputId": "388f7115-476d-4373-e837-852245c98acf"
      },
      "source": [
        "# Create a Boolean Series for full-term babies\n",
        "preterm = nsfg['prglngth'] <37\n",
        "\n",
        "preterm"
      ],
      "execution_count": null,
      "outputs": [
        {
          "output_type": "execute_result",
          "data": {
            "text/plain": [
              "0       False\n",
              "1        True\n",
              "2        True\n",
              "3        True\n",
              "4       False\n",
              "        ...  \n",
              "9353     True\n",
              "9354    False\n",
              "9355     True\n",
              "9356    False\n",
              "9357    False\n",
              "Name: prglngth, Length: 9358, dtype: bool"
            ]
          },
          "metadata": {
            "tags": []
          },
          "execution_count": 20
        }
      ]
    },
    {
      "cell_type": "code",
      "metadata": {
        "colab": {
          "base_uri": "https://localhost:8080/"
        },
        "id": "huIPxBR1AyxF",
        "outputId": "3bc46bec-c6c1-4b0c-ec6f-22825c7c8d56"
      },
      "source": [
        "preterm.mean()"
      ],
      "execution_count": null,
      "outputs": [
        {
          "output_type": "execute_result",
          "data": {
            "text/plain": [
              "0.39987176747168196"
            ]
          },
          "metadata": {
            "tags": []
          },
          "execution_count": 22
        }
      ]
    },
    {
      "cell_type": "code",
      "metadata": {
        "colab": {
          "base_uri": "https://localhost:8080/"
        },
        "id": "LAz-5HoXA_Ls",
        "outputId": "03aa3afa-17fd-46e7-c1e2-1992398d9abd"
      },
      "source": [
        "live = (nsfg['outcome'] == 1)\r\n",
        "live.mean()"
      ],
      "execution_count": null,
      "outputs": [
        {
          "output_type": "execute_result",
          "data": {
            "text/plain": [
              "0.6934173968796752"
            ]
          },
          "metadata": {
            "tags": []
          },
          "execution_count": 24
        }
      ]
    },
    {
      "cell_type": "code",
      "metadata": {
        "id": "NyTCZwdTBBs0",
        "colab": {
          "base_uri": "https://localhost:8080/"
        },
        "outputId": "a141d42a-641d-466f-c7f7-b8f46363290a"
      },
      "source": [
        "live_preterm = (live & preterm)\r\n",
        "live_preterm.mean()"
      ],
      "execution_count": null,
      "outputs": [
        {
          "output_type": "execute_result",
          "data": {
            "text/plain": [
              "0.09724300064116265"
            ]
          },
          "metadata": {
            "tags": []
          },
          "execution_count": 25
        }
      ]
    },
    {
      "cell_type": "code",
      "metadata": {
        "id": "aCQKtXCJMljq",
        "colab": {
          "base_uri": "https://localhost:8080/"
        },
        "outputId": "31b11786-8c8e-4b58-c369-6c0ecdfed25a"
      },
      "source": [
        "# Filter single births\n",
        "single = nsfg['nbrnaliv'] == 1\n",
        "\n",
        "single.head()"
      ],
      "execution_count": null,
      "outputs": [
        {
          "output_type": "execute_result",
          "data": {
            "text/plain": [
              "0     True\n",
              "1     True\n",
              "2     True\n",
              "3    False\n",
              "4     True\n",
              "Name: nbrnaliv, dtype: bool"
            ]
          },
          "metadata": {
            "tags": []
          },
          "execution_count": 14
        }
      ]
    },
    {
      "cell_type": "code",
      "metadata": {
        "id": "LP0zjYHJBVco"
      },
      "source": [
        "fullterm = (nsfg['prglngth'] >= 37)\r\n"
      ],
      "execution_count": null,
      "outputs": []
    },
    {
      "cell_type": "code",
      "metadata": {
        "colab": {
          "base_uri": "https://localhost:8080/"
        },
        "id": "nwGr9qeiavDK",
        "outputId": "fdc5aaa8-44e1-4e50-d918-4ab1c5391b25"
      },
      "source": [
        "live_fullterm = (live & fullterm)\r\n",
        "live_fullterm.mean()"
      ],
      "execution_count": null,
      "outputs": [
        {
          "output_type": "execute_result",
          "data": {
            "text/plain": [
              "0.5961743962385125"
            ]
          },
          "metadata": {
            "tags": []
          },
          "execution_count": 15
        }
      ]
    },
    {
      "cell_type": "code",
      "metadata": {
        "colab": {
          "base_uri": "https://localhost:8080/"
        },
        "id": "Iw7P8p5BEHmz",
        "outputId": "d8b8a39b-b746-4039-f2b8-db73604ba671"
      },
      "source": [
        "ounces = nsfg['birthwgt_oz1']\r\n",
        "pounds = nsfg['birthwgt_lb1']\r\n",
        "\r\n",
        "pounds.value_counts().sort_index()"
      ],
      "execution_count": null,
      "outputs": [
        {
          "output_type": "execute_result",
          "data": {
            "text/plain": [
              "0.0        6\n",
              "1.0       34\n",
              "2.0       47\n",
              "3.0       67\n",
              "4.0      196\n",
              "5.0      586\n",
              "6.0     1666\n",
              "7.0     2146\n",
              "8.0     1168\n",
              "9.0      363\n",
              "10.0      82\n",
              "11.0      17\n",
              "12.0       7\n",
              "13.0       2\n",
              "14.0       2\n",
              "17.0       1\n",
              "98.0       1\n",
              "99.0      94\n",
              "Name: birthwgt_lb1, dtype: int64"
            ]
          },
          "metadata": {
            "tags": []
          },
          "execution_count": 20
        }
      ]
    },
    {
      "cell_type": "code",
      "metadata": {
        "colab": {
          "base_uri": "https://localhost:8080/"
        },
        "id": "biLxk7Fybgfe",
        "outputId": "9c1e89a9-9ed3-43bd-ab10-5825a55072d5"
      },
      "source": [
        "ounces.value_counts().sort_index()"
      ],
      "execution_count": null,
      "outputs": [
        {
          "output_type": "execute_result",
          "data": {
            "text/plain": [
              "0.0     757\n",
              "1.0     297\n",
              "2.0     429\n",
              "3.0     393\n",
              "4.0     386\n",
              "5.0     407\n",
              "6.0     543\n",
              "7.0     346\n",
              "8.0     518\n",
              "9.0     377\n",
              "10.0    295\n",
              "11.0    418\n",
              "12.0    388\n",
              "13.0    275\n",
              "14.0    258\n",
              "15.0    268\n",
              "98.0      1\n",
              "99.0     35\n",
              "Name: birthwgt_oz1, dtype: int64"
            ]
          },
          "metadata": {
            "tags": []
          },
          "execution_count": 21
        }
      ]
    },
    {
      "cell_type": "code",
      "metadata": {
        "colab": {
          "base_uri": "https://localhost:8080/"
        },
        "id": "61gDO9ugEm_B",
        "outputId": "039b0528-907c-4c46-d341-de223884f414"
      },
      "source": [
        "pounds.describe()"
      ],
      "execution_count": null,
      "outputs": [
        {
          "output_type": "execute_result",
          "data": {
            "text/plain": [
              "count    6485.000000\n",
              "mean        8.055204\n",
              "std        11.178893\n",
              "min         0.000000\n",
              "25%         6.000000\n",
              "50%         7.000000\n",
              "75%         8.000000\n",
              "max        99.000000\n",
              "Name: birthwgt_lb1, dtype: float64"
            ]
          },
          "metadata": {
            "tags": []
          },
          "execution_count": 34
        }
      ]
    },
    {
      "cell_type": "code",
      "metadata": {
        "colab": {
          "base_uri": "https://localhost:8080/"
        },
        "id": "w4HvPzrPE6s5",
        "outputId": "d3b71be3-78a1-4062-899a-c6e88e70e333"
      },
      "source": [
        "pounds_clean = pounds.replace([98], np.nan)\r\n",
        "ounces_clean = ounces.replace([98], np.nan)\r\n",
        "\r\n",
        "birth_weight = pounds_clean + ounces_clean / 16\r\n",
        "birth_weight.mean()"
      ],
      "execution_count": null,
      "outputs": [
        {
          "output_type": "execute_result",
          "data": {
            "text/plain": [
              "7.153266823161189"
            ]
          },
          "metadata": {
            "tags": []
          },
          "execution_count": 24
        }
      ]
    },
    {
      "cell_type": "code",
      "metadata": {
        "colab": {
          "base_uri": "https://localhost:8080/",
          "height": 295
        },
        "id": "IWL9w2JpcDX-",
        "outputId": "6dae6c7a-22ad-4b39-cc80-105d5020258d"
      },
      "source": [
        "plt.hist(birth_weight.dropna(), bins=20)\r\n",
        "\r\n",
        "plt.xlabel('Birth weight in pounds')\r\n",
        "plt.ylabel('Number of live births')\r\n",
        "plt.title('Distribution of U.S. birth weight');"
      ],
      "execution_count": null,
      "outputs": [
        {
          "output_type": "display_data",
          "data": {
            "image/png": "[encoded data removed]",
            "text/plain": [
              "<Figure size 432x288 with 1 Axes>"
            ]
          },
          "metadata": {
            "tags": [],
            "needs_background": "light"
          }
        }
      ]
    },
    {
      "cell_type": "code",
      "metadata": {
        "id": "Cab1nxzJf29j"
      },
      "source": [
        "n = len(nsfg)\r\n",
        "weights = nsfg['wgt2013_2015']\r\n",
        "sample = nsfg.sample(n, \r\n",
        "                     replace=True, \r\n",
        "                     weights=weights)"
      ],
      "execution_count": null,
      "outputs": []
    },
    {
      "cell_type": "code",
      "metadata": {
        "colab": {
          "base_uri": "https://localhost:8080/"
        },
        "id": "48cnsj3pf_4L",
        "outputId": "317b1159-ec77-4471-99ab-8cc0d7736237"
      },
      "source": [
        "sample.shape"
      ],
      "execution_count": null,
      "outputs": [
        {
          "output_type": "execute_result",
          "data": {
            "text/plain": [
              "(9358, 10)"
            ]
          },
          "metadata": {
            "tags": []
          },
          "execution_count": 8
        }
      ]
    },
    {
      "cell_type": "markdown",
      "metadata": {
        "id": "-iM4pDLD2rBS"
      },
      "source": [
        "# **Chapter 6**\n",
        "\n"
      ]
    },
    {
      "cell_type": "markdown",
      "metadata": {
        "id": "534BKd4Z-rqD"
      },
      "source": [
        "## Topic 6.2"
      ]
    },
    {
      "cell_type": "markdown",
      "metadata": {
        "id": "Z6T8Pw2V3DpS"
      },
      "source": [
        "You'll learn how to represent distributions using Probability distributions."
      ]
    },
    {
      "cell_type": "code",
      "metadata": {
        "id": "yAuUt_9H-Dxp"
      },
      "source": [
        "# Import dependencies\n",
        "import numpy as np\n",
        "import pandas as pd\n",
        "import matplotlib.pyplot as plt\n",
        "\n"
      ],
      "execution_count": null,
      "outputs": []
    },
    {
      "cell_type": "code",
      "metadata": {
        "colab": {
          "base_uri": "https://localhost:8080/"
        },
        "id": "8eRh2Dhmsqeb",
        "outputId": "ab8a0bab-3d6f-41e1-97c4-c25d0052e608"
      },
      "source": [
        "# Read hdf5\r\n",
        "gss = pd.read_hdf('gss.hdf5', 'gss')\r\n",
        "\r\n",
        "# Select head\r\n",
        "gss.columns"
      ],
      "execution_count": null,
      "outputs": [
        {
          "output_type": "execute_result",
          "data": {
            "text/plain": [
              "Index(['year', 'age', 'cohort', 'sex', 'race', 'educ', 'realinc', 'gunlaw',\n",
              "       'grass', 'wtssall'],\n",
              "      dtype='object')"
            ]
          },
          "metadata": {
            "tags": []
          },
          "execution_count": 53
        }
      ]
    },
    {
      "cell_type": "code",
      "metadata": {
        "colab": {
          "base_uri": "https://localhost:8080/",
          "height": 198
        },
        "id": "0oyB8NuQcOUp",
        "outputId": "82b8822b-665d-4a11-b02d-03547c75b222"
      },
      "source": [
        "gss.head()"
      ],
      "execution_count": null,
      "outputs": [
        {
          "output_type": "execute_result",
          "data": {
            "text/html": [
              "<div>\n",
              "<style scoped>\n",
              "    .dataframe tbody tr th:only-of-type {\n",
              "        vertical-align: middle;\n",
              "    }\n",
              "\n",
              "    .dataframe tbody tr th {\n",
              "        vertical-align: top;\n",
              "    }\n",
              "\n",
              "    .dataframe thead th {\n",
              "        text-align: right;\n",
              "    }\n",
              "</style>\n",
              "<table border=\"1\" class=\"dataframe\">\n",
              "  <thead>\n",
              "    <tr style=\"text-align: right;\">\n",
              "      <th></th>\n",
              "      <th>year</th>\n",
              "      <th>age</th>\n",
              "      <th>cohort</th>\n",
              "      <th>sex</th>\n",
              "      <th>race</th>\n",
              "      <th>educ</th>\n",
              "      <th>realinc</th>\n",
              "      <th>gunlaw</th>\n",
              "      <th>grass</th>\n",
              "      <th>wtssall</th>\n",
              "    </tr>\n",
              "  </thead>\n",
              "  <tbody>\n",
              "    <tr>\n",
              "      <th>0</th>\n",
              "      <td>1972</td>\n",
              "      <td>26.0</td>\n",
              "      <td>1946.0</td>\n",
              "      <td>1</td>\n",
              "      <td>1</td>\n",
              "      <td>18.0</td>\n",
              "      <td>13537.0</td>\n",
              "      <td>2.0</td>\n",
              "      <td>NaN</td>\n",
              "      <td>0.8893</td>\n",
              "    </tr>\n",
              "    <tr>\n",
              "      <th>1</th>\n",
              "      <td>1972</td>\n",
              "      <td>38.0</td>\n",
              "      <td>1934.0</td>\n",
              "      <td>2</td>\n",
              "      <td>1</td>\n",
              "      <td>12.0</td>\n",
              "      <td>18951.0</td>\n",
              "      <td>1.0</td>\n",
              "      <td>NaN</td>\n",
              "      <td>0.4446</td>\n",
              "    </tr>\n",
              "    <tr>\n",
              "      <th>2</th>\n",
              "      <td>1972</td>\n",
              "      <td>57.0</td>\n",
              "      <td>1915.0</td>\n",
              "      <td>1</td>\n",
              "      <td>1</td>\n",
              "      <td>12.0</td>\n",
              "      <td>30458.0</td>\n",
              "      <td>1.0</td>\n",
              "      <td>NaN</td>\n",
              "      <td>1.3339</td>\n",
              "    </tr>\n",
              "    <tr>\n",
              "      <th>3</th>\n",
              "      <td>1972</td>\n",
              "      <td>61.0</td>\n",
              "      <td>1911.0</td>\n",
              "      <td>2</td>\n",
              "      <td>1</td>\n",
              "      <td>14.0</td>\n",
              "      <td>37226.0</td>\n",
              "      <td>1.0</td>\n",
              "      <td>NaN</td>\n",
              "      <td>0.8893</td>\n",
              "    </tr>\n",
              "    <tr>\n",
              "      <th>4</th>\n",
              "      <td>1972</td>\n",
              "      <td>59.0</td>\n",
              "      <td>1913.0</td>\n",
              "      <td>1</td>\n",
              "      <td>1</td>\n",
              "      <td>12.0</td>\n",
              "      <td>30458.0</td>\n",
              "      <td>2.0</td>\n",
              "      <td>NaN</td>\n",
              "      <td>0.8893</td>\n",
              "    </tr>\n",
              "  </tbody>\n",
              "</table>\n",
              "</div>"
            ],
            "text/plain": [
              "   year   age  cohort  sex  race  educ  realinc  gunlaw  grass  wtssall\n",
              "0  1972  26.0  1946.0    1     1  18.0  13537.0     2.0    NaN   0.8893\n",
              "1  1972  38.0  1934.0    2     1  12.0  18951.0     1.0    NaN   0.4446\n",
              "2  1972  57.0  1915.0    1     1  12.0  30458.0     1.0    NaN   1.3339\n",
              "3  1972  61.0  1911.0    2     1  14.0  37226.0     1.0    NaN   0.8893\n",
              "4  1972  59.0  1913.0    1     1  12.0  30458.0     2.0    NaN   0.8893"
            ]
          },
          "metadata": {
            "tags": []
          },
          "execution_count": 9
        }
      ]
    },
    {
      "cell_type": "code",
      "metadata": {
        "colab": {
          "base_uri": "https://localhost:8080/",
          "height": 283
        },
        "id": "B5NYMDjs-SwT",
        "outputId": "73fb52ff-6712-4e12-c633-affa41414314"
      },
      "source": [
        "# Histogram of age column\n",
        "gss['age'].hist(bins=25)"
      ],
      "execution_count": null,
      "outputs": [
        {
          "output_type": "execute_result",
          "data": {
            "text/plain": [
              "<matplotlib.axes._subplots.AxesSubplot at 0x7f216d79b1d0>"
            ]
          },
          "metadata": {
            "tags": []
          },
          "execution_count": 10
        },
        {
          "output_type": "display_data",
          "data": {
            "image/png": "[encoded data removed]",
            "text/plain": [
              "<Figure size 432x288 with 1 Axes>"
            ]
          },
          "metadata": {
            "tags": [],
            "needs_background": "light"
          }
        }
      ]
    },
    {
      "cell_type": "code",
      "metadata": {
        "colab": {
          "base_uri": "https://localhost:8080/",
          "height": 282
        },
        "id": "e-tbH3Or-hbB",
        "outputId": "c09d972e-0337-459f-8bee-1f8d8aea8c93"
      },
      "source": [
        "gss['age'].hist(density= True, weights= None, cumulative= False, bottom= None, histtype= 'bar')"
      ],
      "execution_count": null,
      "outputs": [
        {
          "output_type": "execute_result",
          "data": {
            "text/plain": [
              "<matplotlib.axes._subplots.AxesSubplot at 0x7f2164c726d0>"
            ]
          },
          "metadata": {
            "tags": []
          },
          "execution_count": 11
        },
        {
          "output_type": "display_data",
          "data": {
            "image/png": "[encoded data removed]",
            "text/plain": [
              "<Figure size 432x288 with 1 Axes>"
            ]
          },
          "metadata": {
            "tags": [],
            "needs_background": "light"
          }
        }
      ]
    },
    {
      "cell_type": "code",
      "metadata": {
        "colab": {
          "base_uri": "https://localhost:8080/",
          "height": 194
        },
        "id": "yzb32yiYAvQU",
        "outputId": "66802c68-167e-4919-9b21-b08540764803"
      },
      "source": [
        "# Select columns\n",
        "columns = ['age', 'year', 'educ']\n",
        "subset = gss[columns]\n",
        "\n",
        "# Compute the correlation matrix\n",
        "c=subset.corr()\n",
        "print('Correlation of selected columns:\\n',c)\n",
        "c.style.background_gradient(cmap='coolwarm').set_precision(2)"
      ],
      "execution_count": null,
      "outputs": [
        {
          "output_type": "stream",
          "text": [
            "Correlation of selected columns:\n",
            "            age      year      educ\n",
            "age   1.000000  0.065482 -0.153742\n",
            "year  0.065482  1.000000  0.214065\n",
            "educ -0.153742  0.214065  1.000000\n"
          ],
          "name": "stdout"
        },
        {
          "output_type": "execute_result",
          "data": {
            "text/html": [
              "<style  type=\"text/css\" >\n",
              "#T_ffda1904_75eb_11eb_b70f_0242ac1c0002row0_col0,#T_ffda1904_75eb_11eb_b70f_0242ac1c0002row1_col1,#T_ffda1904_75eb_11eb_b70f_0242ac1c0002row2_col2{\n",
              "            background-color:  #b40426;\n",
              "            color:  #f1f1f1;\n",
              "        }#T_ffda1904_75eb_11eb_b70f_0242ac1c0002row0_col1,#T_ffda1904_75eb_11eb_b70f_0242ac1c0002row0_col2,#T_ffda1904_75eb_11eb_b70f_0242ac1c0002row2_col0{\n",
              "            background-color:  #3b4cc0;\n",
              "            color:  #f1f1f1;\n",
              "        }#T_ffda1904_75eb_11eb_b70f_0242ac1c0002row1_col0{\n",
              "            background-color:  #779af7;\n",
              "            color:  #000000;\n",
              "        }#T_ffda1904_75eb_11eb_b70f_0242ac1c0002row1_col2{\n",
              "            background-color:  #a5c3fe;\n",
              "            color:  #000000;\n",
              "        }#T_ffda1904_75eb_11eb_b70f_0242ac1c0002row2_col1{\n",
              "            background-color:  #6c8ff1;\n",
              "            color:  #000000;\n",
              "        }</style><table id=\"T_ffda1904_75eb_11eb_b70f_0242ac1c0002\" ><thead>    <tr>        <th class=\"blank level0\" ></th>        <th class=\"col_heading level0 col0\" >age</th>        <th class=\"col_heading level0 col1\" >year</th>        <th class=\"col_heading level0 col2\" >educ</th>    </tr></thead><tbody>\n",
              "                <tr>\n",
              "                        <th id=\"T_ffda1904_75eb_11eb_b70f_0242ac1c0002level0_row0\" class=\"row_heading level0 row0\" >age</th>\n",
              "                        <td id=\"T_ffda1904_75eb_11eb_b70f_0242ac1c0002row0_col0\" class=\"data row0 col0\" >1.00</td>\n",
              "                        <td id=\"T_ffda1904_75eb_11eb_b70f_0242ac1c0002row0_col1\" class=\"data row0 col1\" >0.07</td>\n",
              "                        <td id=\"T_ffda1904_75eb_11eb_b70f_0242ac1c0002row0_col2\" class=\"data row0 col2\" >-0.15</td>\n",
              "            </tr>\n",
              "            <tr>\n",
              "                        <th id=\"T_ffda1904_75eb_11eb_b70f_0242ac1c0002level0_row1\" class=\"row_heading level0 row1\" >year</th>\n",
              "                        <td id=\"T_ffda1904_75eb_11eb_b70f_0242ac1c0002row1_col0\" class=\"data row1 col0\" >0.07</td>\n",
              "                        <td id=\"T_ffda1904_75eb_11eb_b70f_0242ac1c0002row1_col1\" class=\"data row1 col1\" >1.00</td>\n",
              "                        <td id=\"T_ffda1904_75eb_11eb_b70f_0242ac1c0002row1_col2\" class=\"data row1 col2\" >0.21</td>\n",
              "            </tr>\n",
              "            <tr>\n",
              "                        <th id=\"T_ffda1904_75eb_11eb_b70f_0242ac1c0002level0_row2\" class=\"row_heading level0 row2\" >educ</th>\n",
              "                        <td id=\"T_ffda1904_75eb_11eb_b70f_0242ac1c0002row2_col0\" class=\"data row2 col0\" >-0.15</td>\n",
              "                        <td id=\"T_ffda1904_75eb_11eb_b70f_0242ac1c0002row2_col1\" class=\"data row2 col1\" >0.21</td>\n",
              "                        <td id=\"T_ffda1904_75eb_11eb_b70f_0242ac1c0002row2_col2\" class=\"data row2 col2\" >1.00</td>\n",
              "            </tr>\n",
              "    </tbody></table>"
            ],
            "text/plain": [
              "<pandas.io.formats.style.Styler at 0x7f4335a843c8>"
            ]
          },
          "metadata": {
            "tags": []
          },
          "execution_count": 5
        }
      ]
    },
    {
      "cell_type": "code",
      "metadata": {
        "id": "qUYmuHeF6EKQ"
      },
      "source": [
        "# Age column\r\n",
        "age = gss[['age']]\r\n",
        "\r\n",
        "# Year column\r\n",
        "year = gss[['year']]"
      ],
      "execution_count": null,
      "outputs": []
    },
    {
      "cell_type": "markdown",
      "metadata": {
        "id": "TStG78oPWWST"
      },
      "source": [
        "### **KDE**\n",
        "In statistics, kernel density estimation (KDE) is a non-parametric way \n",
        "to estimate the probability density function (PDF) of a random variable. \n",
        "This function uses Gaussian kernels and includes automatic bandwidth determination."
      ]
    },
    {
      "cell_type": "code",
      "metadata": {
        "colab": {
          "base_uri": "https://localhost:8080/",
          "height": 265
        },
        "id": "TfbOs5ff-ysd",
        "outputId": "c7535651-e1c4-41d6-b595-4f89cf9e719f"
      },
      "source": [
        "# Plotting KDE of age column\r\n",
        "age.plot.kde()\r\n",
        "plt.show()"
      ],
      "execution_count": null,
      "outputs": [
        {
          "output_type": "display_data",
          "data": {
            "image/png": "[encoded data removed]",
            "text/plain": [
              "<Figure size 432x288 with 1 Axes>"
            ]
          },
          "metadata": {
            "tags": [],
            "needs_background": "light"
          }
        }
      ]
    },
    {
      "cell_type": "markdown",
      "metadata": {
        "id": "whlk1pAsWe3N"
      },
      "source": [
        "The method used to calculate the estimator bandwidth. This can be ‘scott’,\n",
        " ‘silverman’, a scalar constant or a callable. If None (default), ‘scott’ is used."
      ]
    },
    {
      "cell_type": "code",
      "metadata": {
        "colab": {
          "base_uri": "https://localhost:8080/",
          "height": 265
        },
        "id": "QgLngmrY_5tc",
        "outputId": "5c60e7bf-1579-453e-d320-7e5d8454bdf1"
      },
      "source": [
        "age.plot.kde(bw_method=0.5)\r\n",
        "plt.show()"
      ],
      "execution_count": null,
      "outputs": [
        {
          "output_type": "display_data",
          "data": {
            "image/png": "[encoded data removed]",
            "text/plain": [
              "<Figure size 432x288 with 1 Axes>"
            ]
          },
          "metadata": {
            "tags": [],
            "needs_background": "light"
          }
        }
      ]
    },
    {
      "cell_type": "code",
      "metadata": {
        "id": "HEaOZ8-zDF8x"
      },
      "source": [
        "age = gss[['age']]"
      ],
      "execution_count": null,
      "outputs": []
    },
    {
      "cell_type": "code",
      "metadata": {
        "id": "LGOpYEApB6qs"
      },
      "source": [
        "# Histogram of age and year\r\n",
        "plt.hist(age)\r\n",
        "plt.xlabel('Age')\r\n",
        "plt.ylabel('Frequency')\r\n",
        "plt.title('Histogram of Age')\r\n",
        "plt.show()"
      ],
      "execution_count": null,
      "outputs": []
    },
    {
      "cell_type": "code",
      "metadata": {
        "id": "8q3Q9VxzWp_4"
      },
      "source": [
        "year= gss['year']"
      ],
      "execution_count": null,
      "outputs": []
    },
    {
      "cell_type": "code",
      "metadata": {
        "id": "w8SMWpnnEAk1",
        "colab": {
          "base_uri": "https://localhost:8080/",
          "height": 265
        },
        "outputId": "cd18f9d0-763a-474a-eb43-6a763db8a7ef"
      },
      "source": [
        "# Make a scatter plot\r\n",
        "plt.plot(year, age, 'o', alpha=0.01)\r\n",
        "plt.show()"
      ],
      "execution_count": null,
      "outputs": [
        {
          "output_type": "display_data",
          "data": {
            "image/png": "[encoded data removed]",
            "text/plain": [
              "<Figure size 432x288 with 1 Axes>"
            ]
          },
          "metadata": {
            "tags": [],
            "needs_background": "light"
          }
        }
      ]
    },
    {
      "cell_type": "code",
      "metadata": {
        "id": "tXNdqv9TEPcY",
        "colab": {
          "base_uri": "https://localhost:8080/",
          "height": 295
        },
        "outputId": "b8519b29-fb71-49d2-bcd8-e8a341839b17"
      },
      "source": [
        "# Show the scatter plot after some modifications\r\n",
        "gss.plot(x= 'year', y= 'age', kind= 'scatter', title= 'Age vs Year')\r\n",
        "plt.show()"
      ],
      "execution_count": null,
      "outputs": [
        {
          "output_type": "display_data",
          "data": {
            "image/png": "[encoded data removed]",
            "text/plain": [
              "<Figure size 432x288 with 1 Axes>"
            ]
          },
          "metadata": {
            "tags": [],
            "needs_background": "light"
          }
        }
      ]
    },
    {
      "cell_type": "markdown",
      "metadata": {
        "id": "HAiQ7F6Z6pJ9"
      },
      "source": [
        "###Histogram"
      ]
    },
    {
      "cell_type": "code",
      "metadata": {
        "colab": {
          "base_uri": "https://localhost:8080/",
          "height": 513
        },
        "id": "N4osMeTesPas",
        "outputId": "4ceb9ce5-5fee-45f5-9a25-0cc3c02f57cb"
      },
      "source": [
        "age=[20,12,11,44,21,25]\r\n",
        "\r\n",
        "# 44-11= ans/binn = 3\r\n",
        "\r\n",
        "# 11-14, 15-17\r\n",
        "\r\n",
        "\r\n",
        "plt.hist(age, bins=4)\r\n",
        "plt.show()\r\n",
        "\r\n",
        "#density\r\n",
        "#probability density = row count/(toal count * bin width)\r\n",
        "# 3/(6 * (11-44/4))\r\n",
        "plt.hist(age, bins=4, density= True)\r\n",
        "plt.show()\r\n"
      ],
      "execution_count": null,
      "outputs": [
        {
          "output_type": "display_data",
          "data": {
            "image/png": "[encoded data removed]",
            "text/plain": [
              "<Figure size 432x288 with 1 Axes>"
            ]
          },
          "metadata": {
            "tags": [],
            "needs_background": "light"
          }
        },
        {
          "output_type": "display_data",
          "data": {
            "image/png": "[encoded data removed]",
            "text/plain": [
              "<Figure size 432x288 with 1 Axes>"
            ]
          },
          "metadata": {
            "tags": [],
            "needs_background": "light"
          }
        }
      ]
    },
    {
      "cell_type": "code",
      "metadata": {
        "colab": {
          "base_uri": "https://localhost:8080/",
          "height": 265
        },
        "id": "heS5rHREuKfl",
        "outputId": "cccccf65-c83a-46f9-af58-fe58868e20f2"
      },
      "source": [
        "#weight\r\n",
        "age=[20,12,11,44,21,25]\r\n",
        "plt.hist(age, bins=4, weights= [1,2,1,2,1,2])\r\n",
        "plt.show()"
      ],
      "execution_count": null,
      "outputs": [
        {
          "output_type": "display_data",
          "data": {
            "image/png": "[encoded data removed]",
            "text/plain": [
              "<Figure size 432x288 with 1 Axes>"
            ]
          },
          "metadata": {
            "tags": [],
            "needs_background": "light"
          }
        }
      ]
    },
    {
      "cell_type": "code",
      "metadata": {
        "colab": {
          "base_uri": "https://localhost:8080/",
          "height": 513
        },
        "id": "oipybVvCuwVu",
        "outputId": "f0e810f6-50d0-41f7-a9b8-af3a9d95c9f0"
      },
      "source": [
        "#cumulative\r\n",
        "age=[20,12,11,44,21,25]\r\n",
        "plt.hist(age, bins=4, )\r\n",
        "plt.show()\r\n",
        "plt.hist(age, bins=4, cumulative=True)\r\n",
        "plt.show()"
      ],
      "execution_count": null,
      "outputs": [
        {
          "output_type": "display_data",
          "data": {
            "image/png": "[encoded data removed]",
            "text/plain": [
              "<Figure size 432x288 with 1 Axes>"
            ]
          },
          "metadata": {
            "tags": [],
            "needs_background": "light"
          }
        },
        {
          "output_type": "display_data",
          "data": {
            "image/png": "[encoded data removed]",
            "text/plain": [
              "<Figure size 432x288 with 1 Axes>"
            ]
          },
          "metadata": {
            "tags": [],
            "needs_background": "light"
          }
        }
      ]
    },
    {
      "cell_type": "code",
      "metadata": {
        "colab": {
          "base_uri": "https://localhost:8080/",
          "height": 265
        },
        "id": "qLujH9U7vCI0",
        "outputId": "f98ebf53-3795-4d0d-b524-83bf8a4cba57"
      },
      "source": [
        "#bottom\r\n",
        "age=[20,12,11,44,21,25]\r\n",
        "plt.hist(age, bins=4, bottom=[5,6,7,9])\r\n",
        "plt.show()"
      ],
      "execution_count": null,
      "outputs": [
        {
          "output_type": "display_data",
          "data": {
            "image/png": "[encoded data removed]",
            "text/plain": [
              "<Figure size 432x288 with 1 Axes>"
            ]
          },
          "metadata": {
            "tags": [],
            "needs_background": "light"
          }
        }
      ]
    },
    {
      "cell_type": "markdown",
      "metadata": {
        "id": "48Zza6u-XCrj"
      },
      "source": [
        "# **Chapter 6**"
      ]
    },
    {
      "cell_type": "markdown",
      "metadata": {
        "id": "PGL1JwT1XGs7"
      },
      "source": [
        "## Topic 6.3"
      ]
    },
    {
      "cell_type": "markdown",
      "metadata": {
        "id": "DFVltLcIYG34"
      },
      "source": [
        "Explore multivariate relationships using multiple regression to \r\n",
        "describe non-linear relationships and logistic regression to explain \r\n",
        "and predict binary variables."
      ]
    },
    {
      "cell_type": "code",
      "metadata": {
        "colab": {
          "base_uri": "https://localhost:8080/",
          "height": 298
        },
        "id": "GnnZgljuZQjb",
        "outputId": "c606447e-03c2-49fd-c64d-e33db5316dc4"
      },
      "source": [
        "import pandas as pd\r\n",
        "import numpy as np\r\n",
        "import matplotlib.pyplot as plt\r\n",
        "\r\n",
        "#  Read hdf5\r\n",
        "brfss = pd.read_hdf('brfss.hdf5', 'brfss')\r\n",
        "\r\n",
        "# Select head\r\n",
        "display('Head of data:\\n',brfss.head())\r\n",
        "\r\n",
        "print('-' * 100)\r\n",
        "\r\n",
        "# Show columns\r\n",
        "print('Columns of file:\\n',brfss.columns)"
      ],
      "execution_count": null,
      "outputs": [
        {
          "output_type": "display_data",
          "data": {
            "application/vnd.google.colaboratory.intrinsic+json": {
              "type": "string"
            },
            "text/plain": [
              "'Head of data:\\n'"
            ]
          },
          "metadata": {
            "tags": []
          }
        },
        {
          "output_type": "display_data",
          "data": {
            "text/html": [
              "<div>\n",
              "<style scoped>\n",
              "    .dataframe tbody tr th:only-of-type {\n",
              "        vertical-align: middle;\n",
              "    }\n",
              "\n",
              "    .dataframe tbody tr th {\n",
              "        vertical-align: top;\n",
              "    }\n",
              "\n",
              "    .dataframe thead th {\n",
              "        text-align: right;\n",
              "    }\n",
              "</style>\n",
              "<table border=\"1\" class=\"dataframe\">\n",
              "  <thead>\n",
              "    <tr style=\"text-align: right;\">\n",
              "      <th></th>\n",
              "      <th>SEX</th>\n",
              "      <th>HTM4</th>\n",
              "      <th>WTKG3</th>\n",
              "      <th>INCOME2</th>\n",
              "      <th>_LLCPWT</th>\n",
              "      <th>_AGEG5YR</th>\n",
              "      <th>_VEGESU1</th>\n",
              "      <th>_HTMG10</th>\n",
              "      <th>AGE</th>\n",
              "    </tr>\n",
              "  </thead>\n",
              "  <tbody>\n",
              "    <tr>\n",
              "      <th>96230</th>\n",
              "      <td>2.0</td>\n",
              "      <td>160.0</td>\n",
              "      <td>60.33</td>\n",
              "      <td>8.0</td>\n",
              "      <td>1398.525290</td>\n",
              "      <td>6.0</td>\n",
              "      <td>2.14</td>\n",
              "      <td>150.0</td>\n",
              "      <td>47.0</td>\n",
              "    </tr>\n",
              "    <tr>\n",
              "      <th>244920</th>\n",
              "      <td>2.0</td>\n",
              "      <td>163.0</td>\n",
              "      <td>58.97</td>\n",
              "      <td>5.0</td>\n",
              "      <td>84.057503</td>\n",
              "      <td>13.0</td>\n",
              "      <td>3.14</td>\n",
              "      <td>160.0</td>\n",
              "      <td>89.5</td>\n",
              "    </tr>\n",
              "    <tr>\n",
              "      <th>57312</th>\n",
              "      <td>2.0</td>\n",
              "      <td>163.0</td>\n",
              "      <td>72.57</td>\n",
              "      <td>8.0</td>\n",
              "      <td>390.248599</td>\n",
              "      <td>5.0</td>\n",
              "      <td>2.64</td>\n",
              "      <td>160.0</td>\n",
              "      <td>42.0</td>\n",
              "    </tr>\n",
              "    <tr>\n",
              "      <th>32573</th>\n",
              "      <td>2.0</td>\n",
              "      <td>165.0</td>\n",
              "      <td>74.84</td>\n",
              "      <td>1.0</td>\n",
              "      <td>11566.705300</td>\n",
              "      <td>3.0</td>\n",
              "      <td>1.46</td>\n",
              "      <td>160.0</td>\n",
              "      <td>32.0</td>\n",
              "    </tr>\n",
              "    <tr>\n",
              "      <th>355929</th>\n",
              "      <td>2.0</td>\n",
              "      <td>170.0</td>\n",
              "      <td>108.86</td>\n",
              "      <td>3.0</td>\n",
              "      <td>844.485450</td>\n",
              "      <td>3.0</td>\n",
              "      <td>1.81</td>\n",
              "      <td>160.0</td>\n",
              "      <td>32.0</td>\n",
              "    </tr>\n",
              "  </tbody>\n",
              "</table>\n",
              "</div>"
            ],
            "text/plain": [
              "        SEX   HTM4   WTKG3  INCOME2  ...  _AGEG5YR  _VEGESU1  _HTMG10   AGE\n",
              "96230   2.0  160.0   60.33      8.0  ...       6.0      2.14    150.0  47.0\n",
              "244920  2.0  163.0   58.97      5.0  ...      13.0      3.14    160.0  89.5\n",
              "57312   2.0  163.0   72.57      8.0  ...       5.0      2.64    160.0  42.0\n",
              "32573   2.0  165.0   74.84      1.0  ...       3.0      1.46    160.0  32.0\n",
              "355929  2.0  170.0  108.86      3.0  ...       3.0      1.81    160.0  32.0\n",
              "\n",
              "[5 rows x 9 columns]"
            ]
          },
          "metadata": {
            "tags": []
          }
        },
        {
          "output_type": "stream",
          "text": [
            "----------------------------------------------------------------------------------------------------\n",
            "Columns of file:\n",
            " Index(['SEX', 'HTM4', 'WTKG3', 'INCOME2', '_LLCPWT', '_AGEG5YR', '_VEGESU1',\n",
            "       '_HTMG10', 'AGE'],\n",
            "      dtype='object')\n"
          ],
          "name": "stdout"
        }
      ]
    },
    {
      "cell_type": "code",
      "metadata": {
        "colab": {
          "base_uri": "https://localhost:8080/"
        },
        "id": "HSdflyJdwNuf",
        "outputId": "46fb313e-1856-4a43-d425-e4d5e1712315"
      },
      "source": [
        "brfss.info()"
      ],
      "execution_count": null,
      "outputs": [
        {
          "output_type": "stream",
          "text": [
            "<class 'pandas.core.frame.DataFrame'>\n",
            "Int64Index: 100000 entries, 96230 to 379327\n",
            "Data columns (total 9 columns):\n",
            " #   Column    Non-Null Count   Dtype  \n",
            "---  ------    --------------   -----  \n",
            " 0   SEX       99938 non-null   float64\n",
            " 1   HTM4      95143 non-null   float64\n",
            " 2   WTKG3     93404 non-null   float64\n",
            " 3   INCOME2   83447 non-null   float64\n",
            " 4   _LLCPWT   100000 non-null  float64\n",
            " 5   _AGEG5YR  98794 non-null   float64\n",
            " 6   _VEGESU1  87713 non-null   float64\n",
            " 7   _HTMG10   95143 non-null   float64\n",
            " 8   AGE       98794 non-null   float64\n",
            "dtypes: float64(9)\n",
            "memory usage: 7.6 MB\n"
          ],
          "name": "stdout"
        }
      ]
    },
    {
      "cell_type": "code",
      "metadata": {
        "colab": {
          "base_uri": "https://localhost:8080/"
        },
        "id": "Kfr8w_fvb_I5",
        "outputId": "4330fe68-dfc0-4992-d542-058ca6c1d26a"
      },
      "source": [
        "# Sum of all null values\r\n",
        "brfss.isnull().sum()"
      ],
      "execution_count": null,
      "outputs": [
        {
          "output_type": "execute_result",
          "data": {
            "text/plain": [
              "SEX            62\n",
              "HTM4         4857\n",
              "WTKG3        6596\n",
              "INCOME2     16553\n",
              "_LLCPWT         0\n",
              "_AGEG5YR     1206\n",
              "_VEGESU1    12287\n",
              "_HTMG10      4857\n",
              "AGE          1206\n",
              "dtype: int64"
            ]
          },
          "metadata": {
            "tags": []
          },
          "execution_count": 5
        }
      ]
    },
    {
      "cell_type": "code",
      "metadata": {
        "id": "Jpm6h2VB8f3l",
        "colab": {
          "base_uri": "https://localhost:8080/"
        },
        "outputId": "adc645d3-26eb-4cd7-f27a-77368b40cafb"
      },
      "source": [
        "from scipy.stats import linregress\r\n",
        "import statsmodels.formula.api as smf\r\n",
        "\r\n",
        "# Drop null vlaues in required columns\r\n",
        "subset = brfss.dropna(subset=['INCOME2','_VEGESU1'])\r\n",
        "\r\n",
        "# Independent variable\r\n",
        "xs = subset['INCOME2']\r\n",
        "\r\n",
        "# Dependent variable\r\n",
        "ys = subset['_VEGESU1']\r\n",
        "\r\n",
        "# Run regression with linregress\r\n",
        "res = linregress(xs, ys)\r\n",
        "print('Linear Regression using Scipy:\\n',res, '\\n','-'*70) \r\n",
        "\r\n",
        "# Run regression with StatsModels\r\n",
        "results = smf.ols('_VEGESU1 ~ INCOME2', data = brfss).fit()\r\n",
        "print('Linear regression using Stats model:\\n',results.params)"
      ],
      "execution_count": null,
      "outputs": [
        {
          "output_type": "stream",
          "text": [
            "Linear Regression using Scipy:\n",
            " LinregressResult(slope=0.06988048092105019, intercept=1.5287786243363106, rvalue=0.11967005884864107, pvalue=1.378503916247615e-238, stderr=0.002110976356332332) \n",
            " ----------------------------------------------------------------------\n",
            "Linear regression using Stats model:\n",
            " Intercept    1.528779\n",
            "INCOME2      0.069880\n",
            "dtype: float64\n"
          ],
          "name": "stdout"
        }
      ]
    },
    {
      "cell_type": "code",
      "metadata": {
        "colab": {
          "base_uri": "https://localhost:8080/"
        },
        "id": "9sb8lHw3LDHm",
        "outputId": "d7466e6e-7438-470b-a56e-6233620fb37e"
      },
      "source": [
        "res = linregress(brfss['INCOME2'], brfss['_VEGESU1'])\r\n",
        "res"
      ],
      "execution_count": null,
      "outputs": [
        {
          "output_type": "execute_result",
          "data": {
            "text/plain": [
              "LinregressResult(slope=nan, intercept=nan, rvalue=nan, pvalue=nan, stderr=nan)"
            ]
          },
          "metadata": {
            "tags": []
          },
          "execution_count": 51
        }
      ]
    },
    {
      "cell_type": "code",
      "metadata": {
        "colab": {
          "base_uri": "https://localhost:8080/"
        },
        "id": "jma0Xh2C96t2",
        "outputId": "02c0bcd7-4e38-4311-c9f3-38c052ab25b3"
      },
      "source": [
        "subset.isnull().sum()"
      ],
      "execution_count": null,
      "outputs": [
        {
          "output_type": "execute_result",
          "data": {
            "text/plain": [
              "SEX           33\n",
              "HTM4        1158\n",
              "WTKG3       2171\n",
              "INCOME2        0\n",
              "_LLCPWT        0\n",
              "_AGEG5YR     441\n",
              "_VEGESU1       0\n",
              "_HTMG10     1158\n",
              "AGE          441\n",
              "dtype: int64"
            ]
          },
          "metadata": {
            "tags": []
          },
          "execution_count": 7
        }
      ]
    },
    {
      "cell_type": "code",
      "metadata": {
        "colab": {
          "base_uri": "https://localhost:8080/",
          "height": 265
        },
        "id": "T06KJdRcxism",
        "outputId": "46e0d2d1-696e-4059-95ec-65a422ddad72"
      },
      "source": [
        "plt.plot(xs, ys, 'o', label='original data',alpha=0.02)\r\n",
        "plt.plot(xs, res.intercept + res.slope*xs,'r', label='fitted line')\r\n",
        "plt.legend()\r\n",
        "plt.show()"
      ],
      "execution_count": null,
      "outputs": [
        {
          "output_type": "display_data",
          "data": {
            "image/png": "[encoded data removed]",
            "text/plain": [
              "<Figure size 432x288 with 1 Axes>"
            ]
          },
          "metadata": {
            "tags": [],
            "needs_background": "light"
          }
        }
      ]
    },
    {
      "cell_type": "code",
      "metadata": {
        "colab": {
          "base_uri": "https://localhost:8080/",
          "height": 666
        },
        "id": "xMqnpLSc-KXy",
        "outputId": "02a3a5e3-e32f-454b-99f8-d840585e5c9e"
      },
      "source": [
        "# Group by educ\r\n",
        "grouped = gss.groupby('educ')\r\n",
        "\r\n",
        "# Compute mean income of each group with respect to 'realinc' \r\n",
        "mean_income_by_educ = grouped['realinc'].mean()\r\n",
        "print(mean_income_by_educ)\r\n",
        "\r\n",
        "# Plot mean income as a scatter plot\r\n",
        "plt.plot(mean_income_by_educ, 'o', alpha=0.5, )\r\n",
        "\r\n",
        "# Label the axes\r\n",
        "plt.xlabel('Education (years)')\r\n",
        "plt.ylabel('Income (1986 $)')\r\n",
        "plt.show()"
      ],
      "execution_count": null,
      "outputs": [
        {
          "output_type": "stream",
          "text": [
            "educ\n",
            "0.0     15290.635124\n",
            "1.0     13347.171875\n",
            "2.0     25174.645592\n",
            "3.0     12203.863350\n",
            "4.0     14038.376914\n",
            "5.0     16599.309871\n",
            "6.0     14480.535269\n",
            "7.0     17219.840438\n",
            "8.0     18591.974047\n",
            "9.0     19304.799414\n",
            "10.0    22274.634658\n",
            "11.0    24559.914503\n",
            "12.0    30265.888455\n",
            "13.0    33526.841312\n",
            "14.0    36918.908456\n",
            "15.0    37683.367151\n",
            "16.0    49576.572500\n",
            "17.0    51157.571004\n",
            "18.0    57480.893192\n",
            "19.0    58796.273113\n",
            "20.0    64833.451064\n",
            "Name: realinc, dtype: float64\n"
          ],
          "name": "stdout"
        },
        {
          "output_type": "display_data",
          "data": {
            "image/png": "[encoded data removed]",
            "text/plain": [
              "<Figure size 432x288 with 1 Axes>"
            ]
          },
          "metadata": {
            "tags": [],
            "needs_background": "light"
          }
        }
      ]
    },
    {
      "cell_type": "code",
      "metadata": {
        "colab": {
          "base_uri": "https://localhost:8080/"
        },
        "id": "MxbJjL1aY8xE",
        "outputId": "c2c86130-a763-434e-aa87-14561cf8bfb9"
      },
      "source": [
        "# Columns in gss\r\n",
        "gss.columns"
      ],
      "execution_count": null,
      "outputs": [
        {
          "output_type": "execute_result",
          "data": {
            "text/plain": [
              "Index(['year', 'age', 'cohort', 'sex', 'race', 'educ', 'realinc', 'gunlaw',\n",
              "       'grass', 'wtssall'],\n",
              "      dtype='object')"
            ]
          },
          "metadata": {
            "tags": []
          },
          "execution_count": 58
        }
      ]
    },
    {
      "cell_type": "code",
      "metadata": {
        "colab": {
          "base_uri": "https://localhost:8080/"
        },
        "id": "mrxSSIELFL-J",
        "outputId": "845db670-9a54-4c04-e618-47a077b6e63c"
      },
      "source": [
        "import statsmodels.formula.api as smf\r\n",
        "\r\n",
        "# Add new columns named as educ squared and age squared\r\n",
        "gss['educ2'] = gss['educ'] ** 2\r\n",
        "gss['age2'] = gss['age']**2\r\n",
        "\r\n",
        "# Run a regression model (Multi-linear regression) with educ, educ2, age and age2\r\n",
        "results= smf.ols('realinc ~ educ + educ2 + age +age2', data = gss).fit()\r\n",
        "print(results.summary())\r\n",
        "# Print the estimated parameters\r\n",
        "print('Intercept and Coefficients of Multi-linear regression model:\\n',results.params)"
      ],
      "execution_count": null,
      "outputs": [
        {
          "output_type": "stream",
          "text": [
            "                            OLS Regression Results                            \n",
            "==============================================================================\n",
            "Dep. Variable:                realinc   R-squared:                       0.168\n",
            "Model:                            OLS   Adj. R-squared:                  0.168\n",
            "Method:                 Least Squares   F-statistic:                     2792.\n",
            "Date:                Fri, 26 Feb 2021   Prob (F-statistic):               0.00\n",
            "Time:                        16:58:38   Log-Likelihood:            -6.4520e+05\n",
            "No. Observations:               55345   AIC:                         1.290e+06\n",
            "Df Residuals:                   55340   BIC:                         1.290e+06\n",
            "Df Model:                           4                                         \n",
            "Covariance Type:            nonrobust                                         \n",
            "==============================================================================\n",
            "                 coef    std err          t      P>|t|      [0.025      0.975]\n",
            "------------------------------------------------------------------------------\n",
            "Intercept  -2.324e+04   1501.499    -15.479      0.000   -2.62e+04   -2.03e+04\n",
            "educ        -528.3094    186.045     -2.840      0.005    -892.958    -163.661\n",
            "educ2        159.9667      7.327     21.834      0.000     145.607     174.327\n",
            "age         1696.7171     39.319     43.153      0.000    1619.652    1773.782\n",
            "age2         -17.1970      0.404    -42.538      0.000     -17.989     -16.405\n",
            "==============================================================================\n",
            "Omnibus:                    17422.378   Durbin-Watson:                   1.978\n",
            "Prob(Omnibus):                  0.000   Jarque-Bera (JB):            51721.770\n",
            "Skew:                           1.657   Prob(JB):                         0.00\n",
            "Kurtosis:                       6.382   Cond. No.                     3.50e+04\n",
            "==============================================================================\n",
            "\n",
            "Warnings:\n",
            "[1] Standard Errors assume that the covariance matrix of the errors is correctly specified.\n",
            "[2] The condition number is large, 3.5e+04. This might indicate that there are\n",
            "strong multicollinearity or other numerical problems.\n",
            "Intercept and Coefficients of Multi-linear regression model:\n",
            " Intercept   -23241.884034\n",
            "educ          -528.309369\n",
            "educ2          159.966740\n",
            "age           1696.717149\n",
            "age2           -17.196984\n",
            "dtype: float64\n"
          ],
          "name": "stdout"
        }
      ]
    },
    {
      "cell_type": "code",
      "metadata": {
        "colab": {
          "base_uri": "https://localhost:8080/",
          "height": 346
        },
        "id": "88VzmZxyYRle",
        "outputId": "7b404bdc-a087-469b-a5eb-7ed215cabe49"
      },
      "source": [
        "# Run a regression model with educ, educ2, age, and age2\r\n",
        "results = smf.ols('realinc ~ educ + educ2 + age + age2 ', data = gss).fit()\r\n",
        "\r\n",
        "# Make the DataFrame for predictions\r\n",
        "df = pd.DataFrame()\r\n",
        "df['educ'] = np.linspace(start=0, stop=20)\r\n",
        "df['age'] = 30\r\n",
        "df['educ2'] = df['educ'] ** 2\r\n",
        "df['age2'] = df['age'] ** 2\r\n",
        "print(df.shape)\r\n",
        "display(df.head())\r\n",
        "\r\n",
        "# Generate the predictions\r\n",
        "pred= results.predict(df)\r\n",
        "print('-'* 70,'\\nPredictions on the dataframe:\\n',pred.head())"
      ],
      "execution_count": null,
      "outputs": [
        {
          "output_type": "stream",
          "text": [
            "(50, 4)\n"
          ],
          "name": "stdout"
        },
        {
          "output_type": "display_data",
          "data": {
            "text/html": [
              "<div>\n",
              "<style scoped>\n",
              "    .dataframe tbody tr th:only-of-type {\n",
              "        vertical-align: middle;\n",
              "    }\n",
              "\n",
              "    .dataframe tbody tr th {\n",
              "        vertical-align: top;\n",
              "    }\n",
              "\n",
              "    .dataframe thead th {\n",
              "        text-align: right;\n",
              "    }\n",
              "</style>\n",
              "<table border=\"1\" class=\"dataframe\">\n",
              "  <thead>\n",
              "    <tr style=\"text-align: right;\">\n",
              "      <th></th>\n",
              "      <th>educ</th>\n",
              "      <th>age</th>\n",
              "      <th>educ2</th>\n",
              "      <th>age2</th>\n",
              "    </tr>\n",
              "  </thead>\n",
              "  <tbody>\n",
              "    <tr>\n",
              "      <th>0</th>\n",
              "      <td>0.000000</td>\n",
              "      <td>30</td>\n",
              "      <td>0.000000</td>\n",
              "      <td>900</td>\n",
              "    </tr>\n",
              "    <tr>\n",
              "      <th>1</th>\n",
              "      <td>0.408163</td>\n",
              "      <td>30</td>\n",
              "      <td>0.166597</td>\n",
              "      <td>900</td>\n",
              "    </tr>\n",
              "    <tr>\n",
              "      <th>2</th>\n",
              "      <td>0.816327</td>\n",
              "      <td>30</td>\n",
              "      <td>0.666389</td>\n",
              "      <td>900</td>\n",
              "    </tr>\n",
              "    <tr>\n",
              "      <th>3</th>\n",
              "      <td>1.224490</td>\n",
              "      <td>30</td>\n",
              "      <td>1.499375</td>\n",
              "      <td>900</td>\n",
              "    </tr>\n",
              "    <tr>\n",
              "      <th>4</th>\n",
              "      <td>1.632653</td>\n",
              "      <td>30</td>\n",
              "      <td>2.665556</td>\n",
              "      <td>900</td>\n",
              "    </tr>\n",
              "  </tbody>\n",
              "</table>\n",
              "</div>"
            ],
            "text/plain": [
              "       educ  age     educ2  age2\n",
              "0  0.000000   30  0.000000   900\n",
              "1  0.408163   30  0.166597   900\n",
              "2  0.816327   30  0.666389   900\n",
              "3  1.224490   30  1.499375   900\n",
              "4  1.632653   30  2.665556   900"
            ]
          },
          "metadata": {
            "tags": []
          }
        },
        {
          "output_type": "stream",
          "text": [
            "---------------------------------------------------------------------- \n",
            "Predictions on the dataframe:\n",
            " 0    12182.344976\n",
            "1    11993.358518\n",
            "2    11857.672098\n",
            "3    11775.285717\n",
            "4    11746.199374\n",
            "dtype: float64\n"
          ],
          "name": "stdout"
        }
      ]
    },
    {
      "cell_type": "code",
      "metadata": {
        "colab": {
          "base_uri": "https://localhost:8080/",
          "height": 279
        },
        "id": "F4yJvp8VvIK4",
        "outputId": "724650ee-6f82-4ea2-cfbe-2dae136b4135"
      },
      "source": [
        "# Plot mean income in each Educ group (Similar to above)\r\n",
        "plt.clf()\r\n",
        "grouped = gss.groupby('educ')\r\n",
        "mean_income_by_educ = grouped['realinc'].mean()\r\n",
        "plt.plot(mean_income_by_educ, 'o', alpha = 0.5, label = 'realinc')\r\n",
        "\r\n",
        "# Plot the predictions\r\n",
        "pred = results.predict(df)\r\n",
        "plt.plot(df['educ'],pred, label = 'Age 30')\r\n",
        "\r\n",
        "# Label axes\r\n",
        "plt.xlabel('Education (years)')\r\n",
        "plt.ylabel('Income (1986 $)')\r\n",
        "plt.legend()\r\n",
        "plt.show()"
      ],
      "execution_count": null,
      "outputs": [
        {
          "output_type": "display_data",
          "data": {
            "image/png": "[encoded data removed]",
            "text/plain": [
              "<Figure size 432x288 with 1 Axes>"
            ]
          },
          "metadata": {
            "tags": [],
            "needs_background": "light"
          }
        }
      ]
    },
    {
      "cell_type": "code",
      "metadata": {
        "id": "R3l-jzaAFILq"
      },
      "source": [
        "results= smf.ols('realinc ~ educ', data = gss).fit()"
      ],
      "execution_count": null,
      "outputs": []
    },
    {
      "cell_type": "code",
      "metadata": {
        "colab": {
          "base_uri": "https://localhost:8080/",
          "height": 279
        },
        "id": "mEFd_JJGFOCq",
        "outputId": "f32a5b6a-7ae2-4360-a381-90d621297af4"
      },
      "source": [
        "# Plot mean income in each Educ group (Similar to above)\r\n",
        "plt.clf()\r\n",
        "grouped = gss.groupby('educ')\r\n",
        "mean_income_by_educ = grouped['realinc'].mean()\r\n",
        "plt.plot(mean_income_by_educ, 'o', alpha = 0.5, label = 'realinc')\r\n",
        "\r\n",
        "# Plot the predictions\r\n",
        "pred = results.predict(df)\r\n",
        "plt.plot(df['educ'],pred, label = 'Age 30')\r\n",
        "\r\n",
        "# Label axes\r\n",
        "plt.xlabel('Education (years)')\r\n",
        "plt.ylabel('Income (1986 $)')\r\n",
        "plt.legend()\r\n",
        "plt.show()"
      ],
      "execution_count": null,
      "outputs": [
        {
          "output_type": "display_data",
          "data": {
            "image/png": "[encoded data removed]",
            "text/plain": [
              "<Figure size 432x288 with 1 Axes>"
            ]
          },
          "metadata": {
            "tags": [],
            "needs_background": "light"
          }
        }
      ]
    },
    {
      "cell_type": "code",
      "metadata": {
        "colab": {
          "base_uri": "https://localhost:8080/"
        },
        "id": "R8kMFPNWHTbV",
        "outputId": "7eca6683-3423-4988-b829-2b8fe0f99eca"
      },
      "source": [
        "gss['grass'].unique()"
      ],
      "execution_count": null,
      "outputs": [
        {
          "output_type": "execute_result",
          "data": {
            "text/plain": [
              "array([nan,  0.,  1.])"
            ]
          },
          "metadata": {
            "tags": []
          },
          "execution_count": 64
        }
      ]
    },
    {
      "cell_type": "code",
      "metadata": {
        "colab": {
          "base_uri": "https://localhost:8080/"
        },
        "id": "z8KzN5_Qv0tD",
        "outputId": "4a6981cb-0441-4241-b2e7-12d8f61da3e2"
      },
      "source": [
        "# Recode grass\r\n",
        "gss['grass'].replace(2, 0 , inplace = True)\r\n",
        "\r\n",
        "# Run logistic regression\r\n",
        "results = smf.logit('grass ~ age + age2 + educ + educ2 + C(sex)', data=gss).fit()\r\n",
        "print(results.params )\r\n",
        "print(results.predict(gss))"
      ],
      "execution_count": null,
      "outputs": [
        {
          "output_type": "stream",
          "text": [
            "Optimization terminated successfully.\n",
            "         Current function value: 0.588510\n",
            "         Iterations 6\n",
            "Intercept     -1.685223\n",
            "C(sex)[T.2]   -0.384611\n",
            "age           -0.034756\n",
            "age2           0.000192\n",
            "educ           0.221860\n",
            "educ2         -0.004163\n",
            "dtype: float64\n",
            "0        0.546216\n",
            "1        0.259045\n",
            "2        0.272744\n",
            "3        0.233856\n",
            "4        0.267804\n",
            "           ...   \n",
            "62461    0.396397\n",
            "62462    0.270376\n",
            "62463    0.204652\n",
            "62464    0.203371\n",
            "62465    0.205502\n",
            "Length: 62466, dtype: float64\n"
          ],
          "name": "stdout"
        }
      ]
    },
    {
      "cell_type": "code",
      "metadata": {
        "colab": {
          "base_uri": "https://localhost:8080/",
          "height": 265
        },
        "id": "0Qcg4EowFkZh",
        "outputId": "1cad626e-a47a-418d-82bc-8fd060e38ea8"
      },
      "source": [
        "plt.plot (gss['age'],gss['grass'], 'o', alpha=0.01)\r\n",
        "plt.show()"
      ],
      "execution_count": null,
      "outputs": [
        {
          "output_type": "display_data",
          "data": {
            "image/png": "[encoded data removed]",
            "text/plain": [
              "<Figure size 432x288 with 1 Axes>"
            ]
          },
          "metadata": {
            "tags": [],
            "needs_background": "light"
          }
        }
      ]
    },
    {
      "cell_type": "markdown",
      "metadata": {
        "id": "wMnrmit0KIGt"
      },
      "source": [
        "https://www.statsmodels.org/dev/example_formulas.html"
      ]
    }
  ]
}