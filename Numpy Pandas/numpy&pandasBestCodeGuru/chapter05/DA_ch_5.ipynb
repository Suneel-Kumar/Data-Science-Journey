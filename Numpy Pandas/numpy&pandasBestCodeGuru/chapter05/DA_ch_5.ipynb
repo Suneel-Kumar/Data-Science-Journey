{
  "nbformat": 4,
  "nbformat_minor": 0,
  "metadata": {
    "colab": {
      "name": "DA_ch_5.ipynb",
      "provenance": []
    },
    "kernelspec": {
      "name": "python3",
      "display_name": "Python 3"
    }
  },
  "cells": [
    {
      "cell_type": "code",
      "metadata": {
        "id": "4IrlgcY1OzSo"
      },
      "source": [
        "Chapter 5\n",
        "topic 5.1\n",
        "You'll convert data types, apply range constraints to remove future data points,\n",
        " and remove duplicated data points to avoid double-counting."
      ],
      "execution_count": null,
      "outputs": []
    },
    {
      "cell_type": "code",
      "metadata": {
        "colab": {
          "base_uri": "https://localhost:8080/"
        },
        "id": "2uRs15OnO7Gr",
        "outputId": "04a54620-2c2a-49c9-f125-5af250c8d905"
      },
      "source": [
        "import pandas as pd\n",
        "import matplotlib.pyplot as plt\n",
        "import numpy as np\n",
        "\n",
        "ride_sharing = pd.read_csv('ride_sharing_new.csv')\n",
        "# Print the information of ride_sharing\n",
        "print(ride_sharing.info())\n",
        "\n",
        "# Print summary statistics of user_type column\n",
        "print(ride_sharing['user_type'].describe())"
      ],
      "execution_count": null,
      "outputs": [
        {
          "output_type": "stream",
          "text": [
            "<class 'pandas.core.frame.DataFrame'>\n",
            "RangeIndex: 25760 entries, 0 to 25759\n",
            "Data columns (total 10 columns):\n",
            " #   Column           Non-Null Count  Dtype \n",
            "---  ------           --------------  ----- \n",
            " 0   Unnamed: 0       25760 non-null  int64 \n",
            " 1   duration         25760 non-null  object\n",
            " 2   station_A_id     25760 non-null  int64 \n",
            " 3   station_A_name   25760 non-null  object\n",
            " 4   station_B_id     25760 non-null  int64 \n",
            " 5   station_B_name   25760 non-null  object\n",
            " 6   bike_id          25760 non-null  int64 \n",
            " 7   user_type        25760 non-null  int64 \n",
            " 8   user_birth_year  25760 non-null  int64 \n",
            " 9   user_gender      25760 non-null  object\n",
            "dtypes: int64(6), object(4)\n",
            "memory usage: 2.0+ MB\n",
            "None\n",
            "count    25760.000000\n",
            "mean         2.008385\n",
            "std          0.704541\n",
            "min          1.000000\n",
            "25%          2.000000\n",
            "50%          2.000000\n",
            "75%          3.000000\n",
            "max          3.000000\n",
            "Name: user_type, dtype: float64\n"
          ],
          "name": "stdout"
        }
      ]
    },
    {
      "cell_type": "code",
      "metadata": {
        "colab": {
          "base_uri": "https://localhost:8080/",
          "height": 1000
        },
        "id": "lFI6OqlpBwC3",
        "outputId": "d45182f8-59b4-45c9-e33b-38e4be87e1a8"
      },
      "source": [
        "print(ride_sharing)\r\n",
        "ride_sharing"
      ],
      "execution_count": null,
      "outputs": [
        {
          "output_type": "stream",
          "text": [
            "       Unnamed: 0    duration  ...  user_birth_year user_gender\n",
            "0               0  12 minutes  ...             1959        Male\n",
            "1               1  24 minutes  ...             1965        Male\n",
            "2               2   8 minutes  ...             1993        Male\n",
            "3               3   4 minutes  ...             1979        Male\n",
            "4               4  11 minutes  ...             1994        Male\n",
            "...           ...         ...  ...              ...         ...\n",
            "25755       25755  11 minutes  ...             2000        Male\n",
            "25756       25756  10 minutes  ...             1998        Male\n",
            "25757       25757  14 minutes  ...             1995        Male\n",
            "25758       25758  14 minutes  ...             1995        Male\n",
            "25759       25759  29 minutes  ...             1990        Male\n",
            "\n",
            "[25760 rows x 10 columns]\n"
          ],
          "name": "stdout"
        },
        {
          "output_type": "execute_result",
          "data": {
            "text/html": [
              "<div>\n",
              "<style scoped>\n",
              "    .dataframe tbody tr th:only-of-type {\n",
              "        vertical-align: middle;\n",
              "    }\n",
              "\n",
              "    .dataframe tbody tr th {\n",
              "        vertical-align: top;\n",
              "    }\n",
              "\n",
              "    .dataframe thead th {\n",
              "        text-align: right;\n",
              "    }\n",
              "</style>\n",
              "<table border=\"1\" class=\"dataframe\">\n",
              "  <thead>\n",
              "    <tr style=\"text-align: right;\">\n",
              "      <th></th>\n",
              "      <th>Unnamed: 0</th>\n",
              "      <th>duration</th>\n",
              "      <th>station_A_id</th>\n",
              "      <th>station_A_name</th>\n",
              "      <th>station_B_id</th>\n",
              "      <th>station_B_name</th>\n",
              "      <th>bike_id</th>\n",
              "      <th>user_type</th>\n",
              "      <th>user_birth_year</th>\n",
              "      <th>user_gender</th>\n",
              "    </tr>\n",
              "  </thead>\n",
              "  <tbody>\n",
              "    <tr>\n",
              "      <th>0</th>\n",
              "      <td>0</td>\n",
              "      <td>12 minutes</td>\n",
              "      <td>81</td>\n",
              "      <td>Berry St at 4th St</td>\n",
              "      <td>323</td>\n",
              "      <td>Broadway at Kearny</td>\n",
              "      <td>5480</td>\n",
              "      <td>2</td>\n",
              "      <td>1959</td>\n",
              "      <td>Male</td>\n",
              "    </tr>\n",
              "    <tr>\n",
              "      <th>1</th>\n",
              "      <td>1</td>\n",
              "      <td>24 minutes</td>\n",
              "      <td>3</td>\n",
              "      <td>Powell St BART Station (Market St at 4th St)</td>\n",
              "      <td>118</td>\n",
              "      <td>Eureka Valley Recreation Center</td>\n",
              "      <td>5193</td>\n",
              "      <td>2</td>\n",
              "      <td>1965</td>\n",
              "      <td>Male</td>\n",
              "    </tr>\n",
              "    <tr>\n",
              "      <th>2</th>\n",
              "      <td>2</td>\n",
              "      <td>8 minutes</td>\n",
              "      <td>67</td>\n",
              "      <td>San Francisco Caltrain Station 2  (Townsend St...</td>\n",
              "      <td>23</td>\n",
              "      <td>The Embarcadero at Steuart St</td>\n",
              "      <td>3652</td>\n",
              "      <td>3</td>\n",
              "      <td>1993</td>\n",
              "      <td>Male</td>\n",
              "    </tr>\n",
              "    <tr>\n",
              "      <th>3</th>\n",
              "      <td>3</td>\n",
              "      <td>4 minutes</td>\n",
              "      <td>16</td>\n",
              "      <td>Steuart St at Market St</td>\n",
              "      <td>28</td>\n",
              "      <td>The Embarcadero at Bryant St</td>\n",
              "      <td>1883</td>\n",
              "      <td>1</td>\n",
              "      <td>1979</td>\n",
              "      <td>Male</td>\n",
              "    </tr>\n",
              "    <tr>\n",
              "      <th>4</th>\n",
              "      <td>4</td>\n",
              "      <td>11 minutes</td>\n",
              "      <td>22</td>\n",
              "      <td>Howard St at Beale St</td>\n",
              "      <td>350</td>\n",
              "      <td>8th St at Brannan St</td>\n",
              "      <td>4626</td>\n",
              "      <td>2</td>\n",
              "      <td>1994</td>\n",
              "      <td>Male</td>\n",
              "    </tr>\n",
              "    <tr>\n",
              "      <th>...</th>\n",
              "      <td>...</td>\n",
              "      <td>...</td>\n",
              "      <td>...</td>\n",
              "      <td>...</td>\n",
              "      <td>...</td>\n",
              "      <td>...</td>\n",
              "      <td>...</td>\n",
              "      <td>...</td>\n",
              "      <td>...</td>\n",
              "      <td>...</td>\n",
              "    </tr>\n",
              "    <tr>\n",
              "      <th>25755</th>\n",
              "      <td>25755</td>\n",
              "      <td>11 minutes</td>\n",
              "      <td>15</td>\n",
              "      <td>San Francisco Ferry Building (Harry Bridges Pl...</td>\n",
              "      <td>34</td>\n",
              "      <td>Father Alfred E Boeddeker Park</td>\n",
              "      <td>5063</td>\n",
              "      <td>1</td>\n",
              "      <td>2000</td>\n",
              "      <td>Male</td>\n",
              "    </tr>\n",
              "    <tr>\n",
              "      <th>25756</th>\n",
              "      <td>25756</td>\n",
              "      <td>10 minutes</td>\n",
              "      <td>15</td>\n",
              "      <td>San Francisco Ferry Building (Harry Bridges Pl...</td>\n",
              "      <td>34</td>\n",
              "      <td>Father Alfred E Boeddeker Park</td>\n",
              "      <td>5411</td>\n",
              "      <td>2</td>\n",
              "      <td>1998</td>\n",
              "      <td>Male</td>\n",
              "    </tr>\n",
              "    <tr>\n",
              "      <th>25757</th>\n",
              "      <td>25757</td>\n",
              "      <td>14 minutes</td>\n",
              "      <td>15</td>\n",
              "      <td>San Francisco Ferry Building (Harry Bridges Pl...</td>\n",
              "      <td>42</td>\n",
              "      <td>San Francisco City Hall (Polk St at Grove St)</td>\n",
              "      <td>5157</td>\n",
              "      <td>2</td>\n",
              "      <td>1995</td>\n",
              "      <td>Male</td>\n",
              "    </tr>\n",
              "    <tr>\n",
              "      <th>25758</th>\n",
              "      <td>25758</td>\n",
              "      <td>14 minutes</td>\n",
              "      <td>15</td>\n",
              "      <td>San Francisco Ferry Building (Harry Bridges Pl...</td>\n",
              "      <td>42</td>\n",
              "      <td>San Francisco City Hall (Polk St at Grove St)</td>\n",
              "      <td>4438</td>\n",
              "      <td>2</td>\n",
              "      <td>1995</td>\n",
              "      <td>Male</td>\n",
              "    </tr>\n",
              "    <tr>\n",
              "      <th>25759</th>\n",
              "      <td>25759</td>\n",
              "      <td>29 minutes</td>\n",
              "      <td>16</td>\n",
              "      <td>Steuart St at Market St</td>\n",
              "      <td>115</td>\n",
              "      <td>Jackson Playground</td>\n",
              "      <td>1705</td>\n",
              "      <td>3</td>\n",
              "      <td>1990</td>\n",
              "      <td>Male</td>\n",
              "    </tr>\n",
              "  </tbody>\n",
              "</table>\n",
              "<p>25760 rows × 10 columns</p>\n",
              "</div>"
            ],
            "text/plain": [
              "       Unnamed: 0    duration  ...  user_birth_year user_gender\n",
              "0               0  12 minutes  ...             1959        Male\n",
              "1               1  24 minutes  ...             1965        Male\n",
              "2               2   8 minutes  ...             1993        Male\n",
              "3               3   4 minutes  ...             1979        Male\n",
              "4               4  11 minutes  ...             1994        Male\n",
              "...           ...         ...  ...              ...         ...\n",
              "25755       25755  11 minutes  ...             2000        Male\n",
              "25756       25756  10 minutes  ...             1998        Male\n",
              "25757       25757  14 minutes  ...             1995        Male\n",
              "25758       25758  14 minutes  ...             1995        Male\n",
              "25759       25759  29 minutes  ...             1990        Male\n",
              "\n",
              "[25760 rows x 10 columns]"
            ]
          },
          "metadata": {
            "tags": []
          },
          "execution_count": 53
        }
      ]
    },
    {
      "cell_type": "code",
      "metadata": {
        "colab": {
          "base_uri": "https://localhost:8080/"
        },
        "id": "fyCxuvgIWnnO",
        "outputId": "5939bb7e-c688-48d8-c2bd-85b8f446d641"
      },
      "source": [
        "# Strip duration of minutes\n",
        "ride_sharing['duration_trim'] = ride_sharing['duration'].str.strip('minutes')\n",
        "print(ride_sharing['duration_trim'])\n",
        "\n",
        "# Convert duration to integer\n",
        "ride_sharing['duration_time'] = ride_sharing['duration_trim'].astype('int')\n",
        "\n",
        "# Write an assert statement making sure of conversion\n",
        "assert ride_sharing['duration_time'].dtype == 'int'\n",
        "\n",
        "# Print formed columns and calculate average ride duration \n",
        "print(ride_sharing[['duration','duration_trim','duration_time']])\n",
        "print(ride_sharing.duration_time.mean())"
      ],
      "execution_count": null,
      "outputs": [
        {
          "output_type": "stream",
          "text": [
            "0        12 \n",
            "1        24 \n",
            "2         8 \n",
            "3         4 \n",
            "4        11 \n",
            "        ... \n",
            "25755    11 \n",
            "25756    10 \n",
            "25757    14 \n",
            "25758    14 \n",
            "25759    29 \n",
            "Name: duration_trim, Length: 25760, dtype: object\n",
            "         duration duration_trim  duration_time\n",
            "0      12 minutes           12              12\n",
            "1      24 minutes           24              24\n",
            "2       8 minutes            8               8\n",
            "3       4 minutes            4               4\n",
            "4      11 minutes           11              11\n",
            "...           ...           ...            ...\n",
            "25755  11 minutes           11              11\n",
            "25756  10 minutes           10              10\n",
            "25757  14 minutes           14              14\n",
            "25758  14 minutes           14              14\n",
            "25759  29 minutes           29              29\n",
            "\n",
            "[25760 rows x 3 columns]\n",
            "11.389052795031056\n"
          ],
          "name": "stdout"
        }
      ]
    },
    {
      "cell_type": "code",
      "metadata": {
        "colab": {
          "base_uri": "https://localhost:8080/"
        },
        "id": "_1uTUpkFcRiO",
        "outputId": "3a06406e-3bc9-44b5-e281-6420bca69814"
      },
      "source": [
        "ride_sharing.user_type"
      ],
      "execution_count": null,
      "outputs": [
        {
          "output_type": "execute_result",
          "data": {
            "text/plain": [
              "0        2\n",
              "1        2\n",
              "2        3\n",
              "3        1\n",
              "4        2\n",
              "        ..\n",
              "25755    1\n",
              "25756    2\n",
              "25757    2\n",
              "25758    2\n",
              "25759    3\n",
              "Name: user_type, Length: 25760, dtype: int64"
            ]
          },
          "metadata": {
            "tags": []
          },
          "execution_count": 55
        }
      ]
    },
    {
      "cell_type": "code",
      "metadata": {
        "colab": {
          "base_uri": "https://localhost:8080/"
        },
        "id": "b2cFgwlkoLIj",
        "outputId": "fec4ea3a-05cb-4dc3-cfca-5121a2b8684c"
      },
      "source": [
        "ride_sharing.info()"
      ],
      "execution_count": null,
      "outputs": [
        {
          "output_type": "stream",
          "text": [
            "<class 'pandas.core.frame.DataFrame'>\n",
            "RangeIndex: 25760 entries, 0 to 25759\n",
            "Data columns (total 12 columns):\n",
            " #   Column           Non-Null Count  Dtype \n",
            "---  ------           --------------  ----- \n",
            " 0   Unnamed: 0       25760 non-null  int64 \n",
            " 1   duration         25760 non-null  object\n",
            " 2   station_A_id     25760 non-null  int64 \n",
            " 3   station_A_name   25760 non-null  object\n",
            " 4   station_B_id     25760 non-null  int64 \n",
            " 5   station_B_name   25760 non-null  object\n",
            " 6   bike_id          25760 non-null  int64 \n",
            " 7   user_type        25760 non-null  int64 \n",
            " 8   user_birth_year  25760 non-null  int64 \n",
            " 9   user_gender      25760 non-null  object\n",
            " 10  duration_trim    25760 non-null  object\n",
            " 11  duration_time    25760 non-null  int64 \n",
            "dtypes: int64(7), object(5)\n",
            "memory usage: 2.4+ MB\n"
          ],
          "name": "stdout"
        }
      ]
    },
    {
      "cell_type": "code",
      "metadata": {
        "colab": {
          "base_uri": "https://localhost:8080/",
          "height": 284
        },
        "id": "LsS9eqqroOPs",
        "outputId": "c76081b9-5e2a-4d82-ae78-68924d92bd87"
      },
      "source": [
        "ride_sharing.describe()"
      ],
      "execution_count": null,
      "outputs": [
        {
          "output_type": "execute_result",
          "data": {
            "text/html": [
              "<div>\n",
              "<style scoped>\n",
              "    .dataframe tbody tr th:only-of-type {\n",
              "        vertical-align: middle;\n",
              "    }\n",
              "\n",
              "    .dataframe tbody tr th {\n",
              "        vertical-align: top;\n",
              "    }\n",
              "\n",
              "    .dataframe thead th {\n",
              "        text-align: right;\n",
              "    }\n",
              "</style>\n",
              "<table border=\"1\" class=\"dataframe\">\n",
              "  <thead>\n",
              "    <tr style=\"text-align: right;\">\n",
              "      <th></th>\n",
              "      <th>Unnamed: 0</th>\n",
              "      <th>station_A_id</th>\n",
              "      <th>station_B_id</th>\n",
              "      <th>bike_id</th>\n",
              "      <th>user_type</th>\n",
              "      <th>user_birth_year</th>\n",
              "      <th>duration_time</th>\n",
              "    </tr>\n",
              "  </thead>\n",
              "  <tbody>\n",
              "    <tr>\n",
              "      <th>count</th>\n",
              "      <td>25760.000000</td>\n",
              "      <td>25760.000000</td>\n",
              "      <td>25760.000000</td>\n",
              "      <td>25760.000000</td>\n",
              "      <td>25760.000000</td>\n",
              "      <td>25760.000000</td>\n",
              "      <td>25760.000000</td>\n",
              "    </tr>\n",
              "    <tr>\n",
              "      <th>mean</th>\n",
              "      <td>12879.500000</td>\n",
              "      <td>31.023602</td>\n",
              "      <td>89.558579</td>\n",
              "      <td>4107.621467</td>\n",
              "      <td>2.008385</td>\n",
              "      <td>1983.054969</td>\n",
              "      <td>11.389053</td>\n",
              "    </tr>\n",
              "    <tr>\n",
              "      <th>std</th>\n",
              "      <td>7436.415803</td>\n",
              "      <td>26.409263</td>\n",
              "      <td>105.144103</td>\n",
              "      <td>1576.315767</td>\n",
              "      <td>0.704541</td>\n",
              "      <td>10.010992</td>\n",
              "      <td>23.500516</td>\n",
              "    </tr>\n",
              "    <tr>\n",
              "      <th>min</th>\n",
              "      <td>0.000000</td>\n",
              "      <td>3.000000</td>\n",
              "      <td>3.000000</td>\n",
              "      <td>11.000000</td>\n",
              "      <td>1.000000</td>\n",
              "      <td>1901.000000</td>\n",
              "      <td>1.000000</td>\n",
              "    </tr>\n",
              "    <tr>\n",
              "      <th>25%</th>\n",
              "      <td>6439.750000</td>\n",
              "      <td>15.000000</td>\n",
              "      <td>21.000000</td>\n",
              "      <td>3106.000000</td>\n",
              "      <td>2.000000</td>\n",
              "      <td>1978.000000</td>\n",
              "      <td>6.000000</td>\n",
              "    </tr>\n",
              "    <tr>\n",
              "      <th>50%</th>\n",
              "      <td>12879.500000</td>\n",
              "      <td>21.000000</td>\n",
              "      <td>58.000000</td>\n",
              "      <td>4821.000000</td>\n",
              "      <td>2.000000</td>\n",
              "      <td>1985.000000</td>\n",
              "      <td>9.000000</td>\n",
              "    </tr>\n",
              "    <tr>\n",
              "      <th>75%</th>\n",
              "      <td>19319.250000</td>\n",
              "      <td>67.000000</td>\n",
              "      <td>93.000000</td>\n",
              "      <td>5257.000000</td>\n",
              "      <td>3.000000</td>\n",
              "      <td>1990.000000</td>\n",
              "      <td>13.000000</td>\n",
              "    </tr>\n",
              "    <tr>\n",
              "      <th>max</th>\n",
              "      <td>25759.000000</td>\n",
              "      <td>81.000000</td>\n",
              "      <td>383.000000</td>\n",
              "      <td>6638.000000</td>\n",
              "      <td>3.000000</td>\n",
              "      <td>2001.000000</td>\n",
              "      <td>1372.000000</td>\n",
              "    </tr>\n",
              "  </tbody>\n",
              "</table>\n",
              "</div>"
            ],
            "text/plain": [
              "         Unnamed: 0  station_A_id  ...  user_birth_year  duration_time\n",
              "count  25760.000000  25760.000000  ...     25760.000000   25760.000000\n",
              "mean   12879.500000     31.023602  ...      1983.054969      11.389053\n",
              "std     7436.415803     26.409263  ...        10.010992      23.500516\n",
              "min        0.000000      3.000000  ...      1901.000000       1.000000\n",
              "25%     6439.750000     15.000000  ...      1978.000000       6.000000\n",
              "50%    12879.500000     21.000000  ...      1985.000000       9.000000\n",
              "75%    19319.250000     67.000000  ...      1990.000000      13.000000\n",
              "max    25759.000000     81.000000  ...      2001.000000    1372.000000\n",
              "\n",
              "[8 rows x 7 columns]"
            ]
          },
          "metadata": {
            "tags": []
          },
          "execution_count": 20
        }
      ]
    },
    {
      "cell_type": "code",
      "metadata": {
        "colab": {
          "base_uri": "https://localhost:8080/"
        },
        "id": "HNZWWnHZz7-4",
        "outputId": "b0022adf-c961-43f3-f839-71e7a6fabcfe"
      },
      "source": [
        "ride_sharing['user_type'].unique()"
      ],
      "execution_count": null,
      "outputs": [
        {
          "output_type": "execute_result",
          "data": {
            "text/plain": [
              "array([2, 3, 1])"
            ]
          },
          "metadata": {
            "tags": []
          },
          "execution_count": 59
        }
      ]
    },
    {
      "cell_type": "code",
      "metadata": {
        "colab": {
          "base_uri": "https://localhost:8080/"
        },
        "id": "saZGcIleYAzK",
        "outputId": "c16e7fc1-2e18-4ec2-fe6c-1862ba8600d3"
      },
      "source": [
        "# Convert tire_sizes to integer\n",
        "ride_sharing['user_type'] = ride_sharing['user_type'].astype('int')\n",
        "\n",
        "# Set all values above 3 to 0\n",
        "ride_sharing.loc[ride_sharing['user_type'] > 3, 'user_type'] = 0\n",
        "\n",
        "# Reconvert tire_sizes back to categorical\n",
        "#ride_sharing['user_type'] = ride_sharing['user_type'].astype('category')\n",
        "\n",
        "# Print tire size description\n",
        "print(ride_sharing['user_type'].describe())"
      ],
      "execution_count": null,
      "outputs": [
        {
          "output_type": "stream",
          "text": [
            "count    25760.000000\n",
            "mean         2.008385\n",
            "std          0.704541\n",
            "min          1.000000\n",
            "25%          2.000000\n",
            "50%          2.000000\n",
            "75%          3.000000\n",
            "max          3.000000\n",
            "Name: user_type, dtype: float64\n"
          ],
          "name": "stdout"
        }
      ]
    },
    {
      "cell_type": "code",
      "metadata": {
        "colab": {
          "base_uri": "https://localhost:8080/"
        },
        "id": "eY-olzKxno7T",
        "outputId": "8a3a4059-6a5e-4896-e67f-4e7521f4ce3a"
      },
      "source": [
        "ride_sharing['user_type'] = ride_sharing['user_type'].astype('category')\r\n",
        "\r\n",
        "print(ride_sharing['user_type'].describe())"
      ],
      "execution_count": null,
      "outputs": [
        {
          "output_type": "stream",
          "text": [
            "count     25760\n",
            "unique        3\n",
            "top           2\n",
            "freq      12972\n",
            "Name: user_type, dtype: int64\n"
          ],
          "name": "stdout"
        }
      ]
    },
    {
      "cell_type": "code",
      "metadata": {
        "colab": {
          "base_uri": "https://localhost:8080/"
        },
        "id": "9cR3ii7H1hPd",
        "outputId": "abbfcf3b-1a8c-4573-bc43-b0d4879ee68f"
      },
      "source": [
        "ride_sharing.info()"
      ],
      "execution_count": null,
      "outputs": [
        {
          "output_type": "stream",
          "text": [
            "<class 'pandas.core.frame.DataFrame'>\n",
            "RangeIndex: 25760 entries, 0 to 25759\n",
            "Data columns (total 12 columns):\n",
            " #   Column           Non-Null Count  Dtype   \n",
            "---  ------           --------------  -----   \n",
            " 0   Unnamed: 0       25760 non-null  int64   \n",
            " 1   duration         25760 non-null  object  \n",
            " 2   station_A_id     25760 non-null  int64   \n",
            " 3   station_A_name   25760 non-null  object  \n",
            " 4   station_B_id     25760 non-null  int64   \n",
            " 5   station_B_name   25760 non-null  object  \n",
            " 6   bike_id          25760 non-null  int64   \n",
            " 7   user_type        25760 non-null  category\n",
            " 8   user_birth_year  25760 non-null  int64   \n",
            " 9   user_gender      25760 non-null  object  \n",
            " 10  duration_trim    25760 non-null  object  \n",
            " 11  duration_time    25760 non-null  int64   \n",
            "dtypes: category(1), int64(6), object(5)\n",
            "memory usage: 2.2+ MB\n"
          ],
          "name": "stdout"
        }
      ]
    },
    {
      "cell_type": "code",
      "metadata": {
        "colab": {
          "base_uri": "https://localhost:8080/"
        },
        "id": "Fg1iYuvynVqa",
        "outputId": "806dab2f-076b-4919-f66d-52f8eb1b3ab0"
      },
      "source": [
        "ride_sharing.user_type.unique()"
      ],
      "execution_count": null,
      "outputs": [
        {
          "output_type": "execute_result",
          "data": {
            "text/plain": [
              "[2, 3, 1]\n",
              "Categories (3, int64): [2, 3, 1]"
            ]
          },
          "metadata": {
            "tags": []
          },
          "execution_count": 62
        }
      ]
    },
    {
      "cell_type": "code",
      "metadata": {
        "colab": {
          "base_uri": "https://localhost:8080/"
        },
        "id": "2LZdz5gYZBYn",
        "outputId": "494ea72f-83eb-4f56-bce4-5fa2f3360d95"
      },
      "source": [
        "# Convert ride_date to datetime\n",
        "ride_sharing['user_birth_year'] = pd.to_datetime(ride_sharing['user_birth_year'])\n",
        "\n",
        "import datetime as dt \n",
        "# Save today's date\n",
        "date = dt.date.today()\n",
        "\n",
        "time = dt.datetime.max.time()\n",
        "datetime = dt.datetime.combine(date, time)\n",
        "\n",
        "# Set all in the future to today's date\n",
        "ride_sharing.loc[ride_sharing['user_birth_year'] > datetime, 'user_birth_year'] = datetime\n",
        "\n",
        "# Print maximum of ride_dt column\n",
        "print(ride_sharing['user_birth_year'].max())\n",
        "print(datetime)"
      ],
      "execution_count": null,
      "outputs": [
        {
          "output_type": "stream",
          "text": [
            "1970-01-01 00:00:00.000002001\n",
            "2021-02-17 23:59:59.999999\n"
          ],
          "name": "stdout"
        }
      ]
    },
    {
      "cell_type": "code",
      "metadata": {
        "colab": {
          "base_uri": "https://localhost:8080/"
        },
        "id": "kVdbwqw9Zdly",
        "outputId": "8695b28a-74e7-4201-8100-f5825f351b7e"
      },
      "source": [
        "# Find duplicates\n",
        "duplicates = ride_sharing.duplicated(subset='bike_id', keep=False)\n",
        "print(duplicates.unique())\n",
        "\n",
        "# Sort your duplicated rides\n",
        "duplicated_rides = ride_sharing[duplicates].sort_values('bike_id')\n",
        "print(duplicated_rides)\n",
        "\n",
        "# Print relevant columns of duplicated_rides\n",
        "print(duplicated_rides[['bike_id','duration','user_birth_year']])"
      ],
      "execution_count": null,
      "outputs": [
        {
          "output_type": "stream",
          "text": [
            "[ True False]\n",
            "       Unnamed: 0    duration  ...  duration_trim duration_time\n",
            "3638         3638  12 minutes  ...            12             12\n",
            "6088         6088   5 minutes  ...             5              5\n",
            "10857       10857   4 minutes  ...             4              4\n",
            "10045       10045  13 minutes  ...            13             13\n",
            "16104       16104  10 minutes  ...            10             10\n",
            "...           ...         ...  ...            ...           ...\n",
            "8812         8812  10 minutes  ...            10             10\n",
            "6815         6815   5 minutes  ...             5              5\n",
            "8456         8456   7 minutes  ...             7              7\n",
            "8300         8300   6 minutes  ...             6              6\n",
            "8380         8380   8 minutes  ...             8              8\n",
            "\n",
            "[25717 rows x 12 columns]\n",
            "       bike_id    duration               user_birth_year\n",
            "3638        11  12 minutes 1970-01-01 00:00:00.000001988\n",
            "6088        11   5 minutes 1970-01-01 00:00:00.000001985\n",
            "10857       11   4 minutes 1970-01-01 00:00:00.000001987\n",
            "10045       27  13 minutes 1970-01-01 00:00:00.000001989\n",
            "16104       27  10 minutes 1970-01-01 00:00:00.000001970\n",
            "...        ...         ...                           ...\n",
            "8812      6638  10 minutes 1970-01-01 00:00:00.000001986\n",
            "6815      6638   5 minutes 1970-01-01 00:00:00.000001995\n",
            "8456      6638   7 minutes 1970-01-01 00:00:00.000001983\n",
            "8300      6638   6 minutes 1970-01-01 00:00:00.000001962\n",
            "8380      6638   8 minutes 1970-01-01 00:00:00.000001984\n",
            "\n",
            "[25717 rows x 3 columns]\n"
          ],
          "name": "stdout"
        }
      ]
    },
    {
      "cell_type": "code",
      "metadata": {
        "colab": {
          "base_uri": "https://localhost:8080/",
          "height": 716
        },
        "id": "Gr8AQj3zq4Ts",
        "outputId": "89c5e227-6b59-4aba-d3a2-2222a2b53b3f"
      },
      "source": [
        "# Drop complete duplicates from ride_sharing\n",
        "ride_dup = ride_sharing.drop_duplicates()\n",
        "\n",
        "# Group by ride_id and compute new statistics\n",
        "ride_unique = ride_dup.groupby('bike_id')\n",
        "\n",
        "# Assert duplicates are processed\n",
        "print(ride_dup[['bike_id','duration','user_birth_year']].sort_values('bike_id'))\n",
        "ride_unique.describe()"
      ],
      "execution_count": null,
      "outputs": [
        {
          "output_type": "stream",
          "text": [
            "       bike_id    duration               user_birth_year\n",
            "10857       11   4 minutes 1970-01-01 00:00:00.000001987\n",
            "6088        11   5 minutes 1970-01-01 00:00:00.000001985\n",
            "3638        11  12 minutes 1970-01-01 00:00:00.000001988\n",
            "3431        27  10 minutes 1970-01-01 00:00:00.000001988\n",
            "2747        27   6 minutes 1970-01-01 00:00:00.000001992\n",
            "...        ...         ...                           ...\n",
            "8456      6638   7 minutes 1970-01-01 00:00:00.000001983\n",
            "8812      6638  10 minutes 1970-01-01 00:00:00.000001986\n",
            "6815      6638   5 minutes 1970-01-01 00:00:00.000001995\n",
            "8380      6638   8 minutes 1970-01-01 00:00:00.000001984\n",
            "8300      6638   6 minutes 1970-01-01 00:00:00.000001962\n",
            "\n",
            "[25760 rows x 3 columns]\n"
          ],
          "name": "stdout"
        },
        {
          "output_type": "execute_result",
          "data": {
            "text/html": [
              "<div>\n",
              "<style scoped>\n",
              "    .dataframe tbody tr th:only-of-type {\n",
              "        vertical-align: middle;\n",
              "    }\n",
              "\n",
              "    .dataframe tbody tr th {\n",
              "        vertical-align: top;\n",
              "    }\n",
              "\n",
              "    .dataframe thead tr th {\n",
              "        text-align: left;\n",
              "    }\n",
              "\n",
              "    .dataframe thead tr:last-of-type th {\n",
              "        text-align: right;\n",
              "    }\n",
              "</style>\n",
              "<table border=\"1\" class=\"dataframe\">\n",
              "  <thead>\n",
              "    <tr>\n",
              "      <th></th>\n",
              "      <th colspan=\"8\" halign=\"left\">Unnamed: 0</th>\n",
              "      <th colspan=\"8\" halign=\"left\">station_A_id</th>\n",
              "      <th colspan=\"8\" halign=\"left\">station_B_id</th>\n",
              "      <th colspan=\"8\" halign=\"left\">duration_time</th>\n",
              "    </tr>\n",
              "    <tr>\n",
              "      <th></th>\n",
              "      <th>count</th>\n",
              "      <th>mean</th>\n",
              "      <th>std</th>\n",
              "      <th>min</th>\n",
              "      <th>25%</th>\n",
              "      <th>50%</th>\n",
              "      <th>75%</th>\n",
              "      <th>max</th>\n",
              "      <th>count</th>\n",
              "      <th>mean</th>\n",
              "      <th>std</th>\n",
              "      <th>min</th>\n",
              "      <th>25%</th>\n",
              "      <th>50%</th>\n",
              "      <th>75%</th>\n",
              "      <th>max</th>\n",
              "      <th>count</th>\n",
              "      <th>mean</th>\n",
              "      <th>std</th>\n",
              "      <th>min</th>\n",
              "      <th>25%</th>\n",
              "      <th>50%</th>\n",
              "      <th>75%</th>\n",
              "      <th>max</th>\n",
              "      <th>count</th>\n",
              "      <th>mean</th>\n",
              "      <th>std</th>\n",
              "      <th>min</th>\n",
              "      <th>25%</th>\n",
              "      <th>50%</th>\n",
              "      <th>75%</th>\n",
              "      <th>max</th>\n",
              "    </tr>\n",
              "    <tr>\n",
              "      <th>bike_id</th>\n",
              "      <th></th>\n",
              "      <th></th>\n",
              "      <th></th>\n",
              "      <th></th>\n",
              "      <th></th>\n",
              "      <th></th>\n",
              "      <th></th>\n",
              "      <th></th>\n",
              "      <th></th>\n",
              "      <th></th>\n",
              "      <th></th>\n",
              "      <th></th>\n",
              "      <th></th>\n",
              "      <th></th>\n",
              "      <th></th>\n",
              "      <th></th>\n",
              "      <th></th>\n",
              "      <th></th>\n",
              "      <th></th>\n",
              "      <th></th>\n",
              "      <th></th>\n",
              "      <th></th>\n",
              "      <th></th>\n",
              "      <th></th>\n",
              "      <th></th>\n",
              "      <th></th>\n",
              "      <th></th>\n",
              "      <th></th>\n",
              "      <th></th>\n",
              "      <th></th>\n",
              "      <th></th>\n",
              "      <th></th>\n",
              "    </tr>\n",
              "  </thead>\n",
              "  <tbody>\n",
              "    <tr>\n",
              "      <th>11</th>\n",
              "      <td>3.0</td>\n",
              "      <td>6861.000000</td>\n",
              "      <td>3671.053936</td>\n",
              "      <td>3638.0</td>\n",
              "      <td>4863.00</td>\n",
              "      <td>6088.0</td>\n",
              "      <td>8472.50</td>\n",
              "      <td>10857.0</td>\n",
              "      <td>3.0</td>\n",
              "      <td>30.666667</td>\n",
              "      <td>32.868425</td>\n",
              "      <td>3.0</td>\n",
              "      <td>12.50</td>\n",
              "      <td>22.0</td>\n",
              "      <td>44.50</td>\n",
              "      <td>67.0</td>\n",
              "      <td>3.0</td>\n",
              "      <td>153.333333</td>\n",
              "      <td>170.506109</td>\n",
              "      <td>47.0</td>\n",
              "      <td>55.00</td>\n",
              "      <td>63.0</td>\n",
              "      <td>206.50</td>\n",
              "      <td>350.0</td>\n",
              "      <td>3.0</td>\n",
              "      <td>7.000000</td>\n",
              "      <td>4.358899</td>\n",
              "      <td>4.0</td>\n",
              "      <td>4.50</td>\n",
              "      <td>5.0</td>\n",
              "      <td>8.50</td>\n",
              "      <td>12.0</td>\n",
              "    </tr>\n",
              "    <tr>\n",
              "      <th>27</th>\n",
              "      <td>18.0</td>\n",
              "      <td>13404.722222</td>\n",
              "      <td>7910.772364</td>\n",
              "      <td>888.0</td>\n",
              "      <td>5521.75</td>\n",
              "      <td>15097.0</td>\n",
              "      <td>18372.25</td>\n",
              "      <td>25307.0</td>\n",
              "      <td>18.0</td>\n",
              "      <td>28.555556</td>\n",
              "      <td>23.121730</td>\n",
              "      <td>3.0</td>\n",
              "      <td>15.00</td>\n",
              "      <td>22.0</td>\n",
              "      <td>30.00</td>\n",
              "      <td>67.0</td>\n",
              "      <td>18.0</td>\n",
              "      <td>68.333333</td>\n",
              "      <td>39.030908</td>\n",
              "      <td>15.0</td>\n",
              "      <td>30.75</td>\n",
              "      <td>65.5</td>\n",
              "      <td>99.75</td>\n",
              "      <td>126.0</td>\n",
              "      <td>18.0</td>\n",
              "      <td>12.500000</td>\n",
              "      <td>4.655800</td>\n",
              "      <td>6.0</td>\n",
              "      <td>10.00</td>\n",
              "      <td>11.0</td>\n",
              "      <td>15.25</td>\n",
              "      <td>25.0</td>\n",
              "    </tr>\n",
              "    <tr>\n",
              "      <th>37</th>\n",
              "      <td>12.0</td>\n",
              "      <td>10026.583333</td>\n",
              "      <td>5629.998990</td>\n",
              "      <td>3968.0</td>\n",
              "      <td>4978.75</td>\n",
              "      <td>8613.0</td>\n",
              "      <td>14530.75</td>\n",
              "      <td>20294.0</td>\n",
              "      <td>12.0</td>\n",
              "      <td>27.500000</td>\n",
              "      <td>24.088851</td>\n",
              "      <td>3.0</td>\n",
              "      <td>13.25</td>\n",
              "      <td>22.0</td>\n",
              "      <td>30.00</td>\n",
              "      <td>81.0</td>\n",
              "      <td>12.0</td>\n",
              "      <td>61.833333</td>\n",
              "      <td>94.330978</td>\n",
              "      <td>5.0</td>\n",
              "      <td>20.50</td>\n",
              "      <td>29.0</td>\n",
              "      <td>55.25</td>\n",
              "      <td>350.0</td>\n",
              "      <td>12.0</td>\n",
              "      <td>7.000000</td>\n",
              "      <td>3.074824</td>\n",
              "      <td>2.0</td>\n",
              "      <td>5.75</td>\n",
              "      <td>6.5</td>\n",
              "      <td>8.00</td>\n",
              "      <td>13.0</td>\n",
              "    </tr>\n",
              "    <tr>\n",
              "      <th>38</th>\n",
              "      <td>9.0</td>\n",
              "      <td>14801.555556</td>\n",
              "      <td>7790.238830</td>\n",
              "      <td>5768.0</td>\n",
              "      <td>7464.00</td>\n",
              "      <td>14642.0</td>\n",
              "      <td>19540.00</td>\n",
              "      <td>25650.0</td>\n",
              "      <td>9.0</td>\n",
              "      <td>36.555556</td>\n",
              "      <td>30.553687</td>\n",
              "      <td>5.0</td>\n",
              "      <td>15.00</td>\n",
              "      <td>22.0</td>\n",
              "      <td>67.00</td>\n",
              "      <td>81.0</td>\n",
              "      <td>9.0</td>\n",
              "      <td>84.444444</td>\n",
              "      <td>117.218931</td>\n",
              "      <td>6.0</td>\n",
              "      <td>24.00</td>\n",
              "      <td>50.0</td>\n",
              "      <td>81.00</td>\n",
              "      <td>383.0</td>\n",
              "      <td>9.0</td>\n",
              "      <td>8.666667</td>\n",
              "      <td>4.000000</td>\n",
              "      <td>4.0</td>\n",
              "      <td>6.00</td>\n",
              "      <td>9.0</td>\n",
              "      <td>10.00</td>\n",
              "      <td>17.0</td>\n",
              "    </tr>\n",
              "    <tr>\n",
              "      <th>43</th>\n",
              "      <td>7.0</td>\n",
              "      <td>9310.714286</td>\n",
              "      <td>7251.762124</td>\n",
              "      <td>2416.0</td>\n",
              "      <td>3397.50</td>\n",
              "      <td>4930.0</td>\n",
              "      <td>16876.50</td>\n",
              "      <td>17281.0</td>\n",
              "      <td>7.0</td>\n",
              "      <td>37.142857</td>\n",
              "      <td>33.228645</td>\n",
              "      <td>3.0</td>\n",
              "      <td>10.00</td>\n",
              "      <td>22.0</td>\n",
              "      <td>67.00</td>\n",
              "      <td>81.0</td>\n",
              "      <td>7.0</td>\n",
              "      <td>73.142857</td>\n",
              "      <td>95.361468</td>\n",
              "      <td>14.0</td>\n",
              "      <td>19.00</td>\n",
              "      <td>55.0</td>\n",
              "      <td>60.50</td>\n",
              "      <td>284.0</td>\n",
              "      <td>7.0</td>\n",
              "      <td>12.285714</td>\n",
              "      <td>3.093773</td>\n",
              "      <td>9.0</td>\n",
              "      <td>9.50</td>\n",
              "      <td>12.0</td>\n",
              "      <td>15.00</td>\n",
              "      <td>16.0</td>\n",
              "    </tr>\n",
              "    <tr>\n",
              "      <th>...</th>\n",
              "      <td>...</td>\n",
              "      <td>...</td>\n",
              "      <td>...</td>\n",
              "      <td>...</td>\n",
              "      <td>...</td>\n",
              "      <td>...</td>\n",
              "      <td>...</td>\n",
              "      <td>...</td>\n",
              "      <td>...</td>\n",
              "      <td>...</td>\n",
              "      <td>...</td>\n",
              "      <td>...</td>\n",
              "      <td>...</td>\n",
              "      <td>...</td>\n",
              "      <td>...</td>\n",
              "      <td>...</td>\n",
              "      <td>...</td>\n",
              "      <td>...</td>\n",
              "      <td>...</td>\n",
              "      <td>...</td>\n",
              "      <td>...</td>\n",
              "      <td>...</td>\n",
              "      <td>...</td>\n",
              "      <td>...</td>\n",
              "      <td>...</td>\n",
              "      <td>...</td>\n",
              "      <td>...</td>\n",
              "      <td>...</td>\n",
              "      <td>...</td>\n",
              "      <td>...</td>\n",
              "      <td>...</td>\n",
              "      <td>...</td>\n",
              "    </tr>\n",
              "    <tr>\n",
              "      <th>6147</th>\n",
              "      <td>18.0</td>\n",
              "      <td>17980.055556</td>\n",
              "      <td>5176.177780</td>\n",
              "      <td>6688.0</td>\n",
              "      <td>12682.25</td>\n",
              "      <td>21004.0</td>\n",
              "      <td>21718.75</td>\n",
              "      <td>23344.0</td>\n",
              "      <td>18.0</td>\n",
              "      <td>31.277778</td>\n",
              "      <td>27.822559</td>\n",
              "      <td>3.0</td>\n",
              "      <td>15.00</td>\n",
              "      <td>21.0</td>\n",
              "      <td>57.75</td>\n",
              "      <td>81.0</td>\n",
              "      <td>18.0</td>\n",
              "      <td>132.500000</td>\n",
              "      <td>133.011388</td>\n",
              "      <td>6.0</td>\n",
              "      <td>35.00</td>\n",
              "      <td>66.5</td>\n",
              "      <td>246.00</td>\n",
              "      <td>356.0</td>\n",
              "      <td>18.0</td>\n",
              "      <td>9.888889</td>\n",
              "      <td>3.998366</td>\n",
              "      <td>4.0</td>\n",
              "      <td>7.00</td>\n",
              "      <td>9.5</td>\n",
              "      <td>11.75</td>\n",
              "      <td>18.0</td>\n",
              "    </tr>\n",
              "    <tr>\n",
              "      <th>6234</th>\n",
              "      <td>19.0</td>\n",
              "      <td>12927.631579</td>\n",
              "      <td>8611.706440</td>\n",
              "      <td>1823.0</td>\n",
              "      <td>6169.50</td>\n",
              "      <td>10519.0</td>\n",
              "      <td>21292.50</td>\n",
              "      <td>24669.0</td>\n",
              "      <td>19.0</td>\n",
              "      <td>30.421053</td>\n",
              "      <td>26.986243</td>\n",
              "      <td>3.0</td>\n",
              "      <td>15.00</td>\n",
              "      <td>21.0</td>\n",
              "      <td>48.50</td>\n",
              "      <td>81.0</td>\n",
              "      <td>19.0</td>\n",
              "      <td>154.000000</td>\n",
              "      <td>140.747212</td>\n",
              "      <td>6.0</td>\n",
              "      <td>50.00</td>\n",
              "      <td>93.0</td>\n",
              "      <td>304.00</td>\n",
              "      <td>383.0</td>\n",
              "      <td>19.0</td>\n",
              "      <td>16.789474</td>\n",
              "      <td>31.302430</td>\n",
              "      <td>2.0</td>\n",
              "      <td>5.00</td>\n",
              "      <td>8.0</td>\n",
              "      <td>13.00</td>\n",
              "      <td>142.0</td>\n",
              "    </tr>\n",
              "    <tr>\n",
              "      <th>6235</th>\n",
              "      <td>40.0</td>\n",
              "      <td>12172.250000</td>\n",
              "      <td>7277.186579</td>\n",
              "      <td>130.0</td>\n",
              "      <td>6154.00</td>\n",
              "      <td>14189.5</td>\n",
              "      <td>18168.75</td>\n",
              "      <td>21801.0</td>\n",
              "      <td>40.0</td>\n",
              "      <td>37.350000</td>\n",
              "      <td>30.335348</td>\n",
              "      <td>3.0</td>\n",
              "      <td>15.00</td>\n",
              "      <td>22.0</td>\n",
              "      <td>67.00</td>\n",
              "      <td>81.0</td>\n",
              "      <td>40.0</td>\n",
              "      <td>106.475000</td>\n",
              "      <td>118.956572</td>\n",
              "      <td>3.0</td>\n",
              "      <td>20.00</td>\n",
              "      <td>67.0</td>\n",
              "      <td>111.00</td>\n",
              "      <td>375.0</td>\n",
              "      <td>40.0</td>\n",
              "      <td>8.550000</td>\n",
              "      <td>4.373287</td>\n",
              "      <td>1.0</td>\n",
              "      <td>5.00</td>\n",
              "      <td>9.0</td>\n",
              "      <td>10.25</td>\n",
              "      <td>18.0</td>\n",
              "    </tr>\n",
              "    <tr>\n",
              "      <th>6315</th>\n",
              "      <td>1.0</td>\n",
              "      <td>20831.000000</td>\n",
              "      <td>NaN</td>\n",
              "      <td>20831.0</td>\n",
              "      <td>20831.00</td>\n",
              "      <td>20831.0</td>\n",
              "      <td>20831.00</td>\n",
              "      <td>20831.0</td>\n",
              "      <td>1.0</td>\n",
              "      <td>21.000000</td>\n",
              "      <td>NaN</td>\n",
              "      <td>21.0</td>\n",
              "      <td>21.00</td>\n",
              "      <td>21.0</td>\n",
              "      <td>21.00</td>\n",
              "      <td>21.0</td>\n",
              "      <td>1.0</td>\n",
              "      <td>50.000000</td>\n",
              "      <td>NaN</td>\n",
              "      <td>50.0</td>\n",
              "      <td>50.00</td>\n",
              "      <td>50.0</td>\n",
              "      <td>50.00</td>\n",
              "      <td>50.0</td>\n",
              "      <td>1.0</td>\n",
              "      <td>7.000000</td>\n",
              "      <td>NaN</td>\n",
              "      <td>7.0</td>\n",
              "      <td>7.00</td>\n",
              "      <td>7.0</td>\n",
              "      <td>7.00</td>\n",
              "      <td>7.0</td>\n",
              "    </tr>\n",
              "    <tr>\n",
              "      <th>6638</th>\n",
              "      <td>5.0</td>\n",
              "      <td>8152.600000</td>\n",
              "      <td>772.895724</td>\n",
              "      <td>6815.0</td>\n",
              "      <td>8300.00</td>\n",
              "      <td>8380.0</td>\n",
              "      <td>8456.00</td>\n",
              "      <td>8812.0</td>\n",
              "      <td>5.0</td>\n",
              "      <td>35.200000</td>\n",
              "      <td>29.600676</td>\n",
              "      <td>5.0</td>\n",
              "      <td>16.00</td>\n",
              "      <td>21.0</td>\n",
              "      <td>67.00</td>\n",
              "      <td>67.0</td>\n",
              "      <td>5.0</td>\n",
              "      <td>151.800000</td>\n",
              "      <td>175.620899</td>\n",
              "      <td>16.0</td>\n",
              "      <td>19.00</td>\n",
              "      <td>36.0</td>\n",
              "      <td>343.00</td>\n",
              "      <td>345.0</td>\n",
              "      <td>5.0</td>\n",
              "      <td>7.200000</td>\n",
              "      <td>1.923538</td>\n",
              "      <td>5.0</td>\n",
              "      <td>6.00</td>\n",
              "      <td>7.0</td>\n",
              "      <td>8.00</td>\n",
              "      <td>10.0</td>\n",
              "    </tr>\n",
              "  </tbody>\n",
              "</table>\n",
              "<p>1805 rows × 32 columns</p>\n",
              "</div>"
            ],
            "text/plain": [
              "        Unnamed: 0                             ... duration_time              \n",
              "             count          mean          std  ...           50%    75%    max\n",
              "bike_id                                        ...                            \n",
              "11             3.0   6861.000000  3671.053936  ...           5.0   8.50   12.0\n",
              "27            18.0  13404.722222  7910.772364  ...          11.0  15.25   25.0\n",
              "37            12.0  10026.583333  5629.998990  ...           6.5   8.00   13.0\n",
              "38             9.0  14801.555556  7790.238830  ...           9.0  10.00   17.0\n",
              "43             7.0   9310.714286  7251.762124  ...          12.0  15.00   16.0\n",
              "...            ...           ...          ...  ...           ...    ...    ...\n",
              "6147          18.0  17980.055556  5176.177780  ...           9.5  11.75   18.0\n",
              "6234          19.0  12927.631579  8611.706440  ...           8.0  13.00  142.0\n",
              "6235          40.0  12172.250000  7277.186579  ...           9.0  10.25   18.0\n",
              "6315           1.0  20831.000000          NaN  ...           7.0   7.00    7.0\n",
              "6638           5.0   8152.600000   772.895724  ...           7.0   8.00   10.0\n",
              "\n",
              "[1805 rows x 32 columns]"
            ]
          },
          "metadata": {
            "tags": []
          },
          "execution_count": 71
        }
      ]
    },
    {
      "cell_type": "code",
      "metadata": {
        "id": "SZMQn8XnZyJX"
      },
      "source": [
        "Chapter 5\n",
        "topic 5.2\n",
        "you’ll learn how to fix whitespace and capitalization inconsistencies in \n",
        "category labels, collapse multiple categories into one, and reformat strings \n",
        "for consistency."
      ],
      "execution_count": null,
      "outputs": []
    },
    {
      "cell_type": "code",
      "metadata": {
        "id": "B5KKOFS_MsoG"
      },
      "source": [
        "import pandas as pd\n",
        "import matplotlib.pyplot as plt\n",
        "import numpy as np\n",
        "\n",
        "airlines = pd.read_csv('airlines_final.csv')"
      ],
      "execution_count": null,
      "outputs": []
    },
    {
      "cell_type": "code",
      "metadata": {
        "colab": {
          "base_uri": "https://localhost:8080/",
          "height": 316
        },
        "id": "JHAY27x0iocz",
        "outputId": "06652764-0da9-481b-814a-e9978f022b85"
      },
      "source": [
        "# Print categories DataFrame\n",
        "airlines.head()"
      ],
      "execution_count": null,
      "outputs": [
        {
          "output_type": "execute_result",
          "data": {
            "text/html": [
              "<div>\n",
              "<style scoped>\n",
              "    .dataframe tbody tr th:only-of-type {\n",
              "        vertical-align: middle;\n",
              "    }\n",
              "\n",
              "    .dataframe tbody tr th {\n",
              "        vertical-align: top;\n",
              "    }\n",
              "\n",
              "    .dataframe thead th {\n",
              "        text-align: right;\n",
              "    }\n",
              "</style>\n",
              "<table border=\"1\" class=\"dataframe\">\n",
              "  <thead>\n",
              "    <tr style=\"text-align: right;\">\n",
              "      <th></th>\n",
              "      <th>Unnamed: 0</th>\n",
              "      <th>id</th>\n",
              "      <th>day</th>\n",
              "      <th>airline</th>\n",
              "      <th>destination</th>\n",
              "      <th>dest_region</th>\n",
              "      <th>dest_size</th>\n",
              "      <th>boarding_area</th>\n",
              "      <th>dept_time</th>\n",
              "      <th>wait_min</th>\n",
              "      <th>cleanliness</th>\n",
              "      <th>safety</th>\n",
              "      <th>satisfaction</th>\n",
              "    </tr>\n",
              "  </thead>\n",
              "  <tbody>\n",
              "    <tr>\n",
              "      <th>0</th>\n",
              "      <td>0</td>\n",
              "      <td>1351</td>\n",
              "      <td>Tuesday</td>\n",
              "      <td>UNITED INTL</td>\n",
              "      <td>KANSAI</td>\n",
              "      <td>Asia</td>\n",
              "      <td>Hub</td>\n",
              "      <td>Gates 91-102</td>\n",
              "      <td>2018-12-31</td>\n",
              "      <td>115.0</td>\n",
              "      <td>Clean</td>\n",
              "      <td>Neutral</td>\n",
              "      <td>Very satisfied</td>\n",
              "    </tr>\n",
              "    <tr>\n",
              "      <th>1</th>\n",
              "      <td>1</td>\n",
              "      <td>373</td>\n",
              "      <td>Friday</td>\n",
              "      <td>ALASKA</td>\n",
              "      <td>SAN JOSE DEL CABO</td>\n",
              "      <td>Canada/Mexico</td>\n",
              "      <td>Small</td>\n",
              "      <td>Gates 50-59</td>\n",
              "      <td>2018-12-31</td>\n",
              "      <td>135.0</td>\n",
              "      <td>Clean</td>\n",
              "      <td>Very safe</td>\n",
              "      <td>Very satisfied</td>\n",
              "    </tr>\n",
              "    <tr>\n",
              "      <th>2</th>\n",
              "      <td>2</td>\n",
              "      <td>2820</td>\n",
              "      <td>Thursday</td>\n",
              "      <td>DELTA</td>\n",
              "      <td>LOS ANGELES</td>\n",
              "      <td>West US</td>\n",
              "      <td>Hub</td>\n",
              "      <td>Gates 40-48</td>\n",
              "      <td>2018-12-31</td>\n",
              "      <td>70.0</td>\n",
              "      <td>Average</td>\n",
              "      <td>Somewhat safe</td>\n",
              "      <td>Neutral</td>\n",
              "    </tr>\n",
              "    <tr>\n",
              "      <th>3</th>\n",
              "      <td>3</td>\n",
              "      <td>1157</td>\n",
              "      <td>Tuesday</td>\n",
              "      <td>SOUTHWEST</td>\n",
              "      <td>LOS ANGELES</td>\n",
              "      <td>West US</td>\n",
              "      <td>Hub</td>\n",
              "      <td>Gates 20-39</td>\n",
              "      <td>2018-12-31</td>\n",
              "      <td>190.0</td>\n",
              "      <td>Clean</td>\n",
              "      <td>Very safe</td>\n",
              "      <td>Somewhat satsified</td>\n",
              "    </tr>\n",
              "    <tr>\n",
              "      <th>4</th>\n",
              "      <td>4</td>\n",
              "      <td>2992</td>\n",
              "      <td>Wednesday</td>\n",
              "      <td>AMERICAN</td>\n",
              "      <td>MIAMI</td>\n",
              "      <td>East US</td>\n",
              "      <td>Hub</td>\n",
              "      <td>Gates 50-59</td>\n",
              "      <td>2018-12-31</td>\n",
              "      <td>559.0</td>\n",
              "      <td>Somewhat clean</td>\n",
              "      <td>Very safe</td>\n",
              "      <td>Somewhat satsified</td>\n",
              "    </tr>\n",
              "  </tbody>\n",
              "</table>\n",
              "</div>"
            ],
            "text/plain": [
              "   Unnamed: 0    id  ...         safety        satisfaction\n",
              "0           0  1351  ...        Neutral      Very satisfied\n",
              "1           1   373  ...      Very safe      Very satisfied\n",
              "2           2  2820  ...  Somewhat safe             Neutral\n",
              "3           3  1157  ...      Very safe  Somewhat satsified\n",
              "4           4  2992  ...      Very safe  Somewhat satsified\n",
              "\n",
              "[5 rows x 13 columns]"
            ]
          },
          "metadata": {
            "tags": []
          },
          "execution_count": 66
        }
      ]
    },
    {
      "cell_type": "code",
      "metadata": {
        "colab": {
          "base_uri": "https://localhost:8080/"
        },
        "id": "lQaml1Fvk0az",
        "outputId": "f1008c3e-22bc-4394-8440-819a7a373605"
      },
      "source": [
        "airlines.info()"
      ],
      "execution_count": null,
      "outputs": [
        {
          "output_type": "stream",
          "text": [
            "<class 'pandas.core.frame.DataFrame'>\n",
            "RangeIndex: 2477 entries, 0 to 2476\n",
            "Data columns (total 13 columns):\n",
            " #   Column         Non-Null Count  Dtype  \n",
            "---  ------         --------------  -----  \n",
            " 0   Unnamed: 0     2477 non-null   int64  \n",
            " 1   id             2477 non-null   int64  \n",
            " 2   day            2477 non-null   object \n",
            " 3   airline        2477 non-null   object \n",
            " 4   destination    2477 non-null   object \n",
            " 5   dest_region    2477 non-null   object \n",
            " 6   dest_size      2477 non-null   object \n",
            " 7   boarding_area  2477 non-null   object \n",
            " 8   dept_time      2477 non-null   object \n",
            " 9   wait_min       2477 non-null   float64\n",
            " 10  cleanliness    2477 non-null   object \n",
            " 11  safety         2477 non-null   object \n",
            " 12  satisfaction   2477 non-null   object \n",
            "dtypes: float64(1), int64(2), object(10)\n",
            "memory usage: 251.7+ KB\n"
          ],
          "name": "stdout"
        }
      ]
    },
    {
      "cell_type": "code",
      "metadata": {
        "colab": {
          "base_uri": "https://localhost:8080/"
        },
        "id": "4lKKMHWfjl0o",
        "outputId": "18c41073-45c7-48cb-be05-fdd345b842d3"
      },
      "source": [
        "airlines.columns"
      ],
      "execution_count": null,
      "outputs": [
        {
          "output_type": "execute_result",
          "data": {
            "text/plain": [
              "Index(['Unnamed: 0', 'id', 'day', 'airline', 'destination', 'dest_region',\n",
              "       'dest_size', 'boarding_area', 'dept_time', 'wait_min', 'cleanliness',\n",
              "       'safety', 'satisfaction'],\n",
              "      dtype='object')"
            ]
          },
          "metadata": {
            "tags": []
          },
          "execution_count": 4
        }
      ]
    },
    {
      "cell_type": "code",
      "metadata": {
        "colab": {
          "base_uri": "https://localhost:8080/"
        },
        "id": "9D3nEdESkQWj",
        "outputId": "c4fecae7-f323-439a-db16-77194f436656"
      },
      "source": [
        "airlines.id"
      ],
      "execution_count": null,
      "outputs": [
        {
          "output_type": "execute_result",
          "data": {
            "text/plain": [
              "0       1351\n",
              "1        373\n",
              "2       2820\n",
              "3       1157\n",
              "4       2992\n",
              "        ... \n",
              "2472    1475\n",
              "2473    2222\n",
              "2474    2684\n",
              "2475    2549\n",
              "2476    2162\n",
              "Name: id, Length: 2477, dtype: int64"
            ]
          },
          "metadata": {
            "tags": []
          },
          "execution_count": 5
        }
      ]
    },
    {
      "cell_type": "code",
      "metadata": {
        "colab": {
          "base_uri": "https://localhost:8080/"
        },
        "id": "VZJwbZpuktJ_",
        "outputId": "7e0fb6cb-535e-4814-ce9b-9700d1603682"
      },
      "source": [
        "airlines.satisfaction"
      ],
      "execution_count": null,
      "outputs": [
        {
          "output_type": "execute_result",
          "data": {
            "text/plain": [
              "0           Very satisfied\n",
              "1           Very satisfied\n",
              "2                  Neutral\n",
              "3       Somewhat satsified\n",
              "4       Somewhat satsified\n",
              "               ...        \n",
              "2472    Somewhat satsified\n",
              "2473        Very satisfied\n",
              "2474        Very satisfied\n",
              "2475        Very satisfied\n",
              "2476    Somewhat satsified\n",
              "Name: satisfaction, Length: 2477, dtype: object"
            ]
          },
          "metadata": {
            "tags": []
          },
          "execution_count": 6
        }
      ]
    },
    {
      "cell_type": "code",
      "metadata": {
        "colab": {
          "base_uri": "https://localhost:8080/"
        },
        "id": "LfCmlo8M-mqa",
        "outputId": "88d69017-45d5-4d96-cf87-4c18c487adad"
      },
      "source": [
        "# Print unique values of survey columns in airlines\n",
        "print('Cleanliness: ', airlines['cleanliness'].unique(), \"\\n\")\n",
        "print('Safety: ', airlines['safety'].unique(), \"\\n\")\n",
        "print('Satisfaction: ', airlines['satisfaction'].unique(), \"\\n\")"
      ],
      "execution_count": null,
      "outputs": [
        {
          "output_type": "stream",
          "text": [
            "Cleanliness:  ['Clean' 'Average' 'Somewhat clean' 'Somewhat dirty' 'Dirty'] \n",
            "\n",
            "Safety:  ['Neutral' 'Very safe' 'Somewhat safe' 'Very unsafe' 'Somewhat unsafe'] \n",
            "\n",
            "Satisfaction:  ['Very satisfied' 'Neutral' 'Somewhat satsified' 'Somewhat unsatisfied'\n",
            " 'Very unsatisfied'] \n",
            "\n"
          ],
          "name": "stdout"
        }
      ]
    },
    {
      "cell_type": "code",
      "metadata": {
        "colab": {
          "base_uri": "https://localhost:8080/"
        },
        "id": "vpO8kJmFDZh6",
        "outputId": "ce1b0f48-b59d-4e16-aa76-c255211569cd"
      },
      "source": [
        "# Print unique values of both columns\n",
        "print(airlines['dest_region'].unique())\n",
        "print(airlines['dest_size'].unique())"
      ],
      "execution_count": null,
      "outputs": [
        {
          "output_type": "stream",
          "text": [
            "['Asia' 'Canada/Mexico' 'West US' 'East US' 'Midwest US' 'EAST US'\n",
            " 'Middle East' 'Europe' 'eur' 'Central/South America'\n",
            " 'Australia/New Zealand' 'middle east']\n",
            "['Hub' 'Small' '    Hub' 'Medium' 'Large' 'Hub     ' '    Small'\n",
            " 'Medium     ' '    Medium' 'Small     ' '    Large' 'Large     ']\n"
          ],
          "name": "stdout"
        }
      ]
    },
    {
      "cell_type": "code",
      "metadata": {
        "colab": {
          "base_uri": "https://localhost:8080/"
        },
        "id": "yJo_YGpoyLRm",
        "outputId": "128511f4-8bd1-4ed3-d8f3-68d62bf4f51a"
      },
      "source": [
        "airlines.columns"
      ],
      "execution_count": null,
      "outputs": [
        {
          "output_type": "execute_result",
          "data": {
            "text/plain": [
              "Index(['Unnamed: 0', 'id', 'day', 'airline', 'destination', 'dest_region',\n",
              "       'dest_size', 'boarding_area', 'dept_time', 'wait_min', 'cleanliness',\n",
              "       'safety', 'satisfaction', 'wait_type', 'day_week'],\n",
              "      dtype='object')"
            ]
          },
          "metadata": {
            "tags": []
          },
          "execution_count": 19
        }
      ]
    },
    {
      "cell_type": "code",
      "metadata": {
        "id": "VkB7nFekDaZ4",
        "colab": {
          "base_uri": "https://localhost:8080/"
        },
        "outputId": "b982bba1-f28a-44d8-e60e-3cd1bab7497f"
      },
      "source": [
        "# Create ranges for categories\n",
        "label_ranges = [0, 60, 180, np.inf]\n",
        "print(type(label_ranges[3]))\n",
        "\n",
        "\n",
        "label_names = ['short', 'medium', 'long']\n",
        "\n",
        "# Create wait_type column\n",
        "airlines['wait_type'] = pd.cut(airlines['wait_min'], bins = label_ranges, \n",
        "                               labels = label_names)\n",
        "\n",
        "# Create mappings and replace\n",
        "mappings = {'Monday':'weekday', 'Tuesday':' weekday', 'Wednesday': 'weekday', \n",
        "            'Thursday': 'weekday', 'Friday': 'weekday', \n",
        "            'Saturday': 'First weekend', 'Sunday': 'Last weekend'}\n",
        "\n",
        "airlines['day_week'] = airlines['day'].replace(mappings)"
      ],
      "execution_count": null,
      "outputs": [
        {
          "output_type": "stream",
          "text": [
            "<class 'float'>\n"
          ],
          "name": "stdout"
        }
      ]
    },
    {
      "cell_type": "code",
      "metadata": {
        "colab": {
          "base_uri": "https://localhost:8080/",
          "height": 418
        },
        "id": "dTJrpWNfzTtW",
        "outputId": "3cda3259-6c99-4e54-ded8-066ed3b0b428"
      },
      "source": [
        "print(airlines['wait_min'].max())\r\n",
        "airlines[['wait_type','wait_min']]"
      ],
      "execution_count": null,
      "outputs": [
        {
          "output_type": "stream",
          "text": [
            "1365.0\n"
          ],
          "name": "stdout"
        },
        {
          "output_type": "execute_result",
          "data": {
            "text/html": [
              "<div>\n",
              "<style scoped>\n",
              "    .dataframe tbody tr th:only-of-type {\n",
              "        vertical-align: middle;\n",
              "    }\n",
              "\n",
              "    .dataframe tbody tr th {\n",
              "        vertical-align: top;\n",
              "    }\n",
              "\n",
              "    .dataframe thead th {\n",
              "        text-align: right;\n",
              "    }\n",
              "</style>\n",
              "<table border=\"1\" class=\"dataframe\">\n",
              "  <thead>\n",
              "    <tr style=\"text-align: right;\">\n",
              "      <th></th>\n",
              "      <th>wait_type</th>\n",
              "      <th>wait_min</th>\n",
              "    </tr>\n",
              "  </thead>\n",
              "  <tbody>\n",
              "    <tr>\n",
              "      <th>0</th>\n",
              "      <td>medium</td>\n",
              "      <td>115.0</td>\n",
              "    </tr>\n",
              "    <tr>\n",
              "      <th>1</th>\n",
              "      <td>medium</td>\n",
              "      <td>135.0</td>\n",
              "    </tr>\n",
              "    <tr>\n",
              "      <th>2</th>\n",
              "      <td>medium</td>\n",
              "      <td>70.0</td>\n",
              "    </tr>\n",
              "    <tr>\n",
              "      <th>3</th>\n",
              "      <td>long</td>\n",
              "      <td>190.0</td>\n",
              "    </tr>\n",
              "    <tr>\n",
              "      <th>4</th>\n",
              "      <td>long</td>\n",
              "      <td>559.0</td>\n",
              "    </tr>\n",
              "    <tr>\n",
              "      <th>...</th>\n",
              "      <td>...</td>\n",
              "      <td>...</td>\n",
              "    </tr>\n",
              "    <tr>\n",
              "      <th>2472</th>\n",
              "      <td>long</td>\n",
              "      <td>280.0</td>\n",
              "    </tr>\n",
              "    <tr>\n",
              "      <th>2473</th>\n",
              "      <td>medium</td>\n",
              "      <td>165.0</td>\n",
              "    </tr>\n",
              "    <tr>\n",
              "      <th>2474</th>\n",
              "      <td>medium</td>\n",
              "      <td>92.0</td>\n",
              "    </tr>\n",
              "    <tr>\n",
              "      <th>2475</th>\n",
              "      <td>medium</td>\n",
              "      <td>95.0</td>\n",
              "    </tr>\n",
              "    <tr>\n",
              "      <th>2476</th>\n",
              "      <td>long</td>\n",
              "      <td>220.0</td>\n",
              "    </tr>\n",
              "  </tbody>\n",
              "</table>\n",
              "<p>2477 rows × 2 columns</p>\n",
              "</div>"
            ],
            "text/plain": [
              "     wait_type  wait_min\n",
              "0       medium     115.0\n",
              "1       medium     135.0\n",
              "2       medium      70.0\n",
              "3         long     190.0\n",
              "4         long     559.0\n",
              "...        ...       ...\n",
              "2472      long     280.0\n",
              "2473    medium     165.0\n",
              "2474    medium      92.0\n",
              "2475    medium      95.0\n",
              "2476      long     220.0\n",
              "\n",
              "[2477 rows x 2 columns]"
            ]
          },
          "metadata": {
            "tags": []
          },
          "execution_count": 52
        }
      ]
    },
    {
      "cell_type": "code",
      "metadata": {
        "colab": {
          "base_uri": "https://localhost:8080/"
        },
        "id": "YHwTQnDj1pJ8",
        "outputId": "98470952-9a26-433a-bc8a-ab29503ba5f2"
      },
      "source": [
        "airlines.day_week.head(100)"
      ],
      "execution_count": null,
      "outputs": [
        {
          "output_type": "execute_result",
          "data": {
            "text/plain": [
              "0           weekday\n",
              "1           weekday\n",
              "2           weekday\n",
              "3           weekday\n",
              "4           weekday\n",
              "          ...      \n",
              "95     Last weekend\n",
              "96          weekday\n",
              "97          weekday\n",
              "98    First weekend\n",
              "99          weekday\n",
              "Name: day_week, Length: 100, dtype: object"
            ]
          },
          "metadata": {
            "tags": []
          },
          "execution_count": 43
        }
      ]
    },
    {
      "cell_type": "code",
      "metadata": {
        "id": "HbyISA8D2j57"
      },
      "source": [
        "assert airlines['day_week'].str.contains('Ms.|First|Miss|Last').any() == False"
      ],
      "execution_count": null,
      "outputs": []
    },
    {
      "cell_type": "code",
      "metadata": {
        "id": "Bv4ykhoNDkmC"
      },
      "source": [
        "# Replace \"Dr.\" with empty string \"\"\n",
        "airlines['day_week'] = airlines['day_week'].str.replace(\"Last \",\"\")\n",
        "\n",
        "# Replace \"Mr.\" with empty string \"\"\n",
        "airlines['day_week'] = airlines['day_week'].str.replace(\"First \",\"\")\n",
        "\n",
        "# Replace \"Miss\" with empty string \"\"\n",
        "airlines['day_week'] = airlines['day_week'].str.replace(\"Miss\",\"\")\n",
        "\n",
        "# Replace \"Ms.\" with empty string \"\"\n",
        "airlines['day_week'] = airlines['day_week'].str.replace(\"Ms.\",\"\")\n",
        "\n"
      ],
      "execution_count": null,
      "outputs": []
    },
    {
      "cell_type": "code",
      "metadata": {
        "id": "-BxxOm0K2vRB"
      },
      "source": [
        "# Assert that full_name has no honorifics\r\n",
        "assert airlines['day_week'].str.contains('Ms.|Mr.|Miss|Last').any() == False"
      ],
      "execution_count": null,
      "outputs": []
    },
    {
      "cell_type": "code",
      "metadata": {
        "colab": {
          "base_uri": "https://localhost:8080/"
        },
        "id": "DNM2QCnjDobQ",
        "outputId": "46368a31-75f9-45b1-f29d-ee970c588ccd"
      },
      "source": [
        "# Store length of each row in survey_response column\n",
        "resp_length = airlines['day_week'].str.len()\n",
        "print(resp_length)\n",
        "\n",
        "# Find rows in airlines where resp_length > 40\n",
        "airlines_survey = airlines[resp_length < 40]\n",
        "print(airlines_survey)\n",
        "\n",
        "# Assert minimum survey_response length is > 40\n",
        "assert airlines_survey['day_week'].str.len().min() ==7\n",
        "\n",
        "# Print new survey_response column\n",
        "print(airlines_survey['day_week'])"
      ],
      "execution_count": null,
      "outputs": [
        {
          "output_type": "stream",
          "text": [
            "0       8\n",
            "1       7\n",
            "2       7\n",
            "3       8\n",
            "4       7\n",
            "       ..\n",
            "2472    8\n",
            "2473    7\n",
            "2474    7\n",
            "2475    8\n",
            "2476    7\n",
            "Name: day_week, Length: 2477, dtype: int64\n",
            "      Unnamed: 0    id        day  ...        satisfaction wait_type  day_week\n",
            "0              0  1351    Tuesday  ...      Very satisfied    medium   weekday\n",
            "1              1   373     Friday  ...      Very satisfied    medium   weekday\n",
            "2              2  2820   Thursday  ...             Neutral    medium   weekday\n",
            "3              3  1157    Tuesday  ...  Somewhat satsified      long   weekday\n",
            "4              4  2992  Wednesday  ...  Somewhat satsified      long   weekday\n",
            "...          ...   ...        ...  ...                 ...       ...       ...\n",
            "2472        2804  1475    Tuesday  ...  Somewhat satsified      long   weekday\n",
            "2473        2805  2222   Thursday  ...      Very satisfied    medium   weekday\n",
            "2474        2806  2684     Friday  ...      Very satisfied    medium   weekday\n",
            "2475        2807  2549    Tuesday  ...      Very satisfied    medium   weekday\n",
            "2476        2808  2162   Saturday  ...  Somewhat satsified      long   weekend\n",
            "\n",
            "[2477 rows x 15 columns]\n",
            "0        weekday\n",
            "1        weekday\n",
            "2        weekday\n",
            "3        weekday\n",
            "4        weekday\n",
            "          ...   \n",
            "2472     weekday\n",
            "2473     weekday\n",
            "2474     weekday\n",
            "2475     weekday\n",
            "2476     weekend\n",
            "Name: day_week, Length: 2477, dtype: object\n"
          ],
          "name": "stdout"
        }
      ]
    }
  ]
}